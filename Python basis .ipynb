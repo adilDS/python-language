{
 "cells": [
  {
   "cell_type": "markdown",
   "id": "e5fd50cc-a4f4-4dd4-9811-8c011cad102c",
   "metadata": {},
   "source": [
    "(Q) What is Python?\n",
    "\n",
    "\n",
    "(A) *Python is a programming language that is interpreted,object-oriented,and considered to be high level too.\n",
    "\n",
    "    -Python is one of the easiest yet most useful programming languages which is widely used in the software industry.\n",
    "    \n",
    "    -Python is a set of instruction that we give in the form of a Program to our computer to perform any specific task.\n",
    "    \n",
    "    -Python is a programming language that lets you work quickly and integrate systems more effectively.\n",
    "    \n",
    "    -python is a powerful, high level programming language known for its readability and simplicity.\n",
    "    \n",
    "\n",
    "\n",
    "    \n",
    "(Q) History of python?\n",
    "\n",
    "\n",
    "(A) *Python was created in 1980s by Guido van Rossum.\n",
    "\n",
    "    -During his research at the National Research Institute for Mathematics and Computer Science in the Netherlands, he created Python.\n",
    "    \n",
    "    -A super easy programming language in terms of reading and usage.\n",
    "    \n",
    "    -The first ever version was released in the year 1991 which had only a few built-in data types and basic functionality.\n",
    "    \n",
    "    -It was known as python0.9.0 released in February 1991.\n",
    "    \n",
    "    -Python1.0 version was released in January 1994.\n",
    "    \n",
    "    -Python2.0 version was launched in October 2000.\n",
    "    \n",
    "    -Python3.0 version was released in December 2008."
   ]
  },
  {
   "cell_type": "markdown",
   "id": "b1376b08-f263-4d18-9309-bffc316bb173",
   "metadata": {},
   "source": [
    "(Q) Features of Python?\n",
    "\n",
    "\n",
    "(A) *Features of Python programming language:\n",
    "\n",
    "    -Free and Open Source.\n",
    "    \n",
    "    -Easy to code.\n",
    "    \n",
    "    -Easy to Read.\n",
    "    \n",
    "    -Object-Oriented Language.\n",
    "    \n",
    "    -GUI Programming Support.\n",
    "    \n",
    "    -High-Level Language.\n",
    "    \n",
    "    -Large Community Support.\n",
    "    \n",
    "    -Easy to Debug.\n",
    "    \n",
    "    -Python is a Portable language.\n",
    "    \n",
    "    -Python is an Integrated language.\n",
    "    \n",
    "    -Interpreted Language.\n",
    "    \n",
    "    -Large Standard Library.\n",
    "    \n",
    "    -Dynamically Typed Language.\n",
    "    \n",
    "    -Frontend and backend development.\n",
    "    \n",
    "    -Allocating Memory Dynamically."
   ]
  },
  {
   "cell_type": "markdown",
   "id": "395f8c4f-c6a5-4d1e-97ef-2cfccfc8f74c",
   "metadata": {},
   "source": [
    "(Q) Comment:\n",
    "\n",
    "\n",
    "(A) *Comments enhance the readability of the code and help the programmers to understand the code very carefully. \n",
    "\n",
    "    -It also helps in collaborating with other developers as adding comments makes it easier to explain the code.\n",
    "\n",
    "    -Comments in Python are the lines in the code that are ignored by the interpreter during the execution of the program.\n",
    "\n",
    "    *Types of Comments in Python\n",
    "\n",
    "    -Single line Comments.\n",
    "        \n",
    "    -Multiline Comments.\n",
    "        \n",
    "    -String Literals.\n",
    "        \n",
    "    -Docstring Comments."
   ]
  },
  {
   "cell_type": "markdown",
   "id": "beee86ed-60b9-497f-8d2a-e8fd5a99e12b",
   "metadata": {},
   "source": [
    "(Q) Keywords:\n",
    "\n",
    "\n",
    "(A) *Keywords in Python are reserved words that can not be used as a variable name,function name or any other identifier.\n",
    "\n",
    "    -Every language contains words and a set of rules that would make a sentence meaningful. \n",
    "\n",
    "    -Similarly,in Python programming language,there are a set of predefined words,called Keywords which along with Identifiers will form meaningful sentences when used together.\n",
    "\n",
    "    -Python keywords cannot be used as the names of variables,functions and classes."
   ]
  },
  {
   "cell_type": "code",
   "execution_count": 2,
   "id": "00188744-393c-4deb-8afe-8e9ac5b97249",
   "metadata": {},
   "outputs": [
    {
     "name": "stdout",
     "output_type": "stream",
     "text": [
      "['False', 'None', 'True', 'and', 'as', 'assert', 'async', 'await', 'break', 'class', 'continue', 'def', 'del', 'elif', 'else', 'except', 'finally', 'for', 'from', 'global', 'if', 'import', 'in', 'is', 'lambda', 'nonlocal', 'not', 'or', 'pass', 'raise', 'return', 'try', 'while', 'with', 'yield']\n"
     ]
    },
    {
     "data": {
      "text/plain": [
       "35"
      ]
     },
     "execution_count": 2,
     "metadata": {},
     "output_type": "execute_result"
    }
   ],
   "source": [
    "import keyword\n",
    "\n",
    "python_keywords=keyword.kwlist\n",
    "\n",
    "print(python_keywords)\n",
    "\n",
    "len(python_keywords)"
   ]
  },
  {
   "cell_type": "markdown",
   "id": "8b60e0bd-9e41-4ba2-9e9c-a78e508c9dde",
   "metadata": {},
   "source": [
    "(Q) What is variable?\n",
    "\n",
    "\n",
    "(A) *Python Variable is containers that store values.\n",
    "\n",
    "    -Python is not statically typed.\n",
    "\n",
    "    -We do not need to declare variables before using them or declare their type.\n",
    "\n",
    "    -A variable is created the moment we first assign a value to it.\n",
    "\n",
    "    -A Python variable is a name given to a memory location.\n",
    "\n",
    "    -It is the basic unit of storage in a program.\n",
    "\n",
    "    -In this article, we will see how to define a variable in Python.\n",
    "\n",
    "\n",
    "\n",
    "\n",
    "(Q) Rules to create a variable?\n",
    "\n",
    "\n",
    "(A) *A Python variable name must start with a letter or the underscore character.\n",
    "    \n",
    "    -A Python variable name cannot start with a number.\n",
    "    \n",
    "    -A Python variable name can only contain alpha-numeric characters and underscores (A-z, 0-9, and _ ).\n",
    "\n",
    "    -Variable in Python names are case-sensitive (name, Name, and NAME are three different variables).\n",
    "\n",
    "    -The reserved words(keywords) in Python cannot be used to name the variable in Python.\n",
    "\n",
    "\n",
    "\n",
    " "
   ]
  },
  {
   "cell_type": "markdown",
   "id": "68d27f18-8a5a-4003-bb87-480fb9f0d704",
   "metadata": {},
   "source": [
    "  *Examples for varaibles"
   ]
  },
  {
   "cell_type": "code",
   "execution_count": 3,
   "id": "6e7b39fe-3191-4b8f-a615-51eb5f8fa93a",
   "metadata": {},
   "outputs": [],
   "source": [
    "lab=20"
   ]
  },
  {
   "cell_type": "code",
   "execution_count": 9,
   "id": "5c0f1db8-c71a-4a7f-a571-5789cf18032f",
   "metadata": {},
   "outputs": [
    {
     "name": "stdout",
     "output_type": "stream",
     "text": [
      "20\n"
     ]
    }
   ],
   "source": [
    "print(lab)"
   ]
  },
  {
   "cell_type": "code",
   "execution_count": 5,
   "id": "bbf9c21c-b8d0-463c-9bcd-50195a4de324",
   "metadata": {},
   "outputs": [],
   "source": [
    "cricket=11"
   ]
  },
  {
   "cell_type": "code",
   "execution_count": 7,
   "id": "2aaf6406-3000-4f68-8071-a2070e36dd4e",
   "metadata": {},
   "outputs": [
    {
     "name": "stdout",
     "output_type": "stream",
     "text": [
      "11\n"
     ]
    }
   ],
   "source": [
    "print(cricket)"
   ]
  },
  {
   "cell_type": "code",
   "execution_count": 11,
   "id": "52bbd95e-7f9c-4495-bcef-0b817775e650",
   "metadata": {},
   "outputs": [],
   "source": [
    "xy=873"
   ]
  },
  {
   "cell_type": "code",
   "execution_count": 13,
   "id": "e7ed7b8d-4d57-498a-b97c-7c5734499eb7",
   "metadata": {},
   "outputs": [],
   "source": [
    "LG=927"
   ]
  },
  {
   "cell_type": "code",
   "execution_count": 15,
   "id": "e7f261af-ceb7-40f4-b9f0-f7b51c9626a9",
   "metadata": {},
   "outputs": [],
   "source": [
    "Kd=646"
   ]
  },
  {
   "cell_type": "code",
   "execution_count": 17,
   "id": "14d2f60e-4572-4df4-a4be-44d8e5ccb57f",
   "metadata": {},
   "outputs": [],
   "source": [
    "_Kl=298"
   ]
  },
  {
   "cell_type": "code",
   "execution_count": 21,
   "id": "da480f2d-d3ec-46af-aca1-3a48c0bdeb46",
   "metadata": {},
   "outputs": [],
   "source": [
    "JSW=1837"
   ]
  },
  {
   "cell_type": "code",
   "execution_count": 23,
   "id": "51acc078-182d-4378-b76d-abf0edba5d1a",
   "metadata": {},
   "outputs": [],
   "source": [
    "geeks=654"
   ]
  },
  {
   "cell_type": "code",
   "execution_count": 25,
   "id": "d1fc7713-22f7-499a-8dc1-55796e8d03dd",
   "metadata": {},
   "outputs": [],
   "source": [
    "_jsh=725"
   ]
  },
  {
   "cell_type": "code",
   "execution_count": 27,
   "id": "59ad28d9-a915-44d8-9513-71d7fe93df6c",
   "metadata": {},
   "outputs": [],
   "source": [
    "_gsd=275"
   ]
  },
  {
   "cell_type": "code",
   "execution_count": 29,
   "id": "16cc59a2-614d-4325-bc13-c4cfc5b02f02",
   "metadata": {},
   "outputs": [],
   "source": [
    "_beg=16"
   ]
  },
  {
   "cell_type": "code",
   "execution_count": 31,
   "id": "14b6e51b-80d3-4d2d-968e-9afaff33e741",
   "metadata": {},
   "outputs": [],
   "source": [
    "_dfu=3847"
   ]
  },
  {
   "cell_type": "code",
   "execution_count": 33,
   "id": "0349f317-786c-4868-bfd6-c439dfa245c2",
   "metadata": {},
   "outputs": [],
   "source": [
    "_ugfh=746"
   ]
  },
  {
   "cell_type": "code",
   "execution_count": 35,
   "id": "8f716c76-b539-4a1a-84e7-9a3bf01569fa",
   "metadata": {},
   "outputs": [],
   "source": [
    "Llj=398"
   ]
  },
  {
   "cell_type": "code",
   "execution_count": 37,
   "id": "3b65a110-dff6-4e03-8476-b45a2fd77ea7",
   "metadata": {},
   "outputs": [],
   "source": [
    "HDFC=938"
   ]
  },
  {
   "cell_type": "code",
   "execution_count": 39,
   "id": "3f52d925-2286-47bd-bb0d-6ce82ab412c1",
   "metadata": {},
   "outputs": [],
   "source": [
    "JHD=47"
   ]
  },
  {
   "cell_type": "code",
   "execution_count": 50,
   "id": "090e37ae-c92b-4b23-b217-996815fc263a",
   "metadata": {},
   "outputs": [],
   "source": [
    "UE76=774"
   ]
  },
  {
   "cell_type": "code",
   "execution_count": 52,
   "id": "4dc55994-b541-4ef9-bb48-48819305e87a",
   "metadata": {},
   "outputs": [],
   "source": [
    "Id847=38926"
   ]
  },
  {
   "cell_type": "code",
   "execution_count": 45,
   "id": "23c1fecb-e52f-4e35-801d-5909e1b6edc6",
   "metadata": {},
   "outputs": [],
   "source": [
    "TDJ=376"
   ]
  },
  {
   "cell_type": "code",
   "execution_count": 47,
   "id": "3bed0652-7008-4fa7-a6a9-63521bf3175d",
   "metadata": {},
   "outputs": [],
   "source": [
    "_FR=5874"
   ]
  },
  {
   "cell_type": "markdown",
   "id": "bded690c-4a54-4ec6-93d0-52ee6d71c8df",
   "metadata": {},
   "source": [
    "  *Examples for not a variable"
   ]
  },
  {
   "cell_type": "code",
   "execution_count": 54,
   "id": "24d34771-b04d-49c0-8c27-65af16fea30a",
   "metadata": {},
   "outputs": [
    {
     "ename": "SyntaxError",
     "evalue": "invalid decimal literal (839925009.py, line 1)",
     "output_type": "error",
     "traceback": [
      "\u001b[1;36m  Cell \u001b[1;32mIn[54], line 1\u001b[1;36m\u001b[0m\n\u001b[1;33m    65Id=2735\u001b[0m\n\u001b[1;37m     ^\u001b[0m\n\u001b[1;31mSyntaxError\u001b[0m\u001b[1;31m:\u001b[0m invalid decimal literal\n"
     ]
    }
   ],
   "source": [
    "65Id=2735"
   ]
  },
  {
   "cell_type": "code",
   "execution_count": 56,
   "id": "e4bdd88e-4962-4770-a203-edf763248c89",
   "metadata": {},
   "outputs": [
    {
     "ename": "SyntaxError",
     "evalue": "invalid decimal literal (3863799120.py, line 1)",
     "output_type": "error",
     "traceback": [
      "\u001b[1;36m  Cell \u001b[1;32mIn[56], line 1\u001b[1;36m\u001b[0m\n\u001b[1;33m    9OE=8736\u001b[0m\n\u001b[1;37m    ^\u001b[0m\n\u001b[1;31mSyntaxError\u001b[0m\u001b[1;31m:\u001b[0m invalid decimal literal\n"
     ]
    }
   ],
   "source": [
    "9OE=8736"
   ]
  },
  {
   "cell_type": "code",
   "execution_count": 58,
   "id": "4dc6797d-0fda-4be2-9016-99f05f70f4e2",
   "metadata": {},
   "outputs": [
    {
     "ename": "SyntaxError",
     "evalue": "invalid decimal literal (1399675048.py, line 1)",
     "output_type": "error",
     "traceback": [
      "\u001b[1;36m  Cell \u001b[1;32mIn[58], line 1\u001b[1;36m\u001b[0m\n\u001b[1;33m    34po=872\u001b[0m\n\u001b[1;37m     ^\u001b[0m\n\u001b[1;31mSyntaxError\u001b[0m\u001b[1;31m:\u001b[0m invalid decimal literal\n"
     ]
    }
   ],
   "source": [
    "34po=872"
   ]
  },
  {
   "cell_type": "code",
   "execution_count": 60,
   "id": "830642d4-a17e-46cf-a090-f1b2d0930f7f",
   "metadata": {},
   "outputs": [
    {
     "ename": "SyntaxError",
     "evalue": "leading zeros in decimal integer literals are not permitted; use an 0o prefix for octal integers (3786100625.py, line 1)",
     "output_type": "error",
     "traceback": [
      "\u001b[1;36m  Cell \u001b[1;32mIn[60], line 1\u001b[1;36m\u001b[0m\n\u001b[1;33m    08=3554\u001b[0m\n\u001b[1;37m    ^\u001b[0m\n\u001b[1;31mSyntaxError\u001b[0m\u001b[1;31m:\u001b[0m leading zeros in decimal integer literals are not permitted; use an 0o prefix for octal integers\n"
     ]
    }
   ],
   "source": [
    "08=3554"
   ]
  },
  {
   "cell_type": "code",
   "execution_count": 64,
   "id": "29cf1a77-dbdf-4b6b-94bc-1b95b3b2d7d4",
   "metadata": {},
   "outputs": [
    {
     "ename": "SyntaxError",
     "evalue": "invalid decimal literal (4234025290.py, line 1)",
     "output_type": "error",
     "traceback": [
      "\u001b[1;36m  Cell \u001b[1;32mIn[64], line 1\u001b[1;36m\u001b[0m\n\u001b[1;33m    84FSE=2\u001b[0m\n\u001b[1;37m     ^\u001b[0m\n\u001b[1;31mSyntaxError\u001b[0m\u001b[1;31m:\u001b[0m invalid decimal literal\n"
     ]
    }
   ],
   "source": [
    "84FSE=2"
   ]
  },
  {
   "cell_type": "code",
   "execution_count": 66,
   "id": "5d0fbdd9-116b-4055-aca9-5aad05023f35",
   "metadata": {},
   "outputs": [
    {
     "ename": "SyntaxError",
     "evalue": "starred assignment target must be in a list or tuple (1377693265.py, line 1)",
     "output_type": "error",
     "traceback": [
      "\u001b[1;36m  Cell \u001b[1;32mIn[66], line 1\u001b[1;36m\u001b[0m\n\u001b[1;33m    *PW=76\u001b[0m\n\u001b[1;37m    ^\u001b[0m\n\u001b[1;31mSyntaxError\u001b[0m\u001b[1;31m:\u001b[0m starred assignment target must be in a list or tuple\n"
     ]
    }
   ],
   "source": [
    "*PW=76"
   ]
  },
  {
   "cell_type": "code",
   "execution_count": 68,
   "id": "e875cae5-afec-4d5e-96f3-d93ecb241106",
   "metadata": {},
   "outputs": [
    {
     "name": "stderr",
     "output_type": "stream",
     "text": [
      "<>:1: SyntaxWarning: 'int' object is not callable; perhaps you missed a comma?\n",
      "<>:1: SyntaxWarning: 'int' object is not callable; perhaps you missed a comma?\n",
      "C:\\Users\\Hp\\AppData\\Local\\Temp\\ipykernel_9436\\2045416145.py:1: SyntaxWarning: 'int' object is not callable; perhaps you missed a comma?\n",
      "  UY=654()\n"
     ]
    },
    {
     "ename": "TypeError",
     "evalue": "'int' object is not callable",
     "output_type": "error",
     "traceback": [
      "\u001b[1;31m---------------------------------------------------------------------------\u001b[0m",
      "\u001b[1;31mTypeError\u001b[0m                                 Traceback (most recent call last)",
      "Cell \u001b[1;32mIn[68], line 1\u001b[0m\n\u001b[1;32m----> 1\u001b[0m UY\u001b[38;5;241m=\u001b[39m\u001b[38;5;241m654\u001b[39m()\n",
      "\u001b[1;31mTypeError\u001b[0m: 'int' object is not callable"
     ]
    }
   ],
   "source": [
    "/UY=654"
   ]
  },
  {
   "cell_type": "code",
   "execution_count": 70,
   "id": "22a84e98-9eff-48c3-8f63-543d8c2a8b4e",
   "metadata": {},
   "outputs": [
    {
     "ename": "SyntaxError",
     "evalue": "'(' was never closed (867459059.py, line 1)",
     "output_type": "error",
     "traceback": [
      "\u001b[1;36m  Cell \u001b[1;32mIn[70], line 1\u001b[1;36m\u001b[0m\n\u001b[1;33m    (IW=754\u001b[0m\n\u001b[1;37m    ^\u001b[0m\n\u001b[1;31mSyntaxError\u001b[0m\u001b[1;31m:\u001b[0m '(' was never closed\n"
     ]
    }
   ],
   "source": [
    "(IW=754"
   ]
  },
  {
   "cell_type": "code",
   "execution_count": 72,
   "id": "33465f0b-75b6-4880-899c-a96f23a6b92d",
   "metadata": {},
   "outputs": [
    {
     "name": "stderr",
     "output_type": "stream",
     "text": [
      "UsageError: Line magic function `%UYT=433` not found.\n"
     ]
    }
   ],
   "source": [
    "%UYT=433"
   ]
  },
  {
   "cell_type": "code",
   "execution_count": 74,
   "id": "f2ad053a-0678-4cf9-9683-44aa598de93c",
   "metadata": {},
   "outputs": [
    {
     "ename": "SyntaxError",
     "evalue": "invalid syntax (357986732.py, line 1)",
     "output_type": "error",
     "traceback": [
      "\u001b[1;36m  Cell \u001b[1;32mIn[74], line 1\u001b[1;36m\u001b[0m\n\u001b[1;33m    &POI=453\u001b[0m\n\u001b[1;37m    ^\u001b[0m\n\u001b[1;31mSyntaxError\u001b[0m\u001b[1;31m:\u001b[0m invalid syntax\n"
     ]
    }
   ],
   "source": [
    "&POI=453"
   ]
  },
  {
   "cell_type": "code",
   "execution_count": 76,
   "id": "3aac508d-6677-43e6-a35f-6c856934eb9b",
   "metadata": {},
   "outputs": [
    {
     "ename": "SyntaxError",
     "evalue": "invalid syntax (2909286417.py, line 1)",
     "output_type": "error",
     "traceback": [
      "\u001b[1;36m  Cell \u001b[1;32mIn[76], line 1\u001b[1;36m\u001b[0m\n\u001b[1;33m    for=536\u001b[0m\n\u001b[1;37m       ^\u001b[0m\n\u001b[1;31mSyntaxError\u001b[0m\u001b[1;31m:\u001b[0m invalid syntax\n"
     ]
    }
   ],
   "source": [
    "for=536"
   ]
  },
  {
   "cell_type": "code",
   "execution_count": 80,
   "id": "eead0190-7ac7-44c0-bd8a-c90baa6dfbab",
   "metadata": {},
   "outputs": [
    {
     "ename": "SyntaxError",
     "evalue": "invalid syntax (1881081770.py, line 1)",
     "output_type": "error",
     "traceback": [
      "\u001b[1;36m  Cell \u001b[1;32mIn[80], line 1\u001b[1;36m\u001b[0m\n\u001b[1;33m    in=876\u001b[0m\n\u001b[1;37m    ^\u001b[0m\n\u001b[1;31mSyntaxError\u001b[0m\u001b[1;31m:\u001b[0m invalid syntax\n"
     ]
    }
   ],
   "source": [
    "in=876"
   ]
  },
  {
   "cell_type": "code",
   "execution_count": 82,
   "id": "ad3a71c1-f069-4970-a6dd-e2fe7a72e28c",
   "metadata": {},
   "outputs": [
    {
     "ename": "SyntaxError",
     "evalue": "cannot assign to True (98602220.py, line 1)",
     "output_type": "error",
     "traceback": [
      "\u001b[1;36m  Cell \u001b[1;32mIn[82], line 1\u001b[1;36m\u001b[0m\n\u001b[1;33m    True=876\u001b[0m\n\u001b[1;37m    ^\u001b[0m\n\u001b[1;31mSyntaxError\u001b[0m\u001b[1;31m:\u001b[0m cannot assign to True\n"
     ]
    }
   ],
   "source": [
    "True=876"
   ]
  },
  {
   "cell_type": "code",
   "execution_count": 84,
   "id": "c220fc05-25b2-4e4e-84af-584b9ce8f37e",
   "metadata": {},
   "outputs": [
    {
     "ename": "SyntaxError",
     "evalue": "cannot assign to False (3976150536.py, line 1)",
     "output_type": "error",
     "traceback": [
      "\u001b[1;36m  Cell \u001b[1;32mIn[84], line 1\u001b[1;36m\u001b[0m\n\u001b[1;33m    False=765\u001b[0m\n\u001b[1;37m    ^\u001b[0m\n\u001b[1;31mSyntaxError\u001b[0m\u001b[1;31m:\u001b[0m cannot assign to False\n"
     ]
    }
   ],
   "source": [
    "False=765"
   ]
  },
  {
   "cell_type": "code",
   "execution_count": 86,
   "id": "1965bc93-cf6b-4b41-8200-a3267771fe46",
   "metadata": {},
   "outputs": [
    {
     "ename": "SyntaxError",
     "evalue": "invalid syntax (3866221130.py, line 1)",
     "output_type": "error",
     "traceback": [
      "\u001b[1;36m  Cell \u001b[1;32mIn[86], line 1\u001b[1;36m\u001b[0m\n\u001b[1;33m    and=6477\u001b[0m\n\u001b[1;37m    ^\u001b[0m\n\u001b[1;31mSyntaxError\u001b[0m\u001b[1;31m:\u001b[0m invalid syntax\n"
     ]
    }
   ],
   "source": [
    "and=6477"
   ]
  },
  {
   "cell_type": "code",
   "execution_count": 88,
   "id": "b2e7ac23-2d94-4adf-b491-21d1cbb335d0",
   "metadata": {},
   "outputs": [
    {
     "ename": "SyntaxError",
     "evalue": "cannot assign to None (2844252275.py, line 1)",
     "output_type": "error",
     "traceback": [
      "\u001b[1;36m  Cell \u001b[1;32mIn[88], line 1\u001b[1;36m\u001b[0m\n\u001b[1;33m    None=654\u001b[0m\n\u001b[1;37m    ^\u001b[0m\n\u001b[1;31mSyntaxError\u001b[0m\u001b[1;31m:\u001b[0m cannot assign to None\n"
     ]
    }
   ],
   "source": [
    "None=654"
   ]
  },
  {
   "cell_type": "code",
   "execution_count": 90,
   "id": "cf1b9790-e47a-4021-bc9a-0317efda068d",
   "metadata": {},
   "outputs": [
    {
     "ename": "SyntaxError",
     "evalue": "invalid syntax (348113410.py, line 1)",
     "output_type": "error",
     "traceback": [
      "\u001b[1;36m  Cell \u001b[1;32mIn[90], line 1\u001b[1;36m\u001b[0m\n\u001b[1;33m    $BX=875\u001b[0m\n\u001b[1;37m    ^\u001b[0m\n\u001b[1;31mSyntaxError\u001b[0m\u001b[1;31m:\u001b[0m invalid syntax\n"
     ]
    }
   ],
   "source": [
    "$BX=875"
   ]
  },
  {
   "cell_type": "code",
   "execution_count": 92,
   "id": "37d3639f-3a70-4df7-a532-f6937aca76d0",
   "metadata": {},
   "outputs": [
    {
     "name": "stderr",
     "output_type": "stream",
     "text": [
      "'MBV' is not recognized as an internal or external command,\n",
      "operable program or batch file.\n"
     ]
    }
   ],
   "source": [
    "!MBV=366"
   ]
  },
  {
   "cell_type": "code",
   "execution_count": 94,
   "id": "256c2184-7b08-4742-b544-0ad9f9aa6d45",
   "metadata": {},
   "outputs": [
    {
     "ename": "SyntaxError",
     "evalue": "invalid decimal literal (3862491210.py, line 1)",
     "output_type": "error",
     "traceback": [
      "\u001b[1;36m  Cell \u001b[1;32mIn[94], line 1\u001b[1;36m\u001b[0m\n\u001b[1;33m    3WPS=65\u001b[0m\n\u001b[1;37m    ^\u001b[0m\n\u001b[1;31mSyntaxError\u001b[0m\u001b[1;31m:\u001b[0m invalid decimal literal\n"
     ]
    }
   ],
   "source": [
    "3WPS=65"
   ]
  },
  {
   "cell_type": "code",
   "execution_count": 96,
   "id": "1afa2b1d-c4e4-40f0-99ce-9190caab4445",
   "metadata": {},
   "outputs": [
    {
     "ename": "SyntaxError",
     "evalue": "invalid syntax (389552521.py, line 1)",
     "output_type": "error",
     "traceback": [
      "\u001b[1;36m  Cell \u001b[1;32mIn[96], line 1\u001b[1;36m\u001b[0m\n\u001b[1;33m    else=658\u001b[0m\n\u001b[1;37m    ^\u001b[0m\n\u001b[1;31mSyntaxError\u001b[0m\u001b[1;31m:\u001b[0m invalid syntax\n"
     ]
    }
   ],
   "source": [
    "else=658"
   ]
  },
  {
   "cell_type": "code",
   "execution_count": null,
   "id": "8f9a4163-f6b9-47bf-90bf-6e7996e2de26",
   "metadata": {},
   "outputs": [],
   "source": []
  }
 ],
 "metadata": {
  "kernelspec": {
   "display_name": "Python 3 (ipykernel)",
   "language": "python",
   "name": "python3"
  },
  "language_info": {
   "codemirror_mode": {
    "name": "ipython",
    "version": 3
   },
   "file_extension": ".py",
   "mimetype": "text/x-python",
   "name": "python",
   "nbconvert_exporter": "python",
   "pygments_lexer": "ipython3",
   "version": "3.12.4"
  }
 },
 "nbformat": 4,
 "nbformat_minor": 5
}
