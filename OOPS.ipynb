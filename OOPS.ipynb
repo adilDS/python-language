{
  "nbformat": 4,
  "nbformat_minor": 0,
  "metadata": {
    "colab": {
      "provenance": [],
      "gpuType": "T4"
    },
    "kernelspec": {
      "name": "python3",
      "display_name": "Python 3"
    },
    "language_info": {
      "name": "python"
    },
    "accelerator": "GPU"
  },
  "cells": [
    {
      "cell_type": "markdown",
      "source": [
        "#OOPs\n",
        "* In Python object-oriented Programming OOPs is a programming paradigm that uses objects and classes in programming.\n",
        "* It aims to implement real-world entities like inheritance, polymorphisms, encapsulation, etc., in the programming.\n",
        "* The main concept of object-oriented Programming (OOPs) or oops concepts in Python is to bind the data and the functions that work together as a single unit so that no other part of the code can access this data."
      ],
      "metadata": {
        "id": "CDlIpE4x9EPw"
      }
    },
    {
      "cell_type": "markdown",
      "source": [
        "#Inheritance\n",
        "* One of the core concepts in object-oriented programming (OOP) languages is inheritance.\n",
        "* It is a mechanism that allows you to create a hierarchy of classes that share a set of properties and methods by deriving a class from another class.\n",
        "* Inheritance is the capability of one class to derive or inherit the properties from another class.\n",
        "* Inheritance allows you to inherit the properties of a class i.e., base class(parent class) to another i.e., derived class (child class)."
      ],
      "metadata": {
        "id": "7vbt0OWoVFwK"
      }
    },
    {
      "cell_type": "code",
      "source": [
        "class Animal:\n",
        "    def __init__(self, name):\n",
        "        self.name = name\n",
        "class Dog(Animal):\n",
        "    def __init__(self, name, breed):\n",
        "        super().__init__(name)\n",
        "        self.breed = breed\n",
        "\n",
        "    def speak(self):\n",
        "        return f\"{self.name} says Woof!\"\n"
      ],
      "metadata": {
        "id": "ard6eotVV4K1"
      },
      "execution_count": 2,
      "outputs": []
    },
    {
      "cell_type": "code",
      "source": [
        "dog = Dog(\"Buddy\", \"Golden Retriever\")\n",
        "\n",
        "\n",
        "print(dog.name)\n",
        "print(dog.breed)\n",
        "print(dog.speak())"
      ],
      "metadata": {
        "colab": {
          "base_uri": "https://localhost:8080/"
        },
        "id": "8RZe4Dq6V5Ux",
        "outputId": "90764a3c-4af9-46e8-e2e1-e1f876c72743"
      },
      "execution_count": 5,
      "outputs": [
        {
          "output_type": "stream",
          "name": "stdout",
          "text": [
            "Buddy\n",
            "Golden Retriever\n",
            "Buddy says Woof!\n"
          ]
        }
      ]
    },
    {
      "cell_type": "code",
      "source": [
        "class Shape:\n",
        "    def __init__(self, color):\n",
        "        self.color = color\n",
        "class Rectangle(Shape):\n",
        "    def __init__(self, color, length, width):\n",
        "        super().__init__(color)\n",
        "        self.length = length\n",
        "        self.width = width\n",
        "\n",
        "    def area(self):\n",
        "        return self.length * self.width"
      ],
      "metadata": {
        "id": "EZ3Wozb6V5AS"
      },
      "execution_count": 14,
      "outputs": []
    },
    {
      "cell_type": "code",
      "source": [
        "rect = Rectangle(\"Blue\", 10, 5)\n",
        "\n",
        "\n",
        "print(f\"Color: {rect.color}\")\n",
        "print(f\"Area of Rectangle: {rect.area()}\")"
      ],
      "metadata": {
        "colab": {
          "base_uri": "https://localhost:8080/"
        },
        "id": "IePzs1DgV41x",
        "outputId": "faf2ae9d-47a3-437b-d9c6-2987d914157f"
      },
      "execution_count": 15,
      "outputs": [
        {
          "output_type": "stream",
          "name": "stdout",
          "text": [
            "Color: Blue\n",
            "Area of Rectangle: 50\n"
          ]
        }
      ]
    },
    {
      "cell_type": "code",
      "source": [
        "class Vehicle:\n",
        "    def __init__(self, make, model):\n",
        "        self.make = make\n",
        "        self.model = model\n",
        "\n",
        "    def start_engine(self):\n",
        "        return f\"Starting engine of {self.make} {self.model}\"\n",
        "\n",
        "class Car(Vehicle):\n",
        "    def __init__(self, make, model, color):\n",
        "        super().__init__(make, model)\n",
        "        self.color = color\n",
        "\n",
        "    def honk(self):\n",
        "        return \"Beep Beep!\"\n",
        "\n"
      ],
      "metadata": {
        "id": "REdTOXPJV336"
      },
      "execution_count": 16,
      "outputs": []
    },
    {
      "cell_type": "code",
      "source": [
        "car = Car(\"Toyota\", \"Corolla\", \"Red\")\n",
        "\n",
        "\n",
        "print(f\"{car.make} {car.model} - {car.color}\")\n",
        "print(car.start_engine())\n",
        "print(car.honk())"
      ],
      "metadata": {
        "colab": {
          "base_uri": "https://localhost:8080/"
        },
        "id": "3i9H4elVYxJM",
        "outputId": "2b258b5f-ce3f-46f5-f437-60cd9a19fb80"
      },
      "execution_count": 17,
      "outputs": [
        {
          "output_type": "stream",
          "name": "stdout",
          "text": [
            "Toyota Corolla - Red\n",
            "Starting engine of Toyota Corolla\n",
            "Beep Beep!\n"
          ]
        }
      ]
    },
    {
      "cell_type": "code",
      "source": [
        "class Person:\n",
        "    def __init__(self, name, age):\n",
        "        self.name = name\n",
        "        self.age = age\n",
        "\n",
        "    def greet(self):\n",
        "        return f\"Hello, my name is {self.name} and I am {self.age} years old.\"\n",
        "\n",
        "class Employee(Person):\n",
        "    def __init__(self, name, age, job_title):\n",
        "        super().__init__(name, age)\n",
        "        self.job_title = job_title\n",
        "\n",
        "    def work(self):\n",
        "        return f\"I am working as a {self.job_title}\""
      ],
      "metadata": {
        "id": "LLPqSf4CYyfd"
      },
      "execution_count": 18,
      "outputs": []
    },
    {
      "cell_type": "code",
      "source": [
        "emp = Employee(\"John\", 30, \"Software Engineer\")\n",
        "\n",
        "\n",
        "print(emp.greet())\n",
        "print(emp.work())"
      ],
      "metadata": {
        "colab": {
          "base_uri": "https://localhost:8080/"
        },
        "id": "7h8AuvBZYyQ_",
        "outputId": "72012f91-e9b4-495a-8ce6-e0ec644fb26e"
      },
      "execution_count": 21,
      "outputs": [
        {
          "output_type": "stream",
          "name": "stdout",
          "text": [
            "Hello, my name is John and I am 30 years old.\n",
            "I am working as a Software Engineer\n"
          ]
        }
      ]
    },
    {
      "cell_type": "code",
      "source": [
        "class Appliance:\n",
        "    def __init__(self, brand):\n",
        "        self.brand = brand\n",
        "\n",
        "    def turn_on(self):\n",
        "        return f\"{self.brand} appliance is now ON.\"\n",
        "\n",
        "class WashingMachine(Appliance):\n",
        "    def __init__(self, brand, load_capacity):\n",
        "        super().__init__(brand)\n",
        "        self.load_capacity = load_capacity\n",
        "\n",
        "    def wash(self):\n",
        "        return f\"Washing clothes with {self.load_capacity}kg capacity.\""
      ],
      "metadata": {
        "id": "7s6GwR_0a2x4"
      },
      "execution_count": 22,
      "outputs": []
    },
    {
      "cell_type": "code",
      "source": [
        "wm = WashingMachine(\"Samsung\", 7)\n",
        "\n",
        "\n",
        "print(wm.turn_on())\n",
        "print(wm.wash())"
      ],
      "metadata": {
        "colab": {
          "base_uri": "https://localhost:8080/"
        },
        "id": "m0vUKABUYx-q",
        "outputId": "e6fb2bc8-ce04-4728-b44d-46a39c96d553"
      },
      "execution_count": 23,
      "outputs": [
        {
          "output_type": "stream",
          "name": "stdout",
          "text": [
            "Samsung appliance is now ON.\n",
            "Washing clothes with 7kg capacity.\n"
          ]
        }
      ]
    },
    {
      "cell_type": "markdown",
      "source": [
        "#Polymorphism\n",
        "* The word polymorphism means having many forms.\n",
        "* In programming, polymorphism means the same function name (but different signatures) being used for different types.\n",
        "* The key difference is the data types and number of arguments used in function"
      ],
      "metadata": {
        "id": "AH3BY5gibf9c"
      }
    },
    {
      "cell_type": "code",
      "execution_count": 24,
      "metadata": {
        "id": "i82PaEBS8bVn",
        "colab": {
          "base_uri": "https://localhost:8080/"
        },
        "outputId": "9ff11c3c-aa7f-4117-fd28-26d39ff280df"
      },
      "outputs": [
        {
          "output_type": "stream",
          "name": "stdout",
          "text": [
            "Woof!\n",
            "Meow\n"
          ]
        }
      ],
      "source": [
        "class Animal:\n",
        "    def speak(self):\n",
        "        return \"Animal speaks\"\n",
        "\n",
        "class Dog(Animal):\n",
        "    def speak(self):\n",
        "        return \"Woof!\"\n",
        "\n",
        "class Cat(Animal):\n",
        "    def speak(self):\n",
        "        return \"Meow\"\n",
        "\n",
        "def animal_sound(animal):\n",
        "    print(animal.speak())\n",
        "\n",
        "dog = Dog()\n",
        "cat = Cat()\n",
        "\n",
        "animal_sound(dog)\n",
        "animal_sound(cat)\n"
      ]
    },
    {
      "cell_type": "code",
      "source": [
        "class Shape:\n",
        "    def area(self):\n",
        "        return 0\n",
        "\n",
        "class Circle(Shape):\n",
        "    def __init__(self, radius):\n",
        "        self.radius = radius\n",
        "\n",
        "    def area(self):\n",
        "        return 3.14 * self.radius ** 2\n",
        "\n",
        "class Rectangle(Shape):\n",
        "    def __init__(self, length, width):\n",
        "        self.length = length\n",
        "        self.width = width\n",
        "\n",
        "    def area(self):\n",
        "        return self.length * self.width\n",
        "\n",
        "def print_area(shape):\n",
        "    print(f\"Area: {shape.area()}\")\n",
        "\n",
        "circle = Circle(5)\n",
        "rectangle = Rectangle(4, 6)\n",
        "\n",
        "print_area(circle)\n",
        "print_area(rectangle)\n"
      ],
      "metadata": {
        "id": "0xQlT6cFAdZ7",
        "colab": {
          "base_uri": "https://localhost:8080/"
        },
        "outputId": "487f1f83-0444-40cd-80a1-964d4979bd6f"
      },
      "execution_count": 25,
      "outputs": [
        {
          "output_type": "stream",
          "name": "stdout",
          "text": [
            "Area: 78.5\n",
            "Area: 24\n"
          ]
        }
      ]
    },
    {
      "cell_type": "code",
      "source": [
        "class Employee:\n",
        "    def __init__(self, name, salary):\n",
        "        self.name = name\n",
        "        self.salary = salary\n",
        "\n",
        "    def get_salary(self):\n",
        "        return self.salary\n",
        "\n",
        "class Manager(Employee):\n",
        "    def __init__(self, name, salary, bonus):\n",
        "        super().__init__(name, salary)\n",
        "        self.bonus = bonus\n",
        "\n",
        "    def get_salary(self):\n",
        "        return self.salary + self.bonus\n",
        "\n",
        "def print_salary(employee):\n",
        "    print(f\"{employee.name}'s salary: {employee.get_salary()}\")\n",
        "\n",
        "employee = Employee(\"John\", 50000)\n",
        "manager = Manager(\"Alice\", 70000, 15000)\n",
        "\n",
        "print_salary(employee)\n",
        "print_salary(manager)\n"
      ],
      "metadata": {
        "colab": {
          "base_uri": "https://localhost:8080/"
        },
        "id": "PTAzH9T-BWjl",
        "outputId": "e0e84ada-8742-4fb8-e3f6-71660630b006"
      },
      "execution_count": 26,
      "outputs": [
        {
          "output_type": "stream",
          "name": "stdout",
          "text": [
            "John's salary: 50000\n",
            "Alice's salary: 85000\n"
          ]
        }
      ]
    },
    {
      "cell_type": "code",
      "source": [
        "class Vehicle:\n",
        "    def start(self):\n",
        "        return \"Vehicle starting...\"\n",
        "\n",
        "class Car(Vehicle):\n",
        "    def start(self):\n",
        "        return \"Car starting with ignition...\"\n",
        "\n",
        "def start_vehicle(vehicle):\n",
        "    print(vehicle.start())\n",
        "\n",
        "vehicle = Vehicle()\n",
        "car = Car()\n",
        "\n",
        "start_vehicle(vehicle)\n",
        "start_vehicle(car)\n"
      ],
      "metadata": {
        "colab": {
          "base_uri": "https://localhost:8080/"
        },
        "id": "6_tUOZ65Bm1Z",
        "outputId": "c605e99c-d7e6-4871-b82e-cc31241c470d"
      },
      "execution_count": 27,
      "outputs": [
        {
          "output_type": "stream",
          "name": "stdout",
          "text": [
            "Vehicle starting...\n",
            "Car starting with ignition...\n"
          ]
        }
      ]
    },
    {
      "cell_type": "code",
      "source": [
        "class Instrument:\n",
        "    def play(self):\n",
        "        return \"Playing an instrument\"\n",
        "\n",
        "class Guitar(Instrument):\n",
        "    def play(self):\n",
        "        return \"Strumming the guitar\"\n",
        "\n",
        "class Piano(Instrument):\n",
        "    def play(self):\n",
        "        return \"Playing the piano\"\n",
        "\n",
        "def perform_music(instrument):\n",
        "    print(instrument.play())\n",
        "\n",
        "guitar = Guitar()\n",
        "piano = Piano()\n",
        "\n",
        "perform_music(guitar)\n",
        "perform_music(piano)\n"
      ],
      "metadata": {
        "id": "S4nVjC6OCtD3",
        "colab": {
          "base_uri": "https://localhost:8080/"
        },
        "outputId": "1858d1b4-0550-4396-a59f-f877f43cea89"
      },
      "execution_count": 28,
      "outputs": [
        {
          "output_type": "stream",
          "name": "stdout",
          "text": [
            "Strumming the guitar\n",
            "Playing the piano\n"
          ]
        }
      ]
    },
    {
      "cell_type": "markdown",
      "source": [
        "#Encapsulation\n",
        "* It describes the idea of wrapping data and the methods that work on data within one unit.\n",
        "* This puts restrictions on accessing variables and methods directly and can prevent the accidental modification of data.\n",
        "* To prevent accidental change, an object’s variable can only be changed by an object’s method.\n",
        "* Those types of variables are known as private variables."
      ],
      "metadata": {
        "id": "-lsR0ZdXfids"
      }
    },
    {
      "cell_type": "code",
      "source": [
        "class Person:\n",
        "    def __init__(self, name, age):\n",
        "        self.name = name\n",
        "        self.__age = age\n",
        "\n",
        "    def get_age(self):\n",
        "        return self.__age\n",
        "\n",
        "    def set_age(self, age):\n",
        "        if age > 0:\n",
        "            self.__age = age\n",
        "        else:\n",
        "            print(\"Age cannot be negative or zero\")\n"
      ],
      "metadata": {
        "id": "wt5ZOCxOD6OY"
      },
      "execution_count": 29,
      "outputs": []
    },
    {
      "cell_type": "code",
      "source": [
        "person = Person(\"John\", 30)\n",
        "\n",
        "print(f\"Name: {person.name}\")\n",
        "print(f\"Age: {person.get_age()}\")\n",
        "person.set_age(35)\n",
        "print(f\"Updated Age: {person.get_age()}\")"
      ],
      "metadata": {
        "colab": {
          "base_uri": "https://localhost:8080/"
        },
        "id": "B1X0obqnhUM1",
        "outputId": "af798f22-fd32-4a53-d060-7dd2e0400b0e"
      },
      "execution_count": 30,
      "outputs": [
        {
          "output_type": "stream",
          "name": "stdout",
          "text": [
            "Name: John\n",
            "Age: 30\n",
            "Updated Age: 35\n"
          ]
        }
      ]
    },
    {
      "cell_type": "code",
      "source": [
        "class Employee:\n",
        "    def __init__(self, name, salary):\n",
        "        self.name = name\n",
        "        self.__salary = salary\n",
        "\n",
        "    @property\n",
        "    def salary(self):\n",
        "        return self.__salary\n",
        "\n",
        "    @salary.setter\n",
        "    def salary(self, value):\n",
        "        if value >= 0:\n",
        "            self.__salary = value\n",
        "        else:\n",
        "            print(\"Salary must be positive\")\n",
        "\n",
        "\n"
      ],
      "metadata": {
        "id": "V7VojrrHhYAL"
      },
      "execution_count": 31,
      "outputs": []
    },
    {
      "cell_type": "code",
      "source": [
        "employee = Employee(\"Alice\", 50000)\n",
        "\n",
        "print(f\"Employee Name: {employee.name}\")\n",
        "print(f\"Salary: {employee.salary}\")\n",
        "employee.salary = 55000\n",
        "print(f\"Updated Salary: {employee.salary}\")"
      ],
      "metadata": {
        "colab": {
          "base_uri": "https://localhost:8080/"
        },
        "id": "keGUaWl9iBUV",
        "outputId": "b16e4d9a-20a5-4ada-82c2-47051d3bd105"
      },
      "execution_count": 32,
      "outputs": [
        {
          "output_type": "stream",
          "name": "stdout",
          "text": [
            "Employee Name: Alice\n",
            "Salary: 50000\n",
            "Updated Salary: 55000\n"
          ]
        }
      ]
    },
    {
      "cell_type": "code",
      "source": [
        "class BankAccount:\n",
        "    def __init__(self, owner, balance=0):\n",
        "        self.owner = owner\n",
        "        self.__balance = balance\n",
        "\n",
        "    def get_balance(self):\n",
        "        return self.__balance\n",
        "\n",
        "    def deposit(self, amount):\n",
        "        if amount > 0:\n",
        "            self.__balance += amount\n",
        "            print(f\"Deposited {amount}. New balance: {self.__balance}\")\n",
        "        else:\n",
        "            print(\"Deposit amount must be positive\")\n",
        "\n",
        "    def withdraw(self, amount):\n",
        "        if amount > 0 and amount <= self.__balance:\n",
        "            self.__balance -= amount\n",
        "            print(f\"Withdrew {amount}. New balance: {self.__balance}\")\n",
        "        else:\n",
        "            print(\"Insufficient funds or invalid amount\")\n",
        "\n"
      ],
      "metadata": {
        "id": "xT1nd8sriDTu"
      },
      "execution_count": 33,
      "outputs": []
    },
    {
      "cell_type": "code",
      "source": [
        "account = BankAccount(\"John Doe\", 1000)\n",
        "\n",
        "print(f\"Initial Balance: {account.get_balance()}\")\n",
        "\n",
        "account.deposit(500)\n",
        "account.withdraw(300)\n",
        "account.withdraw(2000)"
      ],
      "metadata": {
        "colab": {
          "base_uri": "https://localhost:8080/"
        },
        "id": "AxwnhzN7iY8b",
        "outputId": "d28c11fa-302f-4ba7-ae22-7703ac64d671"
      },
      "execution_count": 34,
      "outputs": [
        {
          "output_type": "stream",
          "name": "stdout",
          "text": [
            "Initial Balance: 1000\n",
            "Deposited 500. New balance: 1500\n",
            "Withdrew 300. New balance: 1200\n",
            "Insufficient funds or invalid amount\n"
          ]
        }
      ]
    },
    {
      "cell_type": "code",
      "source": [
        "class Car:\n",
        "    def __init__(self, make, model, price):\n",
        "        self.make = make\n",
        "        self.model = model\n",
        "        self._price = price\n",
        "\n",
        "    def get_price(self):\n",
        "        return self._price\n",
        "\n",
        "    def set_price(self, price):\n",
        "        if price > 0:\n",
        "            self._price = price\n",
        "        else:\n",
        "            print(\"Price must be positive\")\n",
        "\n"
      ],
      "metadata": {
        "id": "AaFIT8eBidt4"
      },
      "execution_count": 35,
      "outputs": []
    },
    {
      "cell_type": "code",
      "source": [
        "car = Car(\"Toyota\", \"Corolla\", 20000)\n",
        "\n",
        "print(f\"Car: {car.make} {car.model}\")\n",
        "print(f\"Price: {car.get_price()}\")\n",
        "car.set_price(22000)\n",
        "print(f\"Updated Price: {car.get_price()}\")\n"
      ],
      "metadata": {
        "colab": {
          "base_uri": "https://localhost:8080/"
        },
        "id": "VGO_rTO9io-V",
        "outputId": "35cbbd38-97bc-4193-eeea-a3a26491b5e4"
      },
      "execution_count": 36,
      "outputs": [
        {
          "output_type": "stream",
          "name": "stdout",
          "text": [
            "Car: Toyota Corolla\n",
            "Price: 20000\n",
            "Updated Price: 22000\n"
          ]
        }
      ]
    },
    {
      "cell_type": "code",
      "source": [
        "class Student:\n",
        "    def __init__(self, name):\n",
        "        self.name = name\n",
        "        self.__grades = []\n",
        "\n",
        "    def get_grades(self):\n",
        "        return self.__grades\n",
        "\n",
        "    def add_grade(self, grade):\n",
        "        if 0 <= grade <= 100:\n",
        "            self.__grades.append(grade)\n",
        "        else:\n",
        "            print(\"Invalid grade. Must be between 0 and 100\")\n",
        "\n",
        "    def calculate_average(self):\n",
        "        if len(self.__grades) > 0:\n",
        "            return sum(self.__grades) / len(self.__grades)\n",
        "        else:\n",
        "            return 0\n",
        "\n"
      ],
      "metadata": {
        "id": "JCJHU0x0ip83"
      },
      "execution_count": 37,
      "outputs": []
    },
    {
      "cell_type": "code",
      "source": [
        "student = Student(\"Bob\")\n",
        "\n",
        "student.add_grade(90)\n",
        "student.add_grade(85)\n",
        "student.add_grade(88)\n",
        "\n",
        "print(f\"Student: {student.name}\")\n",
        "print(f\"Grades: {student.get_grades()}\")\n",
        "print(f\"Average Grade: {student.calculate_average()}\")"
      ],
      "metadata": {
        "colab": {
          "base_uri": "https://localhost:8080/"
        },
        "id": "bFjHi_a0i3qT",
        "outputId": "e5321649-662e-43b9-cc85-c6079872f497"
      },
      "execution_count": 38,
      "outputs": [
        {
          "output_type": "stream",
          "name": "stdout",
          "text": [
            "Student: Bob\n",
            "Grades: [90, 85, 88]\n",
            "Average Grade: 87.66666666666667\n"
          ]
        }
      ]
    },
    {
      "cell_type": "markdown",
      "source": [
        "#Abstraction\n",
        "* Data abstraction is one of the most essential concepts of Python OOPs which is used to hide irrelevant details from the user and show the details that are relevant to the users.\n",
        "* A simple example of this can be a car.\n",
        "*  A car has an accelerator, clutch, and break and we all know that pressing an accelerator will increase the speed of the car and applying the brake can stop the car but we don’t know the internal mechanism of the car and how these functionalities can work this detail hiding is known as data abstraction."
      ],
      "metadata": {
        "id": "psl0I-iSjC_k"
      }
    },
    {
      "cell_type": "code",
      "source": [
        "from abc import ABC, abstractmethod\n",
        "\n",
        "class Shape(ABC):\n",
        "    @abstractmethod\n",
        "    def area(self):\n",
        "        pass\n",
        "\n",
        "class Circle(Shape):\n",
        "    def __init__(self, radius):\n",
        "        self.radius = radius\n",
        "\n",
        "    def area(self):\n",
        "        return 3.14 * self.radius ** 2\n",
        "\n",
        "class Rectangle(Shape):\n",
        "    def __init__(self, width, height):\n",
        "        self.width = width\n",
        "        self.height = height\n",
        "\n",
        "    def area(self):\n",
        "        return self.width * self.height\n",
        "\n"
      ],
      "metadata": {
        "id": "RU9yZU20i5id"
      },
      "execution_count": 39,
      "outputs": []
    },
    {
      "cell_type": "code",
      "source": [
        "circle = Circle(5)\n",
        "rectangle = Rectangle(4, 6)\n",
        "\n",
        "print(f\"Circle Area: {circle.area()}\")\n",
        "print(f\"Rectangle Area: {rectangle.area()}\")"
      ],
      "metadata": {
        "colab": {
          "base_uri": "https://localhost:8080/"
        },
        "id": "tTbso5HSksIs",
        "outputId": "03f9426b-cb12-4eb8-98a1-b1a8fa960c54"
      },
      "execution_count": 40,
      "outputs": [
        {
          "output_type": "stream",
          "name": "stdout",
          "text": [
            "Circle Area: 78.5\n",
            "Rectangle Area: 24\n"
          ]
        }
      ]
    },
    {
      "cell_type": "code",
      "source": [
        "from abc import ABC, abstractmethod\n",
        "\n",
        "class Vehicle(ABC):\n",
        "    @abstractmethod\n",
        "    def start_engine(self):\n",
        "        pass\n",
        "\n",
        "    @abstractmethod\n",
        "    def stop_engine(self):\n",
        "        pass\n",
        "\n",
        "class Car(Vehicle):\n",
        "    def start_engine(self):\n",
        "        print(\"Car engine started\")\n",
        "\n",
        "    def stop_engine(self):\n",
        "        print(\"Car engine stopped\")\n",
        "\n",
        "class Truck(Vehicle):\n",
        "    def start_engine(self):\n",
        "        print(\"Truck engine started\")\n",
        "\n",
        "    def stop_engine(self):\n",
        "        print(\"Truck engine stopped\")\n",
        "\n"
      ],
      "metadata": {
        "id": "Hm2HpbhqkvtM"
      },
      "execution_count": 41,
      "outputs": []
    },
    {
      "cell_type": "code",
      "source": [
        "car = Car()\n",
        "truck = Truck()\n",
        "\n",
        "car.start_engine()\n",
        "truck.stop_engine()\n"
      ],
      "metadata": {
        "colab": {
          "base_uri": "https://localhost:8080/"
        },
        "id": "WxPRKHYmlGm5",
        "outputId": "f344126c-19ff-414c-9476-057e907562c3"
      },
      "execution_count": 42,
      "outputs": [
        {
          "output_type": "stream",
          "name": "stdout",
          "text": [
            "Car engine started\n",
            "Truck engine stopped\n"
          ]
        }
      ]
    },
    {
      "cell_type": "code",
      "source": [
        "from abc import ABC, abstractmethod\n",
        "\n",
        "class Account(ABC):\n",
        "    def __init__(self, account_holder, balance):\n",
        "        self.account_holder = account_holder\n",
        "        self.balance = balance\n",
        "\n",
        "    @abstractmethod\n",
        "    def deposit(self, amount):\n",
        "        pass\n",
        "\n",
        "    def display_balance(self):\n",
        "        print(f\"Balance for {self.account_holder}: {self.balance}\")\n",
        "\n",
        "class SavingsAccount(Account):\n",
        "    def deposit(self, amount):\n",
        "        self.balance += amount\n",
        "        print(f\"Deposited {amount} to Savings Account.\")\n",
        "\n",
        "class CheckingAccount(Account):\n",
        "    def deposit(self, amount):\n",
        "        self.balance += amount\n",
        "        print(f\"Deposited {amount} to Checking Account.\")\n",
        "\n",
        "\n"
      ],
      "metadata": {
        "id": "HTiem5FdlHoQ"
      },
      "execution_count": 43,
      "outputs": []
    },
    {
      "cell_type": "code",
      "source": [
        "savings_account = SavingsAccount(\"John\", 1000)\n",
        "checking_account = CheckingAccount(\"Alice\", 1500)\n",
        "\n",
        "savings_account.deposit(500)\n",
        "checking_account.deposit(200)\n",
        "savings_account.display_balance()\n",
        "checking_account.display_balance()"
      ],
      "metadata": {
        "colab": {
          "base_uri": "https://localhost:8080/"
        },
        "id": "ObDSCzUKlgoo",
        "outputId": "2e328df0-824a-4a73-d1dc-e50e66749a6a"
      },
      "execution_count": 44,
      "outputs": [
        {
          "output_type": "stream",
          "name": "stdout",
          "text": [
            "Deposited 500 to Savings Account.\n",
            "Deposited 200 to Checking Account.\n",
            "Balance for John: 1500\n",
            "Balance for Alice: 1700\n"
          ]
        }
      ]
    },
    {
      "cell_type": "code",
      "source": [
        "from abc import ABC, abstractmethod\n",
        "\n",
        "class Animal(ABC):\n",
        "    @abstractmethod\n",
        "    def speak(self):\n",
        "        pass\n",
        "\n",
        "class Dog(Animal):\n",
        "    def speak(self):\n",
        "        print(\"Woof! Woof!\")\n",
        "\n",
        "class Cat(Animal):\n",
        "    def speak(self):\n",
        "        print(\"Meow! Meow!\")\n",
        "\n",
        "\n"
      ],
      "metadata": {
        "id": "IuloW8c5lhsl"
      },
      "execution_count": 45,
      "outputs": []
    },
    {
      "cell_type": "code",
      "source": [
        "dog = Dog()\n",
        "cat = Cat()\n",
        "\n",
        "dog.speak()\n",
        "cat.speak()"
      ],
      "metadata": {
        "colab": {
          "base_uri": "https://localhost:8080/"
        },
        "id": "lakh_Dk1lyN0",
        "outputId": "2aabd081-0ad4-4e4b-a97e-df92dc6112a5"
      },
      "execution_count": 46,
      "outputs": [
        {
          "output_type": "stream",
          "name": "stdout",
          "text": [
            "Woof! Woof!\n",
            "Meow! Meow!\n"
          ]
        }
      ]
    },
    {
      "cell_type": "code",
      "source": [
        "from abc import ABC, abstractmethod\n",
        "\n",
        "class Shape(ABC):\n",
        "    @abstractmethod\n",
        "    def perimeter(self):\n",
        "        pass\n",
        "\n",
        "class Circle(Shape):\n",
        "    def __init__(self, radius):\n",
        "        self.radius = radius\n",
        "\n",
        "    def perimeter(self):\n",
        "        return 2 * 3.14 * self.radius\n",
        "\n",
        "class Rectangle(Shape):\n",
        "    def __init__(self, length, width):\n",
        "        self.length = length\n",
        "        self.width = width\n",
        "\n",
        "    def perimeter(self):\n",
        "        return 2 * (self.length + self.width)\n"
      ],
      "metadata": {
        "id": "P7uVe1cGl0DA"
      },
      "execution_count": 47,
      "outputs": []
    },
    {
      "cell_type": "code",
      "source": [
        "circle = Circle(5)\n",
        "rectangle = Rectangle(4, 6)\n",
        "\n",
        "print(f\"Circle Perimeter: {circle.perimeter()}\")\n",
        "print(f\"Rectangle Perimeter: {rectangle.perimeter()}\")"
      ],
      "metadata": {
        "colab": {
          "base_uri": "https://localhost:8080/"
        },
        "id": "MN6ZlYKZmRL1",
        "outputId": "0d4fc93c-7002-4e46-e95c-4355c2f6b36e"
      },
      "execution_count": 50,
      "outputs": [
        {
          "output_type": "stream",
          "name": "stdout",
          "text": [
            "Circle Perimeter: 31.400000000000002\n",
            "Rectangle Perimeter: 20\n"
          ]
        }
      ]
    },
    {
      "cell_type": "code",
      "source": [],
      "metadata": {
        "id": "_zQ9HD1xmV_7"
      },
      "execution_count": null,
      "outputs": []
    }
  ]
}