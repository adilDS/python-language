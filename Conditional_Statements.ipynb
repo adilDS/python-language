{
  "nbformat": 4,
  "nbformat_minor": 0,
  "metadata": {
    "colab": {
      "provenance": [],
      "gpuType": "T4"
    },
    "kernelspec": {
      "name": "python3",
      "display_name": "Python 3"
    },
    "language_info": {
      "name": "python"
    },
    "accelerator": "GPU"
  },
  "cells": [
    {
      "cell_type": "markdown",
      "source": [
        "#Conditional Statements:\n",
        "\n",
        "* Understanding and mastering Python's conditional statements is fundamental for any programmer aspiring to write efficient and robust code.\n",
        "* In this guide, we'll delve into the intricacies of conditional statements in python,covering the basics,advanced techniques,and best practices.\n",
        "* Conditional Statements are statements in Python that provide a choice for the control flow based on a condition.\n",
        "* It means that the control flow of the Python program will be decided based on the outcome of the condition.\n",
        "\n",
        "\n",
        "#1. If Conditional Statement\n",
        "* If the simple code of block is to be performed if the condition holds then the if statement is used.\n",
        "* Here the condition mentioned holds then the code of the block runs otherwise not.\n",
        "\n",
        "#2. If else Conditional Statements\n",
        "* In a conditional if Statement the additional block of code is merged as an else statement which is performed when if condition is false.\n",
        "\n",
        "\n",
        "#3. If-elif-else Conditional Statements\n",
        "* The if statements are executed from the top down.\n",
        "* As soon as one of the conditions controlling the if is true, the statement associated with that if is executed, and the rest of the ladder is bypassed.\n",
        "* If none of the conditions is true, then the final “else” statement will be executed."
      ],
      "metadata": {
        "id": "3JEpX5YJXhnO"
      }
    },
    {
      "cell_type": "code",
      "source": [
        "#if\n",
        "num=10\n",
        "if num>0:\n",
        "    print(num,\"is a positive number\")"
      ],
      "metadata": {
        "colab": {
          "base_uri": "https://localhost:8080/"
        },
        "id": "DG0ZyA6QXdi3",
        "outputId": "e4aa0c37-c181-4e5a-8328-f750b253e68b"
      },
      "execution_count": 1,
      "outputs": [
        {
          "output_type": "stream",
          "name": "stdout",
          "text": [
            "10 is a positive number\n"
          ]
        }
      ]
    },
    {
      "cell_type": "code",
      "source": [
        "#else\n",
        "num=-5\n",
        "if num>0:\n",
        "    print(num,\"is a positive number\")\n",
        "else:\n",
        "    print(num,\"is a negative number\")"
      ],
      "metadata": {
        "id": "LYsJpEjJwpzx",
        "colab": {
          "base_uri": "https://localhost:8080/"
        },
        "outputId": "75404a7b-4ae1-4b00-8e7b-5ffa65b38862"
      },
      "execution_count": 2,
      "outputs": [
        {
          "output_type": "stream",
          "name": "stdout",
          "text": [
            "-5 is a negative number\n"
          ]
        }
      ]
    },
    {
      "cell_type": "code",
      "source": [
        "#elif\n",
        "num=0\n",
        "if num>0:\n",
        "    print(num,\"is a positive number\")\n",
        "elif num==0:\n",
        "    print(num,\"is zero\")\n",
        "else:\n",
        "    print(num,\"is a negative number\")"
      ],
      "metadata": {
        "colab": {
          "base_uri": "https://localhost:8080/"
        },
        "id": "unp1Gkl1ZiaV",
        "outputId": "0082396e-1426-4833-e02d-e1b82bab058f"
      },
      "execution_count": 3,
      "outputs": [
        {
          "output_type": "stream",
          "name": "stdout",
          "text": [
            "0 is zero\n"
          ]
        }
      ]
    },
    {
      "cell_type": "code",
      "execution_count": 5,
      "metadata": {
        "colab": {
          "base_uri": "https://localhost:8080/"
        },
        "id": "8MLybpWUwD7Y",
        "outputId": "d2224fa2-f4e1-4627-a480-1480cc488a8d"
      },
      "outputs": [
        {
          "output_type": "stream",
          "name": "stdout",
          "text": [
            "num is even\n"
          ]
        }
      ],
      "source": [
        "#check whether the given number is even or odd\n",
        "num=6\n",
        "if num%2==0:\n",
        "    print(\"num is even\")\n",
        "else:\n",
        "    print(\"number is odd\")"
      ]
    },
    {
      "cell_type": "code",
      "source": [
        "#leap year program\n",
        "year=2004\n",
        "if year%4==0:\n",
        "    print(year,\"is a leap year\")\n",
        "else:\n",
        "    print(year,\"is not a leap year\")\n"
      ],
      "metadata": {
        "colab": {
          "base_uri": "https://localhost:8080/"
        },
        "id": "CQE3iDa9Zvz9",
        "outputId": "196b505b-bbd3-49bc-ba1b-3887613c9a88"
      },
      "execution_count": 7,
      "outputs": [
        {
          "output_type": "stream",
          "name": "stdout",
          "text": [
            "2004 is a leap year\n"
          ]
        }
      ]
    },
    {
      "cell_type": "code",
      "source": [
        "#maximum of three numbers\n",
        "k=10\n",
        "y=14\n",
        "d=12\n",
        "if k>=y and k>=d:\n",
        "    print('k is greater')\n",
        "elif y>=k and y>=d:\n",
        "    print('y is greater')\n",
        "else:\n",
        "    print('d is greater')"
      ],
      "metadata": {
        "colab": {
          "base_uri": "https://localhost:8080/"
        },
        "id": "aoqjIOjebZJW",
        "outputId": "da18ec37-5b13-47a5-9ccd-818661d562b2"
      },
      "execution_count": 9,
      "outputs": [
        {
          "output_type": "stream",
          "name": "stdout",
          "text": [
            "y is greater\n"
          ]
        }
      ]
    },
    {
      "cell_type": "code",
      "source": [],
      "metadata": {
        "id": "4lLgJoZlbfpA"
      },
      "execution_count": null,
      "outputs": []
    }
  ]
}