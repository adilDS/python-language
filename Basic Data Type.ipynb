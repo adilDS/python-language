{
 "cells": [
  {
   "cell_type": "markdown",
   "id": "cdd93e9c-8d23-40c7-8fa6-045a7870ce8a",
   "metadata": {},
   "source": [
    "(Q)  What is Data Type?\n",
    "\n",
    "(A)  *Data types are the classification or categorization of data items.\n",
    "\n",
    "     -In Python, a data type defines the type of value a variable can hold and what operations can be performed on it.\n",
    "\n",
    "     -data types are actually classes, and the defined variables are their instances or objects.\n",
    "\n",
    "     -Since Python is dynamically typed, the data type of a variable is determined at runtime based on the assigned value.\n",
    "\n",
    "     -Each programming language has its own classification of data items,with these datatypes, we can store different types of data values.\n",
    "\n",
    "     -Generally data type is categorized into types basic data type and advanced data type.\n",
    "\n",
    "     -In basic Data type they are again four types of data type that are as follows:\n",
    "\n",
    "     -1Int \n",
    "     -2Float\n",
    "     -3Comlex\n",
    "     -4Boolean."
   ]
  },
  {
   "cell_type": "markdown",
   "id": "a73bfc5f-316e-45e5-b6b8-a39480e99200",
   "metadata": {},
   "source": [
    "(Q)  Int Data Type:\n",
    "\n",
    "(A)  *The int data type in Python represents integer values, which are whole numbers without any decimal points.\n",
    "\n",
    "     -It takes values from (-Infinity to +Infinity including zero(0))\n",
    "\n",
    "     -Here are some exmaples for int Data Type:"
   ]
  },
  {
   "cell_type": "code",
   "execution_count": 21,
   "id": "dfcdc8bf-be08-4e8b-bbb5-e280a756cbc6",
   "metadata": {},
   "outputs": [
    {
     "name": "stdout",
     "output_type": "stream",
     "text": [
      "45\n"
     ]
    }
   ],
   "source": [
    "a=45\n",
    "print(a)"
   ]
  },
  {
   "cell_type": "code",
   "execution_count": 23,
   "id": "3921d5a0-7d3e-4eaf-bacd-0b18d28540ec",
   "metadata": {},
   "outputs": [
    {
     "name": "stdout",
     "output_type": "stream",
     "text": [
      "938\n"
     ]
    }
   ],
   "source": [
    "b=938\n",
    "print(b)"
   ]
  },
  {
   "cell_type": "code",
   "execution_count": 25,
   "id": "6668b63c-8c34-49fd-ab6f-62a1254db08a",
   "metadata": {},
   "outputs": [
    {
     "name": "stdout",
     "output_type": "stream",
     "text": [
      "27\n"
     ]
    }
   ],
   "source": [
    "dk=27\n",
    "print(dk)"
   ]
  },
  {
   "cell_type": "code",
   "execution_count": 27,
   "id": "07c9ab17-b19e-4966-8d67-ba7eea98592a",
   "metadata": {},
   "outputs": [
    {
     "name": "stdout",
     "output_type": "stream",
     "text": [
      "39\n"
     ]
    }
   ],
   "source": [
    "Ld=39\n",
    "print(Ld)"
   ]
  },
  {
   "cell_type": "code",
   "execution_count": 29,
   "id": "71a15c2e-6475-4750-b193-e57688265122",
   "metadata": {},
   "outputs": [
    {
     "name": "stdout",
     "output_type": "stream",
     "text": [
      "378\n"
     ]
    }
   ],
   "source": [
    "KD=378\n",
    "print(KD)"
   ]
  },
  {
   "cell_type": "code",
   "execution_count": 31,
   "id": "8b1e1b87-0a18-4333-b817-ef6f3fac76b1",
   "metadata": {},
   "outputs": [
    {
     "name": "stdout",
     "output_type": "stream",
     "text": [
      "38997\n"
     ]
    }
   ],
   "source": [
    "MC=38997\n",
    "print(MC)"
   ]
  },
  {
   "cell_type": "code",
   "execution_count": 35,
   "id": "41dfc007-a86c-440b-a01f-8293f70b4d89",
   "metadata": {},
   "outputs": [
    {
     "name": "stdout",
     "output_type": "stream",
     "text": [
      "256\n"
     ]
    }
   ],
   "source": [
    "VC=256\n",
    "print(VC)"
   ]
  },
  {
   "cell_type": "code",
   "execution_count": 37,
   "id": "11bb2358-46d6-4958-a48f-898321fe1e6d",
   "metadata": {},
   "outputs": [
    {
     "name": "stdout",
     "output_type": "stream",
     "text": [
      "275\n"
     ]
    }
   ],
   "source": [
    "Op=275\n",
    "print(Op)"
   ]
  },
  {
   "cell_type": "code",
   "execution_count": 43,
   "id": "21be5900-e90c-4154-ba33-4d7a91d40f35",
   "metadata": {},
   "outputs": [
    {
     "name": "stdout",
     "output_type": "stream",
     "text": [
      "637\n"
     ]
    }
   ],
   "source": [
    "DJ=637\n",
    "print(DJ)"
   ]
  },
  {
   "cell_type": "code",
   "execution_count": 45,
   "id": "673e2ad7-1a1c-4e60-b752-84d27e2429d8",
   "metadata": {},
   "outputs": [
    {
     "name": "stdout",
     "output_type": "stream",
     "text": [
      "765\n"
     ]
    }
   ],
   "source": [
    "hi=765\n",
    "print(hi)"
   ]
  },
  {
   "cell_type": "markdown",
   "id": "0d16a17a-34ab-4f36-9f87-7d6932ecdf1b",
   "metadata": {},
   "source": [
    "(Q)  Float Data Type:\n",
    "\n",
    "(A)  *The float data type in Python represents floating-point numbers, which are numbers that can have decimal points.\n",
    "\n",
    "     - Floats can represent real numbers, including fractions and decimal points.\n",
    "\n",
    "     -Here are some exmaples for Float Data Type:"
   ]
  },
  {
   "cell_type": "code",
   "execution_count": 48,
   "id": "7692426f-03bc-431d-b072-483665430b3d",
   "metadata": {},
   "outputs": [
    {
     "name": "stdout",
     "output_type": "stream",
     "text": [
      "9.36\n"
     ]
    }
   ],
   "source": [
    "Sd=9.36\n",
    "print(Sd)"
   ]
  },
  {
   "cell_type": "code",
   "execution_count": 50,
   "id": "73f1dcfc-9bab-4b99-9dbb-589afb9264c2",
   "metadata": {},
   "outputs": [
    {
     "name": "stdout",
     "output_type": "stream",
     "text": [
      "6.26\n"
     ]
    }
   ],
   "source": [
    "Lk=6.26\n",
    "print(Lk)"
   ]
  },
  {
   "cell_type": "code",
   "execution_count": 52,
   "id": "257e5e73-b152-4e8a-8b1f-3fb182806194",
   "metadata": {},
   "outputs": [
    {
     "name": "stdout",
     "output_type": "stream",
     "text": [
      "4.65\n"
     ]
    }
   ],
   "source": [
    "b=4.65\n",
    "print(b)"
   ]
  },
  {
   "cell_type": "code",
   "execution_count": 54,
   "id": "ae617090-1aea-431d-8c39-c3ee1719168b",
   "metadata": {},
   "outputs": [
    {
     "name": "stdout",
     "output_type": "stream",
     "text": [
      "6.15\n"
     ]
    }
   ],
   "source": [
    "m=6.15\n",
    "print(m)"
   ]
  },
  {
   "cell_type": "code",
   "execution_count": 56,
   "id": "600e7856-0ede-48a4-82d1-ec59605b1711",
   "metadata": {},
   "outputs": [
    {
     "name": "stdout",
     "output_type": "stream",
     "text": [
      "9.12\n"
     ]
    }
   ],
   "source": [
    "uh=9.12\n",
    "print(uh)"
   ]
  },
  {
   "cell_type": "code",
   "execution_count": 58,
   "id": "cc625487-3c07-403b-a7fb-6ce723bb1bbb",
   "metadata": {},
   "outputs": [
    {
     "name": "stdout",
     "output_type": "stream",
     "text": [
      "7.56\n"
     ]
    }
   ],
   "source": [
    "j=7.56\n",
    "print(j)"
   ]
  },
  {
   "cell_type": "code",
   "execution_count": 60,
   "id": "56a5f79f-3c57-4256-bada-8c600b4a1971",
   "metadata": {},
   "outputs": [
    {
     "name": "stdout",
     "output_type": "stream",
     "text": [
      "8.32\n"
     ]
    }
   ],
   "source": [
    "r=8.32\n",
    "print(r)"
   ]
  },
  {
   "cell_type": "code",
   "execution_count": 62,
   "id": "38b4f5ff-52e2-4fdf-9ba0-4a29ad16c450",
   "metadata": {},
   "outputs": [
    {
     "name": "stdout",
     "output_type": "stream",
     "text": [
      "5.26\n"
     ]
    }
   ],
   "source": [
    "t=5.26\n",
    "print(t)"
   ]
  },
  {
   "cell_type": "code",
   "execution_count": 64,
   "id": "b780bb29-7a09-48e6-8d32-110544995493",
   "metadata": {},
   "outputs": [
    {
     "name": "stdout",
     "output_type": "stream",
     "text": [
      "1.946\n"
     ]
    }
   ],
   "source": [
    "ey=1.946\n",
    "print(ey)"
   ]
  },
  {
   "cell_type": "code",
   "execution_count": 68,
   "id": "cc698236-40fb-4f0d-9fa4-da7dced177dd",
   "metadata": {},
   "outputs": [
    {
     "name": "stdout",
     "output_type": "stream",
     "text": [
      "2.4962\n"
     ]
    }
   ],
   "source": [
    "duh=2.4962\n",
    "print(duh)"
   ]
  },
  {
   "cell_type": "markdown",
   "id": "84720ca8-82c5-4659-8f5a-366fd86b6c3e",
   "metadata": {},
   "source": [
    "(Q)  Complex Data Type:\n",
    "\n",
    "(A)  *The complex data type in Python represents complex numbers, which have a real part and an imaginary part.\n",
    "\n",
    "     -Complex numbers are used in various fields, including mathematics, physics and engineering.\n",
    "\n",
    "     -Here are some examples for Complex Data type:"
   ]
  },
  {
   "cell_type": "code",
   "execution_count": 71,
   "id": "6e2be7a1-996a-4f62-9a64-ef0534e783ca",
   "metadata": {},
   "outputs": [
    {
     "name": "stdout",
     "output_type": "stream",
     "text": [
      "(6+4j)\n"
     ]
    }
   ],
   "source": [
    "q=6+4j\n",
    "print(q)"
   ]
  },
  {
   "cell_type": "code",
   "execution_count": 73,
   "id": "30a0e0c6-0777-400a-99e5-b74c394344b5",
   "metadata": {},
   "outputs": [
    {
     "name": "stdout",
     "output_type": "stream",
     "text": [
      "(5+6j)\n"
     ]
    }
   ],
   "source": [
    "w=5+6j\n",
    "print(w)"
   ]
  },
  {
   "cell_type": "code",
   "execution_count": 75,
   "id": "604129a5-8418-4c66-a0ab-529a69f1a90d",
   "metadata": {},
   "outputs": [
    {
     "name": "stdout",
     "output_type": "stream",
     "text": [
      "(-7+4j)\n"
     ]
    }
   ],
   "source": [
    "e=-7+4j\n",
    "print(e)"
   ]
  },
  {
   "cell_type": "code",
   "execution_count": 77,
   "id": "8b202a4d-962c-4864-b99d-8d5157bb01c7",
   "metadata": {},
   "outputs": [
    {
     "name": "stdout",
     "output_type": "stream",
     "text": [
      "(-89-2j)\n"
     ]
    }
   ],
   "source": [
    "r=-89-2j\n",
    "print(r)"
   ]
  },
  {
   "cell_type": "code",
   "execution_count": 79,
   "id": "313a0b55-01fc-4149-b740-8fd7feb162c8",
   "metadata": {},
   "outputs": [
    {
     "name": "stdout",
     "output_type": "stream",
     "text": [
      "(-5+2j)\n"
     ]
    }
   ],
   "source": [
    "a=-5+2j\n",
    "print(a)"
   ]
  },
  {
   "cell_type": "code",
   "execution_count": 81,
   "id": "1147c3df-fec3-443e-9824-d15a3dc0bf75",
   "metadata": {},
   "outputs": [
    {
     "name": "stdout",
     "output_type": "stream",
     "text": [
      "(6-1j)\n"
     ]
    }
   ],
   "source": [
    "s=6-1j\n",
    "print(s)"
   ]
  },
  {
   "cell_type": "code",
   "execution_count": 85,
   "id": "414c917d-46a6-4f17-8b76-9358d34c4e3e",
   "metadata": {},
   "outputs": [
    {
     "name": "stdout",
     "output_type": "stream",
     "text": [
      "(-7.26+5j)\n"
     ]
    }
   ],
   "source": [
    "d=-7.26+5j\n",
    "print(d)"
   ]
  },
  {
   "cell_type": "code",
   "execution_count": 87,
   "id": "eab95956-a096-4c9e-9d78-3352d03d0291",
   "metadata": {},
   "outputs": [
    {
     "name": "stdout",
     "output_type": "stream",
     "text": [
      "(3.65+2.4j)\n"
     ]
    }
   ],
   "source": [
    "f=3.65+2.4j\n",
    "print(f)"
   ]
  },
  {
   "cell_type": "code",
   "execution_count": 89,
   "id": "e94a349d-fc86-49e7-87a7-9cb7d6214e88",
   "metadata": {},
   "outputs": [
    {
     "name": "stdout",
     "output_type": "stream",
     "text": [
      "(8.9-4.3j)\n"
     ]
    }
   ],
   "source": [
    "z=8.9-4.3j\n",
    "print(z)"
   ]
  },
  {
   "cell_type": "code",
   "execution_count": 91,
   "id": "069d09ac-e6b0-4054-877d-cccb204d6cee",
   "metadata": {},
   "outputs": [
    {
     "name": "stdout",
     "output_type": "stream",
     "text": [
      "(6+2.6j)\n"
     ]
    }
   ],
   "source": [
    "x=6+2.6j\n",
    "print(x)"
   ]
  },
  {
   "cell_type": "markdown",
   "id": "978f9fa5-ceea-458e-a0db-d5393f04e3cd",
   "metadata": {},
   "source": [
    "(Q)  Boolean Data Type:\n",
    "\n",
    "(A)  *Python boolean type is one of built-in data types which represents one of the two values either True or False.\n",
    "\n",
    "     -Here are some examples for boolean data type:"
   ]
  },
  {
   "cell_type": "code",
   "execution_count": 94,
   "id": "88f38800-0cc6-4100-b265-6991b39cfac8",
   "metadata": {},
   "outputs": [
    {
     "data": {
      "text/plain": [
       "True"
      ]
     },
     "execution_count": 94,
     "metadata": {},
     "output_type": "execute_result"
    }
   ],
   "source": [
    "656>45"
   ]
  },
  {
   "cell_type": "code",
   "execution_count": 98,
   "id": "ac730292-aecd-4a08-82a9-599f0deb87ad",
   "metadata": {},
   "outputs": [
    {
     "data": {
      "text/plain": [
       "False"
      ]
     },
     "execution_count": 98,
     "metadata": {},
     "output_type": "execute_result"
    }
   ],
   "source": [
    "545==745"
   ]
  },
  {
   "cell_type": "code",
   "execution_count": 100,
   "id": "67153c1c-d6b6-4de1-8754-844e44c9544f",
   "metadata": {},
   "outputs": [
    {
     "data": {
      "text/plain": [
       "True"
      ]
     },
     "execution_count": 100,
     "metadata": {},
     "output_type": "execute_result"
    }
   ],
   "source": [
    "65<5654"
   ]
  },
  {
   "cell_type": "code",
   "execution_count": 102,
   "id": "206f9afd-878a-407e-9d67-d5a42ef18be1",
   "metadata": {},
   "outputs": [
    {
     "data": {
      "text/plain": [
       "False"
      ]
     },
     "execution_count": 102,
     "metadata": {},
     "output_type": "execute_result"
    }
   ],
   "source": [
    "56<45"
   ]
  },
  {
   "cell_type": "code",
   "execution_count": 104,
   "id": "e168f2b9-bf98-4fa7-b783-fb6eaabb6f2e",
   "metadata": {},
   "outputs": [
    {
     "data": {
      "text/plain": [
       "True"
      ]
     },
     "execution_count": 104,
     "metadata": {},
     "output_type": "execute_result"
    }
   ],
   "source": [
    "5489>1369"
   ]
  },
  {
   "cell_type": "code",
   "execution_count": 106,
   "id": "faa4c60e-a4d2-4318-a7d2-497781d8f5c3",
   "metadata": {},
   "outputs": [
    {
     "data": {
      "text/plain": [
       "False"
      ]
     },
     "execution_count": 106,
     "metadata": {},
     "output_type": "execute_result"
    }
   ],
   "source": [
    "214654==56+56"
   ]
  },
  {
   "cell_type": "code",
   "execution_count": 108,
   "id": "adb9a17a-c256-4079-b5ef-eb01a6a51106",
   "metadata": {},
   "outputs": [
    {
     "data": {
      "text/plain": [
       "True"
      ]
     },
     "execution_count": 108,
     "metadata": {},
     "output_type": "execute_result"
    }
   ],
   "source": [
    "54<6541"
   ]
  },
  {
   "cell_type": "code",
   "execution_count": 110,
   "id": "9e38c1ac-2b53-414f-a37a-f9a62b070b8c",
   "metadata": {},
   "outputs": [
    {
     "data": {
      "text/plain": [
       "True"
      ]
     },
     "execution_count": 110,
     "metadata": {},
     "output_type": "execute_result"
    }
   ],
   "source": [
    "123<456"
   ]
  },
  {
   "cell_type": "code",
   "execution_count": 112,
   "id": "1155472d-4bea-43ec-9d3c-429116ec1d48",
   "metadata": {},
   "outputs": [
    {
     "data": {
      "text/plain": [
       "False"
      ]
     },
     "execution_count": 112,
     "metadata": {},
     "output_type": "execute_result"
    }
   ],
   "source": [
    "456>789"
   ]
  },
  {
   "cell_type": "code",
   "execution_count": 114,
   "id": "f34e8a67-b5c3-4d4c-96da-35d090421ab9",
   "metadata": {},
   "outputs": [
    {
     "data": {
      "text/plain": [
       "True"
      ]
     },
     "execution_count": 114,
     "metadata": {},
     "output_type": "execute_result"
    }
   ],
   "source": [
    "1<11"
   ]
  },
  {
   "cell_type": "markdown",
   "id": "07f9f1c3-5fa1-43c7-9ef3-76e2b17d83a7",
   "metadata": {},
   "source": [
    "(Q)  Type Function:\n",
    "\n",
    "(A)  *In Python, the type() function is used to determine the data type of an object. It returns the type of the specified object.\n",
    "\n",
    "     -Here is the example of it:"
   ]
  },
  {
   "cell_type": "code",
   "execution_count": 117,
   "id": "50a8a879-fc24-462b-a29b-b1cbb2926ca2",
   "metadata": {},
   "outputs": [
    {
     "name": "stdout",
     "output_type": "stream",
     "text": [
      "<class 'int'>\n"
     ]
    }
   ],
   "source": [
    "x = 10\n",
    "print(type(x)) "
   ]
  },
  {
   "cell_type": "code",
   "execution_count": 119,
   "id": "6df975c3-38f8-4139-9145-71662fd798a7",
   "metadata": {},
   "outputs": [
    {
     "name": "stdout",
     "output_type": "stream",
     "text": [
      "<class 'float'>\n"
     ]
    }
   ],
   "source": [
    "y = 3.14\n",
    "print(type(y))"
   ]
  },
  {
   "cell_type": "code",
   "execution_count": 121,
   "id": "b56d66ed-223f-48fe-81b7-4c90cdcdd63f",
   "metadata": {},
   "outputs": [
    {
     "name": "stdout",
     "output_type": "stream",
     "text": [
      "<class 'complex'>\n"
     ]
    }
   ],
   "source": [
    "a = 2 + 3j\n",
    "print(type(a))"
   ]
  },
  {
   "cell_type": "markdown",
   "id": "1cf4bec8-28e9-42e6-8b7b-e2dba8bd402a",
   "metadata": {},
   "source": [
    "(Q)  Type Conversion or Casting:\n",
    "\n",
    "(A)  *Type conversion in Python is the process of converting one data type to another.\n",
    "\n",
    "     -You can manually convert types using built-in functions.\n",
    "     \n",
    "     -Here are some common type conversion functions:\n",
    "\n",
    "     -1.int(): Converts to an integer.\n",
    "     -2.float(): Converts to a float.\n",
    "     -3.cpmplex():Convert to a complex."
   ]
  },
  {
   "cell_type": "code",
   "execution_count": 124,
   "id": "a8d0d50e-febd-4f2e-b713-40699bf52517",
   "metadata": {},
   "outputs": [
    {
     "name": "stdout",
     "output_type": "stream",
     "text": [
      "123\n"
     ]
    }
   ],
   "source": [
    "#Here conversion of int to float is happening.\n",
    "x = \"123\"\n",
    "y = int(x)  \n",
    "print(y)"
   ]
  },
  {
   "cell_type": "code",
   "execution_count": 126,
   "id": "92bfaeba-9977-4944-a2a0-5d58cac2dca7",
   "metadata": {},
   "outputs": [
    {
     "name": "stdout",
     "output_type": "stream",
     "text": [
      "5463\n"
     ]
    }
   ],
   "source": [
    "i = \"5463\"\n",
    "w = int(i)  \n",
    "print(w)"
   ]
  },
  {
   "cell_type": "code",
   "execution_count": 128,
   "id": "96563cc6-5c12-4993-bee8-1c5f3c5c3856",
   "metadata": {},
   "outputs": [
    {
     "name": "stdout",
     "output_type": "stream",
     "text": [
      "84\n"
     ]
    }
   ],
   "source": [
    "d = \"84\"\n",
    "c= int(d)  \n",
    "print(c)"
   ]
  },
  {
   "cell_type": "code",
   "execution_count": 130,
   "id": "3adc2866-b69d-4c13-86ad-755b6190ae90",
   "metadata": {},
   "outputs": [
    {
     "name": "stdout",
     "output_type": "stream",
     "text": [
      "3.14\n"
     ]
    }
   ],
   "source": [
    "#Here conversion of float to int is happening.\n",
    "x = \"3.14\"\n",
    "y = float(x)  \n",
    "print(y)"
   ]
  },
  {
   "cell_type": "code",
   "execution_count": 132,
   "id": "4a3623ed-a905-4eeb-95a5-4402e2032ed8",
   "metadata": {},
   "outputs": [
    {
     "name": "stdout",
     "output_type": "stream",
     "text": [
      "5.65\n"
     ]
    }
   ],
   "source": [
    "q= \"5.65\"\n",
    "j= float(q)  \n",
    "print(j)"
   ]
  },
  {
   "cell_type": "code",
   "execution_count": 134,
   "id": "47347874-a9f0-4e41-a5e2-a75eec0e57c6",
   "metadata": {},
   "outputs": [
    {
     "name": "stdout",
     "output_type": "stream",
     "text": [
      "95.56\n"
     ]
    }
   ],
   "source": [
    "k = \"95.56\"\n",
    "sch = float(k)  \n",
    "print(sch)"
   ]
  },
  {
   "cell_type": "code",
   "execution_count": 136,
   "id": "9c5207ae-052c-4144-80a6-7500c2d62f14",
   "metadata": {},
   "outputs": [
    {
     "name": "stdout",
     "output_type": "stream",
     "text": [
      "(2.65+0j)\n"
     ]
    }
   ],
   "source": [
    "#Here conversion of float to complex is happening.\n",
    "x=2.65\n",
    "y=complex(x)\n",
    "print(y)"
   ]
  },
  {
   "cell_type": "code",
   "execution_count": 138,
   "id": "98658cf0-b6ec-46cf-a6c5-e8bb0f421aa4",
   "metadata": {},
   "outputs": [
    {
     "name": "stdout",
     "output_type": "stream",
     "text": [
      "(9.65+0j)\n"
     ]
    }
   ],
   "source": [
    "p=9.65\n",
    "s=complex(p)\n",
    "print(s)"
   ]
  },
  {
   "cell_type": "code",
   "execution_count": 140,
   "id": "31b16623-cae3-46be-8b00-25eab8862115",
   "metadata": {},
   "outputs": [
    {
     "name": "stdout",
     "output_type": "stream",
     "text": [
      "(5.64+0j)\n"
     ]
    }
   ],
   "source": [
    "f=5.64\n",
    "r=complex(f)\n",
    "print(r)"
   ]
  },
  {
   "cell_type": "code",
   "execution_count": 142,
   "id": "5ecfa6c8-0767-4cd8-adc1-be0d1a344f46",
   "metadata": {},
   "outputs": [
    {
     "name": "stdout",
     "output_type": "stream",
     "text": [
      "(3+0j)\n"
     ]
    }
   ],
   "source": [
    "#Here conversion of int to complex is happening.\n",
    "o=3\n",
    "i=complex(o)\n",
    "print(i)"
   ]
  },
  {
   "cell_type": "code",
   "execution_count": 144,
   "id": "40cca398-cbb6-4a9c-95fa-cd74bba91bc3",
   "metadata": {},
   "outputs": [
    {
     "name": "stdout",
     "output_type": "stream",
     "text": [
      "(7+0j)\n"
     ]
    }
   ],
   "source": [
    "a=7\n",
    "h=complex(a)\n",
    "print(h)"
   ]
  },
  {
   "cell_type": "code",
   "execution_count": 146,
   "id": "8818dd73-92de-4062-ae8d-29f5f59edc86",
   "metadata": {},
   "outputs": [
    {
     "name": "stdout",
     "output_type": "stream",
     "text": [
      "(256+0j)\n"
     ]
    }
   ],
   "source": [
    "k=256\n",
    "n=complex(k)\n",
    "print(n)"
   ]
  },
  {
   "cell_type": "code",
   "execution_count": 148,
   "id": "eaa77922-2931-484f-b042-877f21ac9532",
   "metadata": {},
   "outputs": [
    {
     "ename": "TypeError",
     "evalue": "int() argument must be a string, a bytes-like object or a real number, not 'complex'",
     "output_type": "error",
     "traceback": [
      "\u001b[1;31m---------------------------------------------------------------------------\u001b[0m",
      "\u001b[1;31mTypeError\u001b[0m                                 Traceback (most recent call last)",
      "Cell \u001b[1;32mIn[148], line 3\u001b[0m\n\u001b[0;32m      1\u001b[0m \u001b[38;5;66;03m#Here conversion of complex to int is happening.\u001b[39;00m\n\u001b[0;32m      2\u001b[0m g\u001b[38;5;241m=\u001b[39m\u001b[38;5;241m7\u001b[39m\u001b[38;5;241m+\u001b[39m\u001b[38;5;241m6\u001b[39mj\n\u001b[1;32m----> 3\u001b[0m y\u001b[38;5;241m=\u001b[39m\u001b[38;5;28mint\u001b[39m(g)\n\u001b[0;32m      4\u001b[0m \u001b[38;5;28mprint\u001b[39m(y)\n",
      "\u001b[1;31mTypeError\u001b[0m: int() argument must be a string, a bytes-like object or a real number, not 'complex'"
     ]
    }
   ],
   "source": [
    "#Here conversion of complex to int is happening.\n",
    "g=7+6j\n",
    "y=int(g)\n",
    "print(y)"
   ]
  },
  {
   "cell_type": "code",
   "execution_count": 150,
   "id": "d34e2f43-3f24-498f-95ff-65a2bf91cddb",
   "metadata": {},
   "outputs": [
    {
     "ename": "TypeError",
     "evalue": "int() argument must be a string, a bytes-like object or a real number, not 'complex'",
     "output_type": "error",
     "traceback": [
      "\u001b[1;31m---------------------------------------------------------------------------\u001b[0m",
      "\u001b[1;31mTypeError\u001b[0m                                 Traceback (most recent call last)",
      "Cell \u001b[1;32mIn[150], line 2\u001b[0m\n\u001b[0;32m      1\u001b[0m e\u001b[38;5;241m=\u001b[39m\u001b[38;5;241m4\u001b[39m\u001b[38;5;241m-\u001b[39m\u001b[38;5;241m2\u001b[39mj\n\u001b[1;32m----> 2\u001b[0m a\u001b[38;5;241m=\u001b[39m\u001b[38;5;28mint\u001b[39m(e)\n\u001b[0;32m      3\u001b[0m \u001b[38;5;28mprint\u001b[39m(a)\n",
      "\u001b[1;31mTypeError\u001b[0m: int() argument must be a string, a bytes-like object or a real number, not 'complex'"
     ]
    }
   ],
   "source": [
    "e=4-2j\n",
    "a=int(e)\n",
    "print(a)"
   ]
  },
  {
   "cell_type": "code",
   "execution_count": 152,
   "id": "5bc09324-7507-4eb0-8d89-f63f86616c0e",
   "metadata": {},
   "outputs": [
    {
     "ename": "TypeError",
     "evalue": "int() argument must be a string, a bytes-like object or a real number, not 'complex'",
     "output_type": "error",
     "traceback": [
      "\u001b[1;31m---------------------------------------------------------------------------\u001b[0m",
      "\u001b[1;31mTypeError\u001b[0m                                 Traceback (most recent call last)",
      "Cell \u001b[1;32mIn[152], line 2\u001b[0m\n\u001b[0;32m      1\u001b[0m x\u001b[38;5;241m=\u001b[39m\u001b[38;5;241m1\u001b[39m\u001b[38;5;241m+\u001b[39m\u001b[38;5;241m6\u001b[39mj\n\u001b[1;32m----> 2\u001b[0m v\u001b[38;5;241m=\u001b[39m\u001b[38;5;28mint\u001b[39m(x)\n\u001b[0;32m      3\u001b[0m \u001b[38;5;28mprint\u001b[39m(v)\n",
      "\u001b[1;31mTypeError\u001b[0m: int() argument must be a string, a bytes-like object or a real number, not 'complex'"
     ]
    }
   ],
   "source": [
    "x=1+6j\n",
    "v=int(x)\n",
    "print(v)"
   ]
  },
  {
   "cell_type": "code",
   "execution_count": 154,
   "id": "9917e379-0682-4483-807c-4105f66c28cd",
   "metadata": {},
   "outputs": [
    {
     "ename": "TypeError",
     "evalue": "int() argument must be a string, a bytes-like object or a real number, not 'complex'",
     "output_type": "error",
     "traceback": [
      "\u001b[1;31m---------------------------------------------------------------------------\u001b[0m",
      "\u001b[1;31mTypeError\u001b[0m                                 Traceback (most recent call last)",
      "Cell \u001b[1;32mIn[154], line 2\u001b[0m\n\u001b[0;32m      1\u001b[0m d\u001b[38;5;241m=\u001b[39m\u001b[38;5;241m9\u001b[39m\u001b[38;5;241m-\u001b[39m\u001b[38;5;241m7\u001b[39mj\n\u001b[1;32m----> 2\u001b[0m f\u001b[38;5;241m=\u001b[39m\u001b[38;5;28mint\u001b[39m(d)\n\u001b[0;32m      3\u001b[0m \u001b[38;5;28mprint\u001b[39m(f)\n",
      "\u001b[1;31mTypeError\u001b[0m: int() argument must be a string, a bytes-like object or a real number, not 'complex'"
     ]
    }
   ],
   "source": [
    "d=9-7j\n",
    "f=int(d)\n",
    "print(f)"
   ]
  },
  {
   "cell_type": "code",
   "execution_count": 156,
   "id": "0b0076e3-9f55-4158-8d68-def288b6ae5e",
   "metadata": {},
   "outputs": [
    {
     "ename": "TypeError",
     "evalue": "int() argument must be a string, a bytes-like object or a real number, not 'complex'",
     "output_type": "error",
     "traceback": [
      "\u001b[1;31m---------------------------------------------------------------------------\u001b[0m",
      "\u001b[1;31mTypeError\u001b[0m                                 Traceback (most recent call last)",
      "Cell \u001b[1;32mIn[156], line 2\u001b[0m\n\u001b[0;32m      1\u001b[0m j\u001b[38;5;241m=\u001b[39m\u001b[38;5;241m-\u001b[39m\u001b[38;5;241m3\u001b[39m\u001b[38;5;241m-\u001b[39m\u001b[38;5;241m1\u001b[39mj\n\u001b[1;32m----> 2\u001b[0m q\u001b[38;5;241m=\u001b[39m\u001b[38;5;28mint\u001b[39m(j)\n\u001b[0;32m      3\u001b[0m \u001b[38;5;28mprint\u001b[39m(q)\n",
      "\u001b[1;31mTypeError\u001b[0m: int() argument must be a string, a bytes-like object or a real number, not 'complex'"
     ]
    }
   ],
   "source": [
    "j=-3-1j\n",
    "q=int(j)\n",
    "print(q)"
   ]
  },
  {
   "cell_type": "code",
   "execution_count": 168,
   "id": "c1ca3a06-000d-4b88-92f4-391343d8f30f",
   "metadata": {},
   "outputs": [
    {
     "ename": "TypeError",
     "evalue": "float() argument must be a string or a real number, not 'complex'",
     "output_type": "error",
     "traceback": [
      "\u001b[1;31m---------------------------------------------------------------------------\u001b[0m",
      "\u001b[1;31mTypeError\u001b[0m                                 Traceback (most recent call last)",
      "Cell \u001b[1;32mIn[168], line 3\u001b[0m\n\u001b[0;32m      1\u001b[0m \u001b[38;5;66;03m#Here conversion of complex to float is happening.\u001b[39;00m\n\u001b[0;32m      2\u001b[0m l\u001b[38;5;241m=\u001b[39m\u001b[38;5;241m1.3\u001b[39m\u001b[38;5;241m-\u001b[39m\u001b[38;5;241m2.6\u001b[39mj\n\u001b[1;32m----> 3\u001b[0m p\u001b[38;5;241m=\u001b[39m\u001b[38;5;28mfloat\u001b[39m(l)\n\u001b[0;32m      4\u001b[0m \u001b[38;5;28mprint\u001b[39m(p)\n",
      "\u001b[1;31mTypeError\u001b[0m: float() argument must be a string or a real number, not 'complex'"
     ]
    }
   ],
   "source": [
    "#Here conversion of complex to float is happening.\n",
    "l=1.3-2.6j\n",
    "p=float(l)\n",
    "print(p)"
   ]
  },
  {
   "cell_type": "code",
   "execution_count": 160,
   "id": "cb0b1248-5d88-4532-9fb9-7d828adc1a9a",
   "metadata": {},
   "outputs": [
    {
     "ename": "TypeError",
     "evalue": "float() argument must be a string or a real number, not 'complex'",
     "output_type": "error",
     "traceback": [
      "\u001b[1;31m---------------------------------------------------------------------------\u001b[0m",
      "\u001b[1;31mTypeError\u001b[0m                                 Traceback (most recent call last)",
      "Cell \u001b[1;32mIn[160], line 2\u001b[0m\n\u001b[0;32m      1\u001b[0m t\u001b[38;5;241m=\u001b[39m\u001b[38;5;241m5\u001b[39m\u001b[38;5;241m-\u001b[39m\u001b[38;5;241m4.5\u001b[39mj\n\u001b[1;32m----> 2\u001b[0m d\u001b[38;5;241m=\u001b[39m\u001b[38;5;28mfloat\u001b[39m(t)\n\u001b[0;32m      3\u001b[0m \u001b[38;5;28mprint\u001b[39m(d)\n",
      "\u001b[1;31mTypeError\u001b[0m: float() argument must be a string or a real number, not 'complex'"
     ]
    }
   ],
   "source": [
    "t=5-4.5j\n",
    "d=float(t)\n",
    "print(d)"
   ]
  },
  {
   "cell_type": "code",
   "execution_count": 162,
   "id": "6b041045-c683-4a23-b0b7-dadadd9ccc75",
   "metadata": {},
   "outputs": [
    {
     "ename": "TypeError",
     "evalue": "float() argument must be a string or a real number, not 'complex'",
     "output_type": "error",
     "traceback": [
      "\u001b[1;31m---------------------------------------------------------------------------\u001b[0m",
      "\u001b[1;31mTypeError\u001b[0m                                 Traceback (most recent call last)",
      "Cell \u001b[1;32mIn[162], line 2\u001b[0m\n\u001b[0;32m      1\u001b[0m k\u001b[38;5;241m=\u001b[39m\u001b[38;5;241m4\u001b[39m\u001b[38;5;241m+\u001b[39m\u001b[38;5;241m1\u001b[39mj\n\u001b[1;32m----> 2\u001b[0m s\u001b[38;5;241m=\u001b[39m\u001b[38;5;28mfloat\u001b[39m(k)\n\u001b[0;32m      3\u001b[0m \u001b[38;5;28mprint\u001b[39m(s)\n",
      "\u001b[1;31mTypeError\u001b[0m: float() argument must be a string or a real number, not 'complex'"
     ]
    }
   ],
   "source": [
    "k=4+1j\n",
    "s=float(k)\n",
    "print(s)"
   ]
  },
  {
   "cell_type": "code",
   "execution_count": 164,
   "id": "38054356-7690-423c-94bb-0fb25ab2e9fc",
   "metadata": {},
   "outputs": [
    {
     "ename": "TypeError",
     "evalue": "float() argument must be a string or a real number, not 'complex'",
     "output_type": "error",
     "traceback": [
      "\u001b[1;31m---------------------------------------------------------------------------\u001b[0m",
      "\u001b[1;31mTypeError\u001b[0m                                 Traceback (most recent call last)",
      "Cell \u001b[1;32mIn[164], line 2\u001b[0m\n\u001b[0;32m      1\u001b[0m g\u001b[38;5;241m=\u001b[39m\u001b[38;5;241m3\u001b[39m\u001b[38;5;241m+\u001b[39m\u001b[38;5;241m8\u001b[39mj\n\u001b[1;32m----> 2\u001b[0m w\u001b[38;5;241m=\u001b[39m\u001b[38;5;28mfloat\u001b[39m(g)\n\u001b[0;32m      3\u001b[0m \u001b[38;5;28mprint\u001b[39m(w)\n",
      "\u001b[1;31mTypeError\u001b[0m: float() argument must be a string or a real number, not 'complex'"
     ]
    }
   ],
   "source": [
    "g=3+8j\n",
    "w=float(g)\n",
    "print(w)"
   ]
  },
  {
   "cell_type": "code",
   "execution_count": 166,
   "id": "31ad3719-913f-487e-b381-7bd82c272d6c",
   "metadata": {},
   "outputs": [
    {
     "ename": "TypeError",
     "evalue": "float() argument must be a string or a real number, not 'complex'",
     "output_type": "error",
     "traceback": [
      "\u001b[1;31m---------------------------------------------------------------------------\u001b[0m",
      "\u001b[1;31mTypeError\u001b[0m                                 Traceback (most recent call last)",
      "Cell \u001b[1;32mIn[166], line 2\u001b[0m\n\u001b[0;32m      1\u001b[0m z\u001b[38;5;241m=\u001b[39m\u001b[38;5;241m9\u001b[39m\u001b[38;5;241m+\u001b[39m\u001b[38;5;241m6\u001b[39mj\n\u001b[1;32m----> 2\u001b[0m u\u001b[38;5;241m=\u001b[39m\u001b[38;5;28mfloat\u001b[39m(z)\n\u001b[0;32m      3\u001b[0m \u001b[38;5;28mprint\u001b[39m(u)\n",
      "\u001b[1;31mTypeError\u001b[0m: float() argument must be a string or a real number, not 'complex'"
     ]
    }
   ],
   "source": [
    "z=9+6j\n",
    "u=float(z)\n",
    "print(u)"
   ]
  },
  {
   "cell_type": "markdown",
   "id": "9a5ac032-9a3c-4ec0-8454-3aad1d778d53",
   "metadata": {},
   "source": [
    "(Q)  Bool Function:\n",
    "\n",
    "\n",
    "(A)  *In Python, the bool() function is used to convert a value to a Boolean (True or False).\n",
    "\n",
    "     -It evaluates the truthiness of the input.\n",
    "\n",
    "     -Here are some examples of bool function:"
   ]
  },
  {
   "cell_type": "code",
   "execution_count": 171,
   "id": "41c19635-10ff-4ee3-b2ca-eb359ee8f0e6",
   "metadata": {},
   "outputs": [
    {
     "data": {
      "text/plain": [
       "True"
      ]
     },
     "execution_count": 171,
     "metadata": {},
     "output_type": "execute_result"
    }
   ],
   "source": [
    "bool(73)"
   ]
  },
  {
   "cell_type": "code",
   "execution_count": 173,
   "id": "8268602b-70e1-4f4d-b336-4dd84714c61c",
   "metadata": {},
   "outputs": [
    {
     "data": {
      "text/plain": [
       "False"
      ]
     },
     "execution_count": 173,
     "metadata": {},
     "output_type": "execute_result"
    }
   ],
   "source": [
    "bool()"
   ]
  },
  {
   "cell_type": "code",
   "execution_count": 175,
   "id": "926e427e-0d43-40d8-9831-bdd41f73c638",
   "metadata": {},
   "outputs": [
    {
     "data": {
      "text/plain": [
       "True"
      ]
     },
     "execution_count": 175,
     "metadata": {},
     "output_type": "execute_result"
    }
   ],
   "source": [
    "bool(56)"
   ]
  },
  {
   "cell_type": "code",
   "execution_count": 177,
   "id": "5771f903-90da-4a41-9596-b1e985071231",
   "metadata": {},
   "outputs": [
    {
     "data": {
      "text/plain": [
       "True"
      ]
     },
     "execution_count": 177,
     "metadata": {},
     "output_type": "execute_result"
    }
   ],
   "source": [
    "bool(832)"
   ]
  },
  {
   "cell_type": "code",
   "execution_count": 179,
   "id": "a2ed1e5a-cdf8-4c59-9c3a-f1b9fc45c9c2",
   "metadata": {},
   "outputs": [
    {
     "data": {
      "text/plain": [
       "False"
      ]
     },
     "execution_count": 179,
     "metadata": {},
     "output_type": "execute_result"
    }
   ],
   "source": [
    "bool(0)"
   ]
  },
  {
   "cell_type": "code",
   "execution_count": 181,
   "id": "e5f7071e-4bfd-4ca0-aa15-a97392f08bfe",
   "metadata": {},
   "outputs": [
    {
     "data": {
      "text/plain": [
       "True"
      ]
     },
     "execution_count": 181,
     "metadata": {},
     "output_type": "execute_result"
    }
   ],
   "source": [
    "bool(78316)"
   ]
  },
  {
   "cell_type": "code",
   "execution_count": 185,
   "id": "b3625017-13e7-4f65-a93e-158f3d195037",
   "metadata": {},
   "outputs": [
    {
     "data": {
      "text/plain": [
       "False"
      ]
     },
     "execution_count": 185,
     "metadata": {},
     "output_type": "execute_result"
    }
   ],
   "source": [
    "bool(None)"
   ]
  },
  {
   "cell_type": "code",
   "execution_count": 187,
   "id": "d4a8f651-e51a-4f18-94ae-5b4139afe816",
   "metadata": {},
   "outputs": [
    {
     "data": {
      "text/plain": [
       "True"
      ]
     },
     "execution_count": 187,
     "metadata": {},
     "output_type": "execute_result"
    }
   ],
   "source": [
    "bool(641)"
   ]
  },
  {
   "cell_type": "code",
   "execution_count": 189,
   "id": "3be5d9e9-df39-402e-a0be-dbb6bed0c967",
   "metadata": {},
   "outputs": [
    {
     "data": {
      "text/plain": [
       "True"
      ]
     },
     "execution_count": 189,
     "metadata": {},
     "output_type": "execute_result"
    }
   ],
   "source": [
    "bool(445)"
   ]
  },
  {
   "cell_type": "code",
   "execution_count": 193,
   "id": "6277a817-189b-406a-89ba-971f29baefdb",
   "metadata": {},
   "outputs": [
    {
     "data": {
      "text/plain": [
       "True"
      ]
     },
     "execution_count": 193,
     "metadata": {},
     "output_type": "execute_result"
    }
   ],
   "source": [
    "bool(456)"
   ]
  },
  {
   "cell_type": "code",
   "execution_count": null,
   "id": "3c0ac406-1249-4969-94a2-73beda8829bd",
   "metadata": {},
   "outputs": [],
   "source": []
  }
 ],
 "metadata": {
  "kernelspec": {
   "display_name": "Python 3 (ipykernel)",
   "language": "python",
   "name": "python3"
  },
  "language_info": {
   "codemirror_mode": {
    "name": "ipython",
    "version": 3
   },
   "file_extension": ".py",
   "mimetype": "text/x-python",
   "name": "python",
   "nbconvert_exporter": "python",
   "pygments_lexer": "ipython3",
   "version": "3.12.4"
  }
 },
 "nbformat": 4,
 "nbformat_minor": 5
}
