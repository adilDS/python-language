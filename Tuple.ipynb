{
  "nbformat": 4,
  "nbformat_minor": 0,
  "metadata": {
    "colab": {
      "provenance": []
    },
    "kernelspec": {
      "name": "python3",
      "display_name": "Python 3"
    },
    "language_info": {
      "name": "python"
    }
  },
  "cells": [
    {
      "cell_type": "markdown",
      "source": [
        "# Tuple:"
      ],
      "metadata": {
        "id": "_vN6sdZ-NodN"
      }
    },
    {
      "cell_type": "markdown",
      "source": [
        "Python Tuple is a collection of objects separated by commas. In some ways, a tuple is similar to a Python list in terms of indexing, nested objects, and repetition but the main difference between both is Python tuple is immutable, unlike the Python list which is mutable.Create Tuples using Round Brackets ().Tuples are used to store multiple items in a single variable.Tuple is one of 4 built-in data types in Python used to store collections of data, the other 3 are List, Set, and Dictionary, all with different qualities and usage.A tuple is a collection which is ordered and unchangeable.Once a tuple is created, you cannot change its values. Tuples are unchangeable, or immutable as it also is called. But there is a workaround."
      ],
      "metadata": {
        "id": "9pw6G6wmNpvS"
      }
    },
    {
      "cell_type": "code",
      "source": [
        "#tuple examples\n",
        "lk=(1,2,3,4,5,6,7)\n",
        "print(type(lk))"
      ],
      "metadata": {
        "colab": {
          "base_uri": "https://localhost:8080/"
        },
        "id": "zFCKekhvN7lo",
        "outputId": "a9f148f3-526b-4dba-e3e4-0655fab896f0"
      },
      "execution_count": 1,
      "outputs": [
        {
          "output_type": "stream",
          "name": "stdout",
          "text": [
            "<class 'tuple'>\n"
          ]
        }
      ]
    },
    {
      "cell_type": "code",
      "source": [
        "lm=(1,2.4,6+4j,\"Abdul\",True)\n",
        "print(type(lm))"
      ],
      "metadata": {
        "colab": {
          "base_uri": "https://localhost:8080/"
        },
        "id": "6YanDeIFOBxe",
        "outputId": "9253fa71-75f8-475c-b9fe-9c027e3c2360"
      },
      "execution_count": 2,
      "outputs": [
        {
          "output_type": "stream",
          "name": "stdout",
          "text": [
            "<class 'tuple'>\n"
          ]
        }
      ]
    },
    {
      "cell_type": "code",
      "execution_count": 3,
      "metadata": {
        "colab": {
          "base_uri": "https://localhost:8080/"
        },
        "id": "h1j1wPf0NkJk",
        "outputId": "a7d67786-4d52-41a0-e402-6ec516e360cd"
      },
      "outputs": [
        {
          "output_type": "stream",
          "name": "stdout",
          "text": [
            "<class 'tuple'>\n"
          ]
        }
      ],
      "source": [
        "mh=(1,2,65,24,25)\n",
        "print(type(mh))"
      ]
    },
    {
      "cell_type": "code",
      "source": [
        "ok=(22,3.56,23.5,12.2,62,1.1)\n",
        "print(type(ok))"
      ],
      "metadata": {
        "colab": {
          "base_uri": "https://localhost:8080/"
        },
        "id": "ru-D2n8IOJkM",
        "outputId": "34fedb42-0f50-463b-f6af-1b305753dd20"
      },
      "execution_count": 4,
      "outputs": [
        {
          "output_type": "stream",
          "name": "stdout",
          "text": [
            "<class 'tuple'>\n"
          ]
        }
      ]
    },
    {
      "cell_type": "code",
      "source": [
        "sk=(2,3,4,5,6,4+6j,\"Abdul\")\n",
        "print(type(sk))"
      ],
      "metadata": {
        "colab": {
          "base_uri": "https://localhost:8080/"
        },
        "id": "I_m5xdBiOOgx",
        "outputId": "a8b01b64-d628-4ef4-ddec-3670b1f9357d"
      },
      "execution_count": 5,
      "outputs": [
        {
          "output_type": "stream",
          "name": "stdout",
          "text": [
            "<class 'tuple'>\n"
          ]
        }
      ]
    },
    {
      "cell_type": "code",
      "source": [
        "KS=(\"ala\",1,84,63.4)\n",
        "print(type(KS))"
      ],
      "metadata": {
        "colab": {
          "base_uri": "https://localhost:8080/"
        },
        "id": "wVRYDckBOQdf",
        "outputId": "37940e34-6bcb-4999-9b09-667865ed41b0"
      },
      "execution_count": 6,
      "outputs": [
        {
          "output_type": "stream",
          "name": "stdout",
          "text": [
            "<class 'tuple'>\n"
          ]
        }
      ]
    },
    {
      "cell_type": "code",
      "source": [
        "fj=(46,50.54,\"ASwe\")\n",
        "print(type(fj))"
      ],
      "metadata": {
        "colab": {
          "base_uri": "https://localhost:8080/"
        },
        "id": "D7uf0jkGOVXE",
        "outputId": "8001bbf7-9c3f-47ad-aca8-ead3f963cad4"
      },
      "execution_count": 7,
      "outputs": [
        {
          "output_type": "stream",
          "name": "stdout",
          "text": [
            "<class 'tuple'>\n"
          ]
        }
      ]
    },
    {
      "cell_type": "code",
      "source": [
        "ms=(True,False,False,True)\n",
        "print(type(ms))\n",
        ""
      ],
      "metadata": {
        "colab": {
          "base_uri": "https://localhost:8080/"
        },
        "id": "BBKFVIjuOWJ6",
        "outputId": "1b7afee5-8834-4df5-ff90-6ed756d81db7"
      },
      "execution_count": 8,
      "outputs": [
        {
          "output_type": "stream",
          "name": "stdout",
          "text": [
            "<class 'tuple'>\n"
          ]
        }
      ]
    },
    {
      "cell_type": "code",
      "source": [
        "ss=(82+4j,7+4j,5+5j)\n",
        "print(type(ss))\n",
        ""
      ],
      "metadata": {
        "colab": {
          "base_uri": "https://localhost:8080/"
        },
        "id": "oq5AEsOYOZGT",
        "outputId": "63af14c8-6a3d-408d-9558-92efae21eb6e"
      },
      "execution_count": 9,
      "outputs": [
        {
          "output_type": "stream",
          "name": "stdout",
          "text": [
            "<class 'tuple'>\n"
          ]
        }
      ]
    },
    {
      "cell_type": "code",
      "source": [
        "zh=(\"akasm\",\"kasnm\",\"ajsn\",\"kasn\")\n",
        "print(type(zh))"
      ],
      "metadata": {
        "colab": {
          "base_uri": "https://localhost:8080/"
        },
        "id": "UK863CH3ObdG",
        "outputId": "12b2431b-d0e1-44aa-f4a1-a4be582a516a"
      },
      "execution_count": 10,
      "outputs": [
        {
          "output_type": "stream",
          "name": "stdout",
          "text": [
            "<class 'tuple'>\n"
          ]
        }
      ]
    },
    {
      "cell_type": "markdown",
      "source": [
        "#accessing the elements from the tuple using indexing"
      ],
      "metadata": {
        "id": "u-AbH6o0OqEq"
      }
    },
    {
      "cell_type": "code",
      "source": [
        "\n",
        "#positive indexing\n",
        "pa=(12,35,65,11.25,26.4,46.25,4+6j,65+4j,35+7j,\"Abdul\",\"AY\",\"DK\",True,False,True)\n",
        "pa[14]"
      ],
      "metadata": {
        "colab": {
          "base_uri": "https://localhost:8080/"
        },
        "id": "NE0ERH3oOfAU",
        "outputId": "ea6d9f04-8247-4428-c2f9-d2e535915587"
      },
      "execution_count": 11,
      "outputs": [
        {
          "output_type": "execute_result",
          "data": {
            "text/plain": [
              "True"
            ]
          },
          "metadata": {},
          "execution_count": 11
        }
      ]
    },
    {
      "cell_type": "code",
      "source": [
        "pa[2]"
      ],
      "metadata": {
        "colab": {
          "base_uri": "https://localhost:8080/"
        },
        "id": "Pz7SCDErOwzm",
        "outputId": "04c643ee-2506-4f6f-de9e-39eeab90efe2"
      },
      "execution_count": 12,
      "outputs": [
        {
          "output_type": "execute_result",
          "data": {
            "text/plain": [
              "65"
            ]
          },
          "metadata": {},
          "execution_count": 12
        }
      ]
    },
    {
      "cell_type": "code",
      "source": [
        "pa[7]"
      ],
      "metadata": {
        "colab": {
          "base_uri": "https://localhost:8080/"
        },
        "id": "D6BW4nCjO07I",
        "outputId": "6fad93a5-1e52-48c7-fd56-a0511199666f"
      },
      "execution_count": 13,
      "outputs": [
        {
          "output_type": "execute_result",
          "data": {
            "text/plain": [
              "(65+4j)"
            ]
          },
          "metadata": {},
          "execution_count": 13
        }
      ]
    },
    {
      "cell_type": "code",
      "source": [
        "pa[9]"
      ],
      "metadata": {
        "colab": {
          "base_uri": "https://localhost:8080/",
          "height": 36
        },
        "id": "50j7td3DO2ui",
        "outputId": "66112590-04de-47b3-d335-54f9d89644ce"
      },
      "execution_count": 14,
      "outputs": [
        {
          "output_type": "execute_result",
          "data": {
            "text/plain": [
              "'Abdul'"
            ],
            "application/vnd.google.colaboratory.intrinsic+json": {
              "type": "string"
            }
          },
          "metadata": {},
          "execution_count": 14
        }
      ]
    },
    {
      "cell_type": "code",
      "source": [
        "#Negative indexing\n",
        "lap=(1,2,3,4.5,5.6,9.4,True,False,54.54,78.143,45,65,\"Qabar\",\"al\")\n",
        "lap[-1]"
      ],
      "metadata": {
        "colab": {
          "base_uri": "https://localhost:8080/",
          "height": 36
        },
        "id": "v9S8vqcUO4Zp",
        "outputId": "837b6935-da91-474e-8625-4cc55a7c4215"
      },
      "execution_count": 15,
      "outputs": [
        {
          "output_type": "execute_result",
          "data": {
            "text/plain": [
              "'al'"
            ],
            "application/vnd.google.colaboratory.intrinsic+json": {
              "type": "string"
            }
          },
          "metadata": {},
          "execution_count": 15
        }
      ]
    },
    {
      "cell_type": "code",
      "source": [
        "\n",
        "lap[-9]"
      ],
      "metadata": {
        "colab": {
          "base_uri": "https://localhost:8080/"
        },
        "id": "2YTatVJIO89_",
        "outputId": "f1dae3a8-4338-4e9d-a610-1c572a645f6b"
      },
      "execution_count": 16,
      "outputs": [
        {
          "output_type": "execute_result",
          "data": {
            "text/plain": [
              "9.4"
            ]
          },
          "metadata": {},
          "execution_count": 16
        }
      ]
    },
    {
      "cell_type": "code",
      "source": [
        "\n",
        "\n",
        "lap[-5]"
      ],
      "metadata": {
        "colab": {
          "base_uri": "https://localhost:8080/"
        },
        "id": "mOAqtl9RO_nq",
        "outputId": "dae745f9-2385-4f8f-f313-404dfb45ffcf"
      },
      "execution_count": 17,
      "outputs": [
        {
          "output_type": "execute_result",
          "data": {
            "text/plain": [
              "78.143"
            ]
          },
          "metadata": {},
          "execution_count": 17
        }
      ]
    },
    {
      "cell_type": "code",
      "source": [
        "#slicing positive\n",
        "kat=(1,32,2,123,2,0.1,35)\n",
        "kat[0:4]"
      ],
      "metadata": {
        "colab": {
          "base_uri": "https://localhost:8080/"
        },
        "id": "yT7PodhYPBdJ",
        "outputId": "7a0bad3a-ac11-41c4-fe7d-e2e95ed32d8b"
      },
      "execution_count": 18,
      "outputs": [
        {
          "output_type": "execute_result",
          "data": {
            "text/plain": [
              "(1, 32, 2, 123)"
            ]
          },
          "metadata": {},
          "execution_count": 18
        }
      ]
    },
    {
      "cell_type": "code",
      "source": [
        "jcn=(\"jshd\",\"jsjhs\",\"wsjh\",True,False,)\n",
        "jcn[:]\n",
        ""
      ],
      "metadata": {
        "colab": {
          "base_uri": "https://localhost:8080/"
        },
        "id": "p1u_rfkpPFck",
        "outputId": "f783914d-a1a0-474a-f97b-c9b2cf28ed01"
      },
      "execution_count": 19,
      "outputs": [
        {
          "output_type": "execute_result",
          "data": {
            "text/plain": [
              "('jshd', 'jsjhs', 'wsjh', True, False)"
            ]
          },
          "metadata": {},
          "execution_count": 19
        }
      ]
    },
    {
      "cell_type": "code",
      "source": [
        "dgf=(13,654,65.44,46,854)\n",
        "dgf[0:]"
      ],
      "metadata": {
        "colab": {
          "base_uri": "https://localhost:8080/"
        },
        "id": "iu2A4bmVPJBq",
        "outputId": "5685be22-f632-44f3-8a42-0e54113474ca"
      },
      "execution_count": 20,
      "outputs": [
        {
          "output_type": "execute_result",
          "data": {
            "text/plain": [
              "(13, 654, 65.44, 46, 854)"
            ]
          },
          "metadata": {},
          "execution_count": 20
        }
      ]
    },
    {
      "cell_type": "code",
      "source": [
        "#slicing Negative\n",
        "lak=(12,54.4,76,23,56,54)\n",
        "lak[-6:-1]"
      ],
      "metadata": {
        "colab": {
          "base_uri": "https://localhost:8080/"
        },
        "id": "ehvaLEHVPK-_",
        "outputId": "8b3f89cd-debb-4c93-d139-311cf8a02736"
      },
      "execution_count": 21,
      "outputs": [
        {
          "output_type": "execute_result",
          "data": {
            "text/plain": [
              "(12, 54.4, 76, 23, 56)"
            ]
          },
          "metadata": {},
          "execution_count": 21
        }
      ]
    },
    {
      "cell_type": "code",
      "source": [
        "lak[-5:-2]"
      ],
      "metadata": {
        "colab": {
          "base_uri": "https://localhost:8080/"
        },
        "id": "fUX1ezBwPNC6",
        "outputId": "ab36f2b0-07c9-4138-fde7-4a7b04f74f1e"
      },
      "execution_count": 22,
      "outputs": [
        {
          "output_type": "execute_result",
          "data": {
            "text/plain": [
              "(54.4, 76, 23)"
            ]
          },
          "metadata": {},
          "execution_count": 22
        }
      ]
    },
    {
      "cell_type": "code",
      "source": [
        "lak[-6:-5]"
      ],
      "metadata": {
        "colab": {
          "base_uri": "https://localhost:8080/"
        },
        "id": "WJ1oeNOiPQWB",
        "outputId": "eaa90c58-40d9-446f-8c63-dfd4271d9fab"
      },
      "execution_count": 23,
      "outputs": [
        {
          "output_type": "execute_result",
          "data": {
            "text/plain": [
              "(12,)"
            ]
          },
          "metadata": {},
          "execution_count": 23
        }
      ]
    },
    {
      "cell_type": "code",
      "source": [
        "#immutable\n",
        "ks=(12,15.44,\"aqw\",True,6+5j)\n",
        "ks(2)==\"sjsk\"\n",
        ""
      ],
      "metadata": {
        "colab": {
          "base_uri": "https://localhost:8080/",
          "height": 200
        },
        "id": "1MYbTb9zPXhi",
        "outputId": "c70555f6-3961-4ab5-970a-1b265c3741b0"
      },
      "execution_count": 24,
      "outputs": [
        {
          "output_type": "error",
          "ename": "TypeError",
          "evalue": "'tuple' object is not callable",
          "traceback": [
            "\u001b[0;31m---------------------------------------------------------------------------\u001b[0m",
            "\u001b[0;31mTypeError\u001b[0m                                 Traceback (most recent call last)",
            "\u001b[0;32m<ipython-input-24-28afe09a85af>\u001b[0m in \u001b[0;36m<cell line: 3>\u001b[0;34m()\u001b[0m\n\u001b[1;32m      1\u001b[0m \u001b[0;31m#immutable\u001b[0m\u001b[0;34m\u001b[0m\u001b[0;34m\u001b[0m\u001b[0m\n\u001b[1;32m      2\u001b[0m \u001b[0mks\u001b[0m\u001b[0;34m=\u001b[0m\u001b[0;34m(\u001b[0m\u001b[0;36m12\u001b[0m\u001b[0;34m,\u001b[0m\u001b[0;36m15.44\u001b[0m\u001b[0;34m,\u001b[0m\u001b[0;34m\"aqw\"\u001b[0m\u001b[0;34m,\u001b[0m\u001b[0;32mTrue\u001b[0m\u001b[0;34m,\u001b[0m\u001b[0;36m6\u001b[0m\u001b[0;34m+\u001b[0m\u001b[0;36m5j\u001b[0m\u001b[0;34m)\u001b[0m\u001b[0;34m\u001b[0m\u001b[0;34m\u001b[0m\u001b[0m\n\u001b[0;32m----> 3\u001b[0;31m \u001b[0mks\u001b[0m\u001b[0;34m(\u001b[0m\u001b[0;36m2\u001b[0m\u001b[0;34m)\u001b[0m\u001b[0;34m==\u001b[0m\u001b[0;34m\"sjsk\"\u001b[0m\u001b[0;34m\u001b[0m\u001b[0;34m\u001b[0m\u001b[0m\n\u001b[0m\u001b[1;32m      4\u001b[0m \u001b[0;34m\u001b[0m\u001b[0m\n",
            "\u001b[0;31mTypeError\u001b[0m: 'tuple' object is not callable"
          ]
        }
      ]
    },
    {
      "cell_type": "markdown",
      "source": [
        "#Functions and Methods of Tuple"
      ],
      "metadata": {
        "id": "ypjXoQpjPfXC"
      }
    },
    {
      "cell_type": "markdown",
      "source": [
        "-count(x): Returns the number of times x appears in the tuple\n",
        "\n",
        "-index(x[, start[, end]]): Returns the index of the first occurrence of x in the tuple. Raises a ValueError if x is not found. You can also specify a range using start and end\n",
        "\n",
        "-len(): Returns the number of elements in a tuple.\n",
        "\n",
        "-max(): Returns the largest item in the tuple\n",
        "\n",
        "-min(): Returns the smallest item in the tuple\n",
        "\n",
        "-sum(): Returns the sum of all items in the tuple (if they are numeric)."
      ],
      "metadata": {
        "id": "n9FHhGvuPrbr"
      }
    },
    {
      "cell_type": "code",
      "source": [
        "#count\n",
        "df=(12,35,56,79,46,15,12,46,35,89,46,54)\n",
        "df.count(46)\n",
        ""
      ],
      "metadata": {
        "colab": {
          "base_uri": "https://localhost:8080/"
        },
        "id": "Cq1uMSVPPmjf",
        "outputId": "f4e3b59f-a3b0-417f-d4f2-29f2a52b90cd"
      },
      "execution_count": 25,
      "outputs": [
        {
          "output_type": "execute_result",
          "data": {
            "text/plain": [
              "3"
            ]
          },
          "metadata": {},
          "execution_count": 25
        }
      ]
    },
    {
      "cell_type": "code",
      "source": [
        "#index\n",
        "df=(12,35,56,79,46,15,12,46,35,89,46,54)\n",
        "df.index(46)\n",
        ""
      ],
      "metadata": {
        "colab": {
          "base_uri": "https://localhost:8080/"
        },
        "id": "vyBmocqzP3pV",
        "outputId": "37da9a26-0253-4e4d-adf7-b67a69c56d98"
      },
      "execution_count": 26,
      "outputs": [
        {
          "output_type": "execute_result",
          "data": {
            "text/plain": [
              "4"
            ]
          },
          "metadata": {},
          "execution_count": 26
        }
      ]
    },
    {
      "cell_type": "code",
      "source": [
        "#len\n",
        "df=(12,35,56,79,46,15,12,46,35,89,46,54)\n",
        "len(df)\n",
        ""
      ],
      "metadata": {
        "colab": {
          "base_uri": "https://localhost:8080/"
        },
        "id": "c_a-zGpZP5cH",
        "outputId": "b8397333-d4af-46b6-dec5-e5933c977235"
      },
      "execution_count": 27,
      "outputs": [
        {
          "output_type": "execute_result",
          "data": {
            "text/plain": [
              "12"
            ]
          },
          "metadata": {},
          "execution_count": 27
        }
      ]
    },
    {
      "cell_type": "code",
      "source": [
        "#max\n",
        "df=(12,35,56,79,46,15,12,46,35,89,46,54)\n",
        "max(df)"
      ],
      "metadata": {
        "colab": {
          "base_uri": "https://localhost:8080/"
        },
        "id": "jbUJskWHP67B",
        "outputId": "111d2078-09ee-4510-b884-254916645949"
      },
      "execution_count": 28,
      "outputs": [
        {
          "output_type": "execute_result",
          "data": {
            "text/plain": [
              "89"
            ]
          },
          "metadata": {},
          "execution_count": 28
        }
      ]
    },
    {
      "cell_type": "code",
      "source": [
        "#min\n",
        "df=(12,35,56,79,46,15,12,46,35,89,46,54)\n",
        "min(df)\n"
      ],
      "metadata": {
        "colab": {
          "base_uri": "https://localhost:8080/"
        },
        "id": "NyCHKGzmP8mv",
        "outputId": "95f62c26-2073-4b13-dea6-258ebb9f5d42"
      },
      "execution_count": 29,
      "outputs": [
        {
          "output_type": "execute_result",
          "data": {
            "text/plain": [
              "12"
            ]
          },
          "metadata": {},
          "execution_count": 29
        }
      ]
    },
    {
      "cell_type": "code",
      "source": [
        "#sum\n",
        "df=(12,35,56,79,46,15,12,46,35,89,46,54)\n",
        "sum(df)\n"
      ],
      "metadata": {
        "colab": {
          "base_uri": "https://localhost:8080/"
        },
        "id": "0mDXhghqP-uw",
        "outputId": "caad6a87-96f3-400d-cb36-fecb0880108a"
      },
      "execution_count": 30,
      "outputs": [
        {
          "output_type": "execute_result",
          "data": {
            "text/plain": [
              "525"
            ]
          },
          "metadata": {},
          "execution_count": 30
        }
      ]
    },
    {
      "cell_type": "code",
      "source": [],
      "metadata": {
        "id": "yikQliBoQAg8"
      },
      "execution_count": null,
      "outputs": []
    }
  ]
}