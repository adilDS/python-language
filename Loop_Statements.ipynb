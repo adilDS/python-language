{
  "nbformat": 4,
  "nbformat_minor": 0,
  "metadata": {
    "colab": {
      "provenance": [],
      "gpuType": "T4"
    },
    "kernelspec": {
      "name": "python3",
      "display_name": "Python 3"
    },
    "language_info": {
      "name": "python"
    },
    "accelerator": "GPU"
  },
  "cells": [
    {
      "cell_type": "code",
      "execution_count": null,
      "metadata": {
        "id": "xU1jdm1VpDef"
      },
      "outputs": [],
      "source": [
        "#program to find comman elements between two list\n",
        "#program to captlize first letter in a word\n",
        "#find the length longest word in given sentence\n",
        "#check if a list is empty or not\n",
        "#calculate the square root of a given number\n",
        "#find the maximum number in list\n",
        "#replace the all occurance character in a string"
      ]
    },
    {
      "cell_type": "markdown",
      "source": [
        "#Loop Statement\n",
        "* Python programming language provides two types of Python loopshecking time.\n",
        "*  For loop and While loop to handle looping requirements.\n",
        "* Loops in Python provides three ways for executing the loops.\n",
        "* While all the ways provide similar basic functionality, they differ in their syntax and condition-checking time.\n",
        "* We will look at Python loops and understand their working with the help of examples.\n",
        "\n",
        "\n",
        "#While loop\n",
        "* In Python, a while loop is used to execute a block of statements repeatedly until a given condition is satisfied.\n",
        "* When the condition becomes false, the line immediately after the loop in the program is executed.\n",
        "\n",
        "\n",
        "#For Loop\n",
        "* For loops are used for sequential traversal. For example: traversing a list or string or array etc.\n",
        "* In Python, there is “for in” loop which is similar to foreach loop in other languages.\n",
        "* Let us learn how to use for loops in Python for sequential traversals with examples."
      ],
      "metadata": {
        "id": "gfdXaKY_qQk0"
      }
    },
    {
      "cell_type": "code",
      "source": [
        "i=0\n",
        "while i<10:\n",
        "    print(i)\n",
        "    i+=1"
      ],
      "metadata": {
        "colab": {
          "base_uri": "https://localhost:8080/"
        },
        "id": "sTD1V2aQp603",
        "outputId": "fcb34fda-12fa-48ed-97a2-1f040539b299"
      },
      "execution_count": null,
      "outputs": [
        {
          "output_type": "stream",
          "name": "stdout",
          "text": [
            "0\n",
            "1\n",
            "2\n",
            "3\n",
            "4\n",
            "5\n",
            "6\n",
            "7\n",
            "8\n",
            "9\n"
          ]
        }
      ]
    },
    {
      "cell_type": "code",
      "source": [
        "h=5\n",
        "while h<=100:\n",
        "    print(h)\n",
        "    h+=10"
      ],
      "metadata": {
        "id": "rGCWTou4tj8S",
        "colab": {
          "base_uri": "https://localhost:8080/"
        },
        "outputId": "83c6a249-774b-4d4a-89ec-e041bf4594fd"
      },
      "execution_count": 1,
      "outputs": [
        {
          "output_type": "stream",
          "name": "stdout",
          "text": [
            "5\n",
            "15\n",
            "25\n",
            "35\n",
            "45\n",
            "55\n",
            "65\n",
            "75\n",
            "85\n",
            "95\n"
          ]
        }
      ]
    },
    {
      "cell_type": "code",
      "source": [
        "er='Python'\n",
        "for i in er:\n",
        "    print(i)"
      ],
      "metadata": {
        "colab": {
          "base_uri": "https://localhost:8080/"
        },
        "id": "z0jRrMvfxRK7",
        "outputId": "4365ede8-b1c6-40d7-e216-916d13498744"
      },
      "execution_count": 2,
      "outputs": [
        {
          "output_type": "stream",
          "name": "stdout",
          "text": [
            "P\n",
            "y\n",
            "t\n",
            "h\n",
            "o\n",
            "n\n"
          ]
        }
      ]
    },
    {
      "cell_type": "code",
      "source": [
        "oi=[1,2,3,4,5,6,7,8,9]\n",
        "for i in oi:\n",
        "    print(i)"
      ],
      "metadata": {
        "colab": {
          "base_uri": "https://localhost:8080/"
        },
        "id": "MHX5hEi9yF0O",
        "outputId": "1abaf582-d7ed-44a3-936d-0792d0356d8f"
      },
      "execution_count": 3,
      "outputs": [
        {
          "output_type": "stream",
          "name": "stdout",
          "text": [
            "1\n",
            "2\n",
            "3\n",
            "4\n",
            "5\n",
            "6\n",
            "7\n",
            "8\n",
            "9\n"
          ]
        }
      ]
    },
    {
      "cell_type": "code",
      "source": [
        "#program to find comman elements between two list using loops statements\n",
        "a = [1, 2, 3, 4, 5,6,8,41,9]\n",
        "b = [5, 6, 7, 8, 9]\n",
        "for i in a:\n",
        "    if i in b:\n",
        "        print(i)\n"
      ],
      "metadata": {
        "colab": {
          "base_uri": "https://localhost:8080/"
        },
        "id": "B5pDYazCyJ0C",
        "outputId": "82ce35a2-0839-48e8-ae01-bbd083c3fd81"
      },
      "execution_count": 10,
      "outputs": [
        {
          "output_type": "stream",
          "name": "stdout",
          "text": [
            "5\n",
            "6\n",
            "8\n",
            "9\n"
          ]
        }
      ]
    },
    {
      "cell_type": "code",
      "source": [
        "#program to captlize first letter in a word using loop\n"
      ],
      "metadata": {
        "id": "gNeE-4cPzJxg"
      },
      "execution_count": 11,
      "outputs": []
    },
    {
      "cell_type": "code",
      "source": [
        "#find the length longest word in given sentence using loop\n",
        "word='This need end very quickly cause it times up'\n",
        "words=word.split()\n",
        "max_length = 0\n",
        "\n",
        "for word in words:\n",
        "        if len(word) > max_length:\n",
        "            max_length = len(word)\n",
        "print(max_length)"
      ],
      "metadata": {
        "colab": {
          "base_uri": "https://localhost:8080/"
        },
        "id": "LNeQK03D2WAh",
        "outputId": "dd9315ec-fafd-4065-c345-d4e81fe7408c"
      },
      "execution_count": 17,
      "outputs": [
        {
          "output_type": "stream",
          "name": "stdout",
          "text": [
            "7\n"
          ]
        }
      ]
    },
    {
      "cell_type": "code",
      "source": [
        "#check if a list is empty or not using loop\n",
        "kl=[]\n",
        "for item in kl:\n",
        "    print(item)\n",
        "    if not kl:\n",
        "        print(\"list is empty\")\n",
        "    else:\n",
        "        print(\"list is not empty\")"
      ],
      "metadata": {
        "id": "_hkutIoy3M8B"
      },
      "execution_count": 5,
      "outputs": []
    },
    {
      "cell_type": "code",
      "source": [
        "#find the maximum number in list using loop\n",
        "kl=[1,2,37,4,15,46,7,8,9]\n",
        "max_value = kl[0]\n",
        "for num in kl:\n",
        "        if num > max_value:\n",
        "            max_value = num\n",
        "print(max_value)"
      ],
      "metadata": {
        "colab": {
          "base_uri": "https://localhost:8080/"
        },
        "id": "Wkd_QWMf-E42",
        "outputId": "3458ccdb-4152-4227-84dd-689885939f63"
      },
      "execution_count": 8,
      "outputs": [
        {
          "output_type": "stream",
          "name": "stdout",
          "text": [
            "46\n"
          ]
        }
      ]
    },
    {
      "cell_type": "code",
      "source": [
        "#calculate the square root of a given number\n",
        "num = 25\n",
        "sqrt = num ** 0.5\n",
        "print(sqrt)"
      ],
      "metadata": {
        "id": "km5q0bY0ATvu",
        "outputId": "ab788a29-08e7-4f34-cd35-807cc0db7635",
        "colab": {
          "base_uri": "https://localhost:8080/"
        }
      },
      "execution_count": 17,
      "outputs": [
        {
          "output_type": "stream",
          "name": "stdout",
          "text": [
            "5.0\n"
          ]
        }
      ]
    },
    {
      "cell_type": "code",
      "source": [],
      "metadata": {
        "id": "iirax46wEpwf"
      },
      "execution_count": null,
      "outputs": []
    }
  ]
}