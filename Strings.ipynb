{
  "nbformat": 4,
  "nbformat_minor": 0,
  "metadata": {
    "colab": {
      "provenance": [],
      "gpuType": "T4"
    },
    "kernelspec": {
      "name": "python3",
      "display_name": "Python 3"
    },
    "language_info": {
      "name": "python"
    },
    "accelerator": "GPU"
  },
  "cells": [
    {
      "cell_type": "markdown",
      "source": [
        "#Strings:\n",
        "A String is a data structure in Python Programming that represents a sequence of characters. It is an immutable data type, meaning that once you have created a string, you cannot change it. Python String are used widely in many different applications, such as storing and manipulating text data, representing names, addresses, and other types of data that can be represented as text.Strings in python are surrounded by either single quotation marks, or double quotation marks.\n",
        "\n",
        "Some of example of Strings are given below"
      ],
      "metadata": {
        "id": "UvucMwvUaUJ_"
      }
    },
    {
      "cell_type": "code",
      "source": [
        "kl=\"Abdul rings YASL\"\n",
        "print(kl)\n"
      ],
      "metadata": {
        "colab": {
          "base_uri": "https://localhost:8080/"
        },
        "id": "B6OH7dbdccc_",
        "outputId": "3d439934-7012-4918-96e6-f52dfac75918"
      },
      "execution_count": 5,
      "outputs": [
        {
          "output_type": "stream",
          "name": "stdout",
          "text": [
            "Abdul rings YASL\n"
          ]
        }
      ]
    },
    {
      "cell_type": "code",
      "source": [
        "print(type(kl))"
      ],
      "metadata": {
        "colab": {
          "base_uri": "https://localhost:8080/"
        },
        "id": "OyiZzT3Qcxav",
        "outputId": "4abffddf-d747-4196-c050-5a219a7735c9"
      },
      "execution_count": 3,
      "outputs": [
        {
          "output_type": "stream",
          "name": "stdout",
          "text": [
            "<class 'str'>\n"
          ]
        }
      ]
    },
    {
      "cell_type": "code",
      "source": [
        "ip=\"soon it will be done\"\n",
        "print(type(ip))"
      ],
      "metadata": {
        "colab": {
          "base_uri": "https://localhost:8080/"
        },
        "id": "erRDZa6kc-Zo",
        "outputId": "7b848c65-407b-4c81-8bb5-99a1f7163b50"
      },
      "execution_count": 4,
      "outputs": [
        {
          "output_type": "stream",
          "name": "stdout",
          "text": [
            "<class 'str'>\n"
          ]
        }
      ]
    },
    {
      "cell_type": "code",
      "source": [
        "js=\"ya I also hope it happens\"\n",
        "print(type(js))"
      ],
      "metadata": {
        "colab": {
          "base_uri": "https://localhost:8080/"
        },
        "id": "RS69vtXidH2e",
        "outputId": "87e21da6-a607-428d-eb4d-fd3c8b10ce2f"
      },
      "execution_count": 6,
      "outputs": [
        {
          "output_type": "stream",
          "name": "stdout",
          "text": [
            "<class 'str'>\n"
          ]
        }
      ]
    },
    {
      "cell_type": "code",
      "source": [
        "ms=\"can you be there at that time\"\n",
        "print(type(ms))"
      ],
      "metadata": {
        "colab": {
          "base_uri": "https://localhost:8080/"
        },
        "id": "l3P-fHXBdy8O",
        "outputId": "28f3b5e0-d3fb-47bf-dd8b-48d4625f4edd"
      },
      "execution_count": 7,
      "outputs": [
        {
          "output_type": "stream",
          "name": "stdout",
          "text": [
            "<class 'str'>\n"
          ]
        }
      ]
    },
    {
      "cell_type": "code",
      "source": [
        "qw=\"yes if I will be there\"\n",
        "print(type(qw))"
      ],
      "metadata": {
        "colab": {
          "base_uri": "https://localhost:8080/"
        },
        "id": "WDVL5qEyeEUD",
        "outputId": "427ce005-3cb7-492c-cf62-eff496fbdddb"
      },
      "execution_count": 8,
      "outputs": [
        {
          "output_type": "stream",
          "name": "stdout",
          "text": [
            "<class 'str'>\n"
          ]
        }
      ]
    },
    {
      "cell_type": "code",
      "source": [
        "#accessing the string elements\n",
        "pj=\"this string needs to be very long so that it can be a good example for the topic\"\n",
        "print(pj)"
      ],
      "metadata": {
        "colab": {
          "base_uri": "https://localhost:8080/"
        },
        "id": "Op5CeBMdec7u",
        "outputId": "e924fcb0-155f-45f9-e8de-67930f51e6b5"
      },
      "execution_count": 9,
      "outputs": [
        {
          "output_type": "stream",
          "name": "stdout",
          "text": [
            "this string needs to be very long so that it can be a good example for the topic\n"
          ]
        }
      ]
    },
    {
      "cell_type": "code",
      "source": [
        "pj[21]"
      ],
      "metadata": {
        "colab": {
          "base_uri": "https://localhost:8080/",
          "height": 36
        },
        "id": "d5ZdyOD1fgkI",
        "outputId": "ba3bf87f-97fb-4a9a-fdff-0c0d712ec27a"
      },
      "execution_count": 10,
      "outputs": [
        {
          "output_type": "execute_result",
          "data": {
            "text/plain": [
              "'b'"
            ],
            "application/vnd.google.colaboratory.intrinsic+json": {
              "type": "string"
            }
          },
          "metadata": {},
          "execution_count": 10
        }
      ]
    },
    {
      "cell_type": "code",
      "source": [
        "pj[-12]"
      ],
      "metadata": {
        "colab": {
          "base_uri": "https://localhost:8080/",
          "height": 36
        },
        "id": "FqR1nyZyfkdb",
        "outputId": "18d9f3a4-a6f7-49c2-d449-966837805c88"
      },
      "execution_count": 11,
      "outputs": [
        {
          "output_type": "execute_result",
          "data": {
            "text/plain": [
              "'o'"
            ],
            "application/vnd.google.colaboratory.intrinsic+json": {
              "type": "string"
            }
          },
          "metadata": {},
          "execution_count": 11
        }
      ]
    },
    {
      "cell_type": "code",
      "source": [
        "pj[4:28]"
      ],
      "metadata": {
        "colab": {
          "base_uri": "https://localhost:8080/",
          "height": 36
        },
        "id": "VbglwIDqfpfj",
        "outputId": "4ea3b7e4-d9a8-44c6-b0f7-d5824523dbbc"
      },
      "execution_count": 13,
      "outputs": [
        {
          "output_type": "execute_result",
          "data": {
            "text/plain": [
              "' string needs to be very'"
            ],
            "application/vnd.google.colaboratory.intrinsic+json": {
              "type": "string"
            }
          },
          "metadata": {},
          "execution_count": 13
        }
      ]
    },
    {
      "cell_type": "code",
      "source": [
        "pj[-38:-6]"
      ],
      "metadata": {
        "colab": {
          "base_uri": "https://localhost:8080/",
          "height": 36
        },
        "id": "4saPrGLkfxwN",
        "outputId": "3f7433ba-d065-44bb-b98a-32a78828b252"
      },
      "execution_count": 17,
      "outputs": [
        {
          "output_type": "execute_result",
          "data": {
            "text/plain": [
              "'it can be a good example for the'"
            ],
            "application/vnd.google.colaboratory.intrinsic+json": {
              "type": "string"
            }
          },
          "metadata": {},
          "execution_count": 17
        }
      ]
    },
    {
      "cell_type": "code",
      "source": [
        "pj[1:34]"
      ],
      "metadata": {
        "colab": {
          "base_uri": "https://localhost:8080/",
          "height": 36
        },
        "id": "FCr3BXq7gXsZ",
        "outputId": "e74de015-dde8-4ee0-9212-064003f029c7"
      },
      "execution_count": 19,
      "outputs": [
        {
          "output_type": "execute_result",
          "data": {
            "text/plain": [
              "'his string needs to be very long '"
            ],
            "application/vnd.google.colaboratory.intrinsic+json": {
              "type": "string"
            }
          },
          "metadata": {},
          "execution_count": 19
        }
      ]
    },
    {
      "cell_type": "code",
      "source": [
        "pj[:]"
      ],
      "metadata": {
        "colab": {
          "base_uri": "https://localhost:8080/",
          "height": 36
        },
        "id": "r6NPe3-mgDFT",
        "outputId": "32a1d2bb-6cd7-4f6a-8123-f99f848e69dc"
      },
      "execution_count": 18,
      "outputs": [
        {
          "output_type": "execute_result",
          "data": {
            "text/plain": [
              "'this string needs to be very long so that it can be a good example for the topic'"
            ],
            "application/vnd.google.colaboratory.intrinsic+json": {
              "type": "string"
            }
          },
          "metadata": {},
          "execution_count": 18
        }
      ]
    },
    {
      "cell_type": "code",
      "source": [
        "#format method\n",
        "#1).format method\n",
        "#2)fstring method"
      ],
      "metadata": {
        "id": "XxUSMpD0gVU7"
      },
      "execution_count": 20,
      "outputs": []
    },
    {
      "cell_type": "code",
      "source": [
        "name=\"Abdul\"\n",
        "obj=\"ring\"\n",
        "kar=\"{} has to {} for the YASL\".format(name,obj)\n",
        "kar"
      ],
      "metadata": {
        "colab": {
          "base_uri": "https://localhost:8080/",
          "height": 36
        },
        "id": "Eb144NOMh0HO",
        "outputId": "898af10f-0a50-4ba6-b91b-7bf792e2d779"
      },
      "execution_count": 23,
      "outputs": [
        {
          "output_type": "execute_result",
          "data": {
            "text/plain": [
              "'Abdul has to ring for the YASL'"
            ],
            "application/vnd.google.colaboratory.intrinsic+json": {
              "type": "string"
            }
          },
          "metadata": {},
          "execution_count": 23
        }
      ]
    },
    {
      "cell_type": "code",
      "source": [
        "name=\"Addy\"\n",
        "work=\"study\"\n",
        "jh=\"{} has to {} for the upcoming exams\".format(name,work)\n",
        "jh"
      ],
      "metadata": {
        "colab": {
          "base_uri": "https://localhost:8080/",
          "height": 36
        },
        "id": "QbL3CgkiimeI",
        "outputId": "4ff878dc-7de3-4256-fbbe-55012ce24937"
      },
      "execution_count": 25,
      "outputs": [
        {
          "output_type": "execute_result",
          "data": {
            "text/plain": [
              "'Addy has to study for the upcoming exams'"
            ],
            "application/vnd.google.colaboratory.intrinsic+json": {
              "type": "string"
            }
          },
          "metadata": {},
          "execution_count": 25
        }
      ]
    },
    {
      "cell_type": "code",
      "source": [
        "name=\"oman\"\n",
        "work=\"play\"\n",
        "man=f\"{name} likes to {work} sports every times he is not busy\"\n",
        "man"
      ],
      "metadata": {
        "colab": {
          "base_uri": "https://localhost:8080/",
          "height": 36
        },
        "id": "93_hrUqVjJsQ",
        "outputId": "6945c993-8578-4487-e1a3-92a8a1f43c8c"
      },
      "execution_count": 29,
      "outputs": [
        {
          "output_type": "execute_result",
          "data": {
            "text/plain": [
              "'oman likes to play sports every times he is not busy'"
            ],
            "application/vnd.google.colaboratory.intrinsic+json": {
              "type": "string"
            }
          },
          "metadata": {},
          "execution_count": 29
        }
      ]
    },
    {
      "cell_type": "markdown",
      "source": [
        "#Functions and Methods of a Strings :     \n",
        "\n",
        "Python strings come with a variety of built-in functions and methods that allow you to manipulate and work with text efficiently. Here’s a comprehensive overview of some common string methods, along with examples:\n"
      ],
      "metadata": {
        "id": "zLKaSYjlkrv6"
      }
    },
    {
      "cell_type": "code",
      "source": [
        "#upper(): Converts all characters to uppercase.\n",
        "ld=\"this string needs to be studied hard\"\n",
        "ld.upper()"
      ],
      "metadata": {
        "colab": {
          "base_uri": "https://localhost:8080/",
          "height": 36
        },
        "id": "Z6bkJg7dl64n",
        "outputId": "ec68bc17-8a90-43fa-9b59-e8d66fb09eff"
      },
      "execution_count": 30,
      "outputs": [
        {
          "output_type": "execute_result",
          "data": {
            "text/plain": [
              "'THIS STRING NEEDS TO BE STUDIED HARD'"
            ],
            "application/vnd.google.colaboratory.intrinsic+json": {
              "type": "string"
            }
          },
          "metadata": {},
          "execution_count": 30
        }
      ]
    },
    {
      "cell_type": "code",
      "source": [
        "#lower(): Converts all characters to lowercase.\n",
        "mn=\"PLEASE STUDY HARD\"\n",
        "mn.lower()"
      ],
      "metadata": {
        "colab": {
          "base_uri": "https://localhost:8080/",
          "height": 36
        },
        "id": "RCiBOrDLmgmA",
        "outputId": "3769406b-e59f-4a67-a5dc-40d8d666c4da"
      },
      "execution_count": 32,
      "outputs": [
        {
          "output_type": "execute_result",
          "data": {
            "text/plain": [
              "'please study hard'"
            ],
            "application/vnd.google.colaboratory.intrinsic+json": {
              "type": "string"
            }
          },
          "metadata": {},
          "execution_count": 32
        }
      ]
    },
    {
      "cell_type": "code",
      "source": [
        "#strip(): Removes leading and trailing whitespace\n",
        "lk=\"   this is very sad to hear    \"\n",
        "lk.strip()"
      ],
      "metadata": {
        "colab": {
          "base_uri": "https://localhost:8080/",
          "height": 36
        },
        "id": "IwLdeHp3moyW",
        "outputId": "9dee7a68-cc45-4573-9eba-d73c7ab73fd5"
      },
      "execution_count": 34,
      "outputs": [
        {
          "output_type": "execute_result",
          "data": {
            "text/plain": [
              "'this is very sad to hear'"
            ],
            "application/vnd.google.colaboratory.intrinsic+json": {
              "type": "string"
            }
          },
          "metadata": {},
          "execution_count": 34
        }
      ]
    },
    {
      "cell_type": "code",
      "source": [
        "#replace(old, new): Replaces occurrences of a substring with another substring.\n",
        "sd=\"you should act like a child now\"\n",
        "sd.replace(\"child\",\"man\")"
      ],
      "metadata": {
        "colab": {
          "base_uri": "https://localhost:8080/",
          "height": 36
        },
        "id": "9_uQi3B3nG3v",
        "outputId": "cc8e430c-11d1-4310-bd1f-015f6bbbe974"
      },
      "execution_count": 36,
      "outputs": [
        {
          "output_type": "execute_result",
          "data": {
            "text/plain": [
              "'you should act like a man now'"
            ],
            "application/vnd.google.colaboratory.intrinsic+json": {
              "type": "string"
            }
          },
          "metadata": {},
          "execution_count": 36
        }
      ]
    },
    {
      "cell_type": "code",
      "source": [
        "#split(sep): Splits a string into a list using a specified separator\n",
        "we=\"you should obey the elders now\"\n",
        "we.split()"
      ],
      "metadata": {
        "colab": {
          "base_uri": "https://localhost:8080/"
        },
        "id": "1z8EodNsngKt",
        "outputId": "89b26917-4ea2-4ada-9389-bdcb80cc8d76"
      },
      "execution_count": 37,
      "outputs": [
        {
          "output_type": "execute_result",
          "data": {
            "text/plain": [
              "['you', 'should', 'obey', 'the', 'elders', 'now']"
            ]
          },
          "metadata": {},
          "execution_count": 37
        }
      ]
    },
    {
      "cell_type": "code",
      "source": [
        "#join(iterable): Joins elements of an iterable (like a list) into a single string, with a specified separator.\n",
        "qs=[\"now\",\"please\",\"stop\",\"this\"]\n",
        "\" \".join(qs)"
      ],
      "metadata": {
        "colab": {
          "base_uri": "https://localhost:8080/",
          "height": 36
        },
        "id": "U7BU5sgMn_iN",
        "outputId": "10ecff90-2339-4dae-c95c-c10cb93a7e66"
      },
      "execution_count": 38,
      "outputs": [
        {
          "output_type": "execute_result",
          "data": {
            "text/plain": [
              "'now please stop this'"
            ],
            "application/vnd.google.colaboratory.intrinsic+json": {
              "type": "string"
            }
          },
          "metadata": {},
          "execution_count": 38
        }
      ]
    },
    {
      "cell_type": "code",
      "source": [
        "# Returns the lowest index of the substring if found; otherwise, returns -1.\n",
        "sd=\"you should act like a child now\"\n",
        "sd.find(\"now\")"
      ],
      "metadata": {
        "colab": {
          "base_uri": "https://localhost:8080/"
        },
        "id": "8JaJGgEpossm",
        "outputId": "e0aba377-e230-424b-9234-0f12bb4ba318"
      },
      "execution_count": 39,
      "outputs": [
        {
          "output_type": "execute_result",
          "data": {
            "text/plain": [
              "28"
            ]
          },
          "metadata": {},
          "execution_count": 39
        }
      ]
    },
    {
      "cell_type": "code",
      "source": [
        "#count(sub): Returns the number of non-overlapping occurrences of the substring.\n",
        "sd=\"now I request you should act like a child now please\"\n",
        "sd.count(\"now\")"
      ],
      "metadata": {
        "colab": {
          "base_uri": "https://localhost:8080/"
        },
        "id": "Or8gLa79o8WV",
        "outputId": "01bb200d-75a6-4c8c-bc92-a2fcebec9c7e"
      },
      "execution_count": 41,
      "outputs": [
        {
          "output_type": "execute_result",
          "data": {
            "text/plain": [
              "2"
            ]
          },
          "metadata": {},
          "execution_count": 41
        }
      ]
    },
    {
      "cell_type": "code",
      "source": [
        "#startswith(prefix): Checks if the string starts with the specified prefix.\n",
        "sd=\"now I request you should act like a child now please\"\n",
        "sd.startswith(\"now\")"
      ],
      "metadata": {
        "colab": {
          "base_uri": "https://localhost:8080/"
        },
        "id": "26cjgJlCpP87",
        "outputId": "f74a48cc-3a15-4c4a-9daf-56bc90f0b24e"
      },
      "execution_count": 44,
      "outputs": [
        {
          "output_type": "execute_result",
          "data": {
            "text/plain": [
              "True"
            ]
          },
          "metadata": {},
          "execution_count": 44
        }
      ]
    },
    {
      "cell_type": "code",
      "source": [
        "#endswith(suffix): Checks if the string ends with the specified suffix.\n",
        "sd=\"now I request you should act like a child now please\"\n",
        "sd.endswith(\"please\")"
      ],
      "metadata": {
        "colab": {
          "base_uri": "https://localhost:8080/"
        },
        "id": "7WnKk73nppqZ",
        "outputId": "2bca2cc6-f524-4e0a-8226-41e9c5b20a34"
      },
      "execution_count": 45,
      "outputs": [
        {
          "output_type": "execute_result",
          "data": {
            "text/plain": [
              "True"
            ]
          },
          "metadata": {},
          "execution_count": 45
        }
      ]
    },
    {
      "cell_type": "code",
      "source": [
        "#title(): Converts the first character of each word to uppercase.\n",
        "sj=\"please say hello to every one\"\n",
        "sj.title()"
      ],
      "metadata": {
        "colab": {
          "base_uri": "https://localhost:8080/",
          "height": 36
        },
        "id": "FiD-VByBp48U",
        "outputId": "2a95f0b1-1df6-4af9-bd38-dd640958ca0e"
      },
      "execution_count": 46,
      "outputs": [
        {
          "output_type": "execute_result",
          "data": {
            "text/plain": [
              "'Please Say Hello To Every One'"
            ],
            "application/vnd.google.colaboratory.intrinsic+json": {
              "type": "string"
            }
          },
          "metadata": {},
          "execution_count": 46
        }
      ]
    },
    {
      "cell_type": "code",
      "source": [
        "#capitalize(): Capitalizes the first character of the string.\n",
        "sj=\"please say hello to every one\"\n",
        "sj.capitalize()"
      ],
      "metadata": {
        "colab": {
          "base_uri": "https://localhost:8080/",
          "height": 36
        },
        "id": "jtBwZQzhqG2G",
        "outputId": "5c7a4629-2042-4840-e3bc-bbed17fe0804"
      },
      "execution_count": 47,
      "outputs": [
        {
          "output_type": "execute_result",
          "data": {
            "text/plain": [
              "'Please say hello to every one'"
            ],
            "application/vnd.google.colaboratory.intrinsic+json": {
              "type": "string"
            }
          },
          "metadata": {},
          "execution_count": 47
        }
      ]
    },
    {
      "cell_type": "code",
      "source": [
        "#isdigit(): Returns True if all characters in the string are digits\n",
        "sj=\"please say hello to every one\"\n",
        "sj.isdigit()"
      ],
      "metadata": {
        "colab": {
          "base_uri": "https://localhost:8080/"
        },
        "id": "ylsiyNFHqNWB",
        "outputId": "2a650042-bdbd-4430-a649-e2ef478a8170"
      },
      "execution_count": 48,
      "outputs": [
        {
          "output_type": "execute_result",
          "data": {
            "text/plain": [
              "False"
            ]
          },
          "metadata": {},
          "execution_count": 48
        }
      ]
    },
    {
      "cell_type": "code",
      "source": [
        "#isdigit(): Returns True if all characters in the string are digits\n",
        "mg=\"123456789\"\n",
        "mg.isdigit()"
      ],
      "metadata": {
        "colab": {
          "base_uri": "https://localhost:8080/"
        },
        "id": "BDPELKF7qTR3",
        "outputId": "a81ca18c-65c2-492b-c3a7-a2ba7c4b6b15"
      },
      "execution_count": 50,
      "outputs": [
        {
          "output_type": "execute_result",
          "data": {
            "text/plain": [
              "True"
            ]
          },
          "metadata": {},
          "execution_count": 50
        }
      ]
    },
    {
      "cell_type": "code",
      "source": [
        "#isalpha(): Returns True if all characters in the string are alphabetic.\n",
        "sh=\"are we going in right direction\"\n",
        "sh.isalpha()"
      ],
      "metadata": {
        "colab": {
          "base_uri": "https://localhost:8080/"
        },
        "id": "UoKKMb8CqdAD",
        "outputId": "b7ec7ad1-814e-4ce3-874b-1f6fe1b84308"
      },
      "execution_count": 51,
      "outputs": [
        {
          "output_type": "execute_result",
          "data": {
            "text/plain": [
              "False"
            ]
          },
          "metadata": {},
          "execution_count": 51
        }
      ]
    },
    {
      "cell_type": "code",
      "source": [
        "#swapcase(): Swap the cases of all characters in a string\n",
        "ssk=\"Are We Going In Right Direction\"\n",
        "ssk.swapcase()"
      ],
      "metadata": {
        "colab": {
          "base_uri": "https://localhost:8080/",
          "height": 36
        },
        "id": "sgt-o2IoqsuT",
        "outputId": "5c3257a5-88f7-4c2e-fc8c-e5f600cdc8bd"
      },
      "execution_count": 52,
      "outputs": [
        {
          "output_type": "execute_result",
          "data": {
            "text/plain": [
              "'aRE wE gOING iN rIGHT dIRECTION'"
            ],
            "application/vnd.google.colaboratory.intrinsic+json": {
              "type": "string"
            }
          },
          "metadata": {},
          "execution_count": 52
        }
      ]
    },
    {
      "cell_type": "code",
      "source": [
        "#isprintable():Returns “True” if all characters in the string are printable or the string is empty\n",
        "sh=\"are we going in right direction\"\n",
        "sh.isprintable()"
      ],
      "metadata": {
        "colab": {
          "base_uri": "https://localhost:8080/"
        },
        "id": "7nGCsMqwq_vQ",
        "outputId": "dd659ada-a5ce-4e3d-9ae2-26827ed8f69f"
      },
      "execution_count": 53,
      "outputs": [
        {
          "output_type": "execute_result",
          "data": {
            "text/plain": [
              "True"
            ]
          },
          "metadata": {},
          "execution_count": 53
        }
      ]
    },
    {
      "cell_type": "code",
      "source": [
        "#partition():Splits the string at the first occurrence of the separator\n",
        "sh=\"are we going in right direction\"\n",
        "sh.partition(\"going\")"
      ],
      "metadata": {
        "colab": {
          "base_uri": "https://localhost:8080/"
        },
        "id": "Xtfdb6QGrSpu",
        "outputId": "c51df243-3255-40dc-c11e-3586b581564d"
      },
      "execution_count": 55,
      "outputs": [
        {
          "output_type": "execute_result",
          "data": {
            "text/plain": [
              "('are we ', 'going', ' in right direction')"
            ]
          },
          "metadata": {},
          "execution_count": 55
        }
      ]
    },
    {
      "cell_type": "code",
      "source": [],
      "metadata": {
        "id": "CEThh8ZxrjS2"
      },
      "execution_count": null,
      "outputs": []
    }
  ]
}