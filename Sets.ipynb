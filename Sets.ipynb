{
  "nbformat": 4,
  "nbformat_minor": 0,
  "metadata": {
    "colab": {
      "provenance": [],
      "gpuType": "T4"
    },
    "kernelspec": {
      "name": "python3",
      "display_name": "Python 3"
    },
    "language_info": {
      "name": "python"
    },
    "accelerator": "GPU"
  },
  "cells": [
    {
      "cell_type": "markdown",
      "source": [
        "#Set\n",
        "* A set is a data collection type used in Python for storing multiple items in a single variable.\n",
        "* Sets in Python are unordered and, as such, are not always consistent in the order they get returned.\n",
        "* Furthermore, items in the set are immutable — ie. cannot be changed.\n",
        "* However, items can be added and removed.\n",
        "* Duplicates are not permitted with Python data sets and will be removed.\n",
        "* It is also noteworthy that the Python set supports any data type — including numbers, strings, and booleans — but also has some support for nested data structures."
      ],
      "metadata": {
        "id": "ej_usx2Uit2b"
      }
    },
    {
      "cell_type": "code",
      "source": [
        "#empty set\n",
        "set1 = set()\n",
        "print(type(set1))"
      ],
      "metadata": {
        "colab": {
          "base_uri": "https://localhost:8080/"
        },
        "id": "iTXlor8ajSJh",
        "outputId": "5b398dfd-45c9-4ca4-9862-e8954654cef8"
      },
      "execution_count": 2,
      "outputs": [
        {
          "output_type": "stream",
          "name": "stdout",
          "text": [
            "<class 'set'>\n"
          ]
        }
      ]
    },
    {
      "cell_type": "code",
      "source": [
        "#creating a set with elements\n",
        "set2 = {1,2,3,4,5}\n",
        "print(set2)"
      ],
      "metadata": {
        "colab": {
          "base_uri": "https://localhost:8080/"
        },
        "id": "vqxiJH0ujbWX",
        "outputId": "4e40190d-8dec-49a2-ffb2-c3742ea60307"
      },
      "execution_count": 3,
      "outputs": [
        {
          "output_type": "stream",
          "name": "stdout",
          "text": [
            "{1, 2, 3, 4, 5}\n"
          ]
        }
      ]
    },
    {
      "cell_type": "code",
      "source": [
        "set3 = {1,2,3,4,5,5}\n",
        "print(set3)"
      ],
      "metadata": {
        "colab": {
          "base_uri": "https://localhost:8080/"
        },
        "id": "-U8rHovXlj-l",
        "outputId": "5c13dcdd-b53e-4092-d0ab-18fffada08c2"
      },
      "execution_count": 12,
      "outputs": [
        {
          "output_type": "stream",
          "name": "stdout",
          "text": [
            "{1, 2, 3, 4, 5}\n"
          ]
        }
      ]
    },
    {
      "cell_type": "code",
      "source": [
        "set4 = {\"a\",\"b\",\"c\",\"d\",\"e\"}\n",
        "print(set4)"
      ],
      "metadata": {
        "colab": {
          "base_uri": "https://localhost:8080/"
        },
        "id": "1Xg9l0S-lkdk",
        "outputId": "c9d9cff6-ab5a-4614-cdfe-a88a00707903"
      },
      "execution_count": 13,
      "outputs": [
        {
          "output_type": "stream",
          "name": "stdout",
          "text": [
            "{'b', 'c', 'e', 'a', 'd'}\n"
          ]
        }
      ]
    },
    {
      "cell_type": "code",
      "source": [
        "#converting a list into set\n",
        "list1 = [1,2,3,4,5]\n",
        "set3 = set(list1)\n",
        "print(set3)"
      ],
      "metadata": {
        "colab": {
          "base_uri": "https://localhost:8080/"
        },
        "id": "xUe-2crQjpEo",
        "outputId": "22135166-f5c5-4a60-e296-6c9f94b44449"
      },
      "execution_count": 4,
      "outputs": [
        {
          "output_type": "stream",
          "name": "stdout",
          "text": [
            "{1, 2, 3, 4, 5}\n"
          ]
        }
      ]
    },
    {
      "cell_type": "code",
      "source": [
        "#using add() method\n",
        "set3.add(6)\n",
        "print(set3)"
      ],
      "metadata": {
        "colab": {
          "base_uri": "https://localhost:8080/"
        },
        "id": "XR7tPNQmjtVg",
        "outputId": "5430ac15-448d-4e59-e1d9-3c04228d3c0d"
      },
      "execution_count": 5,
      "outputs": [
        {
          "output_type": "stream",
          "name": "stdout",
          "text": [
            "{1, 2, 3, 4, 5, 6}\n"
          ]
        }
      ]
    },
    {
      "cell_type": "code",
      "source": [
        "#remove method\n",
        "set3.remove(6)\n",
        "print(set3)"
      ],
      "metadata": {
        "colab": {
          "base_uri": "https://localhost:8080/"
        },
        "id": "7F6pWFXfj34Y",
        "outputId": "61f712ec-c7ec-4b14-e5c1-6322fd776193"
      },
      "execution_count": 6,
      "outputs": [
        {
          "output_type": "stream",
          "name": "stdout",
          "text": [
            "{1, 2, 3, 4, 5}\n"
          ]
        }
      ]
    },
    {
      "cell_type": "markdown",
      "source": [
        "#Set Operations"
      ],
      "metadata": {
        "id": "sGGFjdfclSXU"
      }
    },
    {
      "cell_type": "markdown",
      "source": [
        "#1. Set Union\n",
        "The union of two sets is the set of all the elements of both the sets without duplicates. You can use the union() method or the | syntax to find the union of a Python set."
      ],
      "metadata": {
        "id": "8FKvypCrkMHf"
      }
    },
    {
      "cell_type": "code",
      "source": [
        "#union of set\n",
        "set1 = {1,2,3,4,5}\n",
        "set2 = {4,5,6,7,8}\n",
        "set1.union(set2)"
      ],
      "metadata": {
        "colab": {
          "base_uri": "https://localhost:8080/"
        },
        "id": "Ur7W4FrRkQc9",
        "outputId": "730948f4-3162-41d7-d5f0-33b5e70524fa"
      },
      "execution_count": 8,
      "outputs": [
        {
          "output_type": "execute_result",
          "data": {
            "text/plain": [
              "{1, 2, 3, 4, 5, 6, 7, 8}"
            ]
          },
          "metadata": {},
          "execution_count": 8
        }
      ]
    },
    {
      "cell_type": "markdown",
      "source": [
        "#2. Set Intersection\n",
        "The intersection of two sets is the set of all the common elements of both the sets. You can use the intersection() method of the & operator to find the intersection of a Python set."
      ],
      "metadata": {
        "id": "WaYqY397kdvc"
      }
    },
    {
      "cell_type": "code",
      "source": [
        "#intersection of set\n",
        "set1 = {1,2,3,4,5}\n",
        "set2 = {4,5,6,7,8}\n",
        "set1.intersection(set2)"
      ],
      "metadata": {
        "colab": {
          "base_uri": "https://localhost:8080/"
        },
        "id": "AU_vF9Q1kpPa",
        "outputId": "cc6c9cf2-a6fd-4eed-9ba1-0cd34e4cb6fe"
      },
      "execution_count": 9,
      "outputs": [
        {
          "output_type": "execute_result",
          "data": {
            "text/plain": [
              "{4, 5}"
            ]
          },
          "metadata": {},
          "execution_count": 9
        }
      ]
    },
    {
      "cell_type": "markdown",
      "source": [
        "#3. Set Difference\n",
        "The difference between two sets is the set of all the elements in first set that are not present in the second set. You would use the difference() method or the - operator to achieve this in Python."
      ],
      "metadata": {
        "id": "TPn0wQJlkuaO"
      }
    },
    {
      "cell_type": "code",
      "source": [
        "#difference of set\n",
        "set1 = {1,2,3,4,5}\n",
        "set2 = {4,5,6,7,8}\n",
        "set1.difference(set2)"
      ],
      "metadata": {
        "colab": {
          "base_uri": "https://localhost:8080/"
        },
        "id": "ebbwpNsck0dn",
        "outputId": "7d2edb0e-e560-4a17-f2b9-18a16a63d75e"
      },
      "execution_count": 10,
      "outputs": [
        {
          "output_type": "execute_result",
          "data": {
            "text/plain": [
              "{1, 2, 3}"
            ]
          },
          "metadata": {},
          "execution_count": 10
        }
      ]
    },
    {
      "cell_type": "markdown",
      "source": [
        "#4. Set Symmetric Difference\n",
        "* The symmetric difference between two sets is the set of all the elements that are either in the first set or the second set but not in both.\n",
        "\n",
        "* You have the choice of using either the symmetric_difference() method or the ^ operator to do this in Python"
      ],
      "metadata": {
        "id": "d1llFVH4k4ui"
      }
    },
    {
      "cell_type": "code",
      "source": [
        "#symmetric difference\n",
        "set1 = {1,2,3,4,5}\n",
        "set2 = {4,5,6,7,8}\n",
        "set1.symmetric_difference(set2)"
      ],
      "metadata": {
        "colab": {
          "base_uri": "https://localhost:8080/"
        },
        "id": "0neUZ_bBlCOW",
        "outputId": "8e9f5929-645a-46ac-9e4e-559f89e53dd5"
      },
      "execution_count": 11,
      "outputs": [
        {
          "output_type": "execute_result",
          "data": {
            "text/plain": [
              "{1, 2, 3, 6, 7, 8}"
            ]
          },
          "metadata": {},
          "execution_count": 11
        }
      ]
    },
    {
      "cell_type": "code",
      "source": [],
      "metadata": {
        "id": "bqQpTdrolHiy"
      },
      "execution_count": null,
      "outputs": []
    }
  ]
}