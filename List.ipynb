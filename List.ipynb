{
  "nbformat": 4,
  "nbformat_minor": 0,
  "metadata": {
    "colab": {
      "provenance": [],
      "gpuType": "T4"
    },
    "kernelspec": {
      "name": "python3",
      "display_name": "Python 3"
    },
    "language_info": {
      "name": "python"
    },
    "accelerator": "GPU"
  },
  "cells": [
    {
      "cell_type": "markdown",
      "source": [
        "#List\n",
        "\n",
        "In Python, a list is a built-in data structure that is used to store an ordered collection of items. Lists are mutable, meaning that their contents can be changed after the list has been created. They can hold a various of data types, including integers, floats, strings, and even other lists.Lists are used to store multiple items in a single variable.Lists are one of 4 built-in data types in Python used to store collections of data, the other 3 are Tuple, Set, and Dictionary, all with different qualities and usage.\n",
        "\n",
        "Example of list is shown below:"
      ],
      "metadata": {
        "id": "ql7DC6xKDbP0"
      }
    },
    {
      "cell_type": "code",
      "source": [
        "alpha=[1,2,3,4,5]\n",
        "print(alpha)"
      ],
      "metadata": {
        "colab": {
          "base_uri": "https://localhost:8080/"
        },
        "id": "uujyrLNRE6VB",
        "outputId": "90c60fdc-8276-42e5-dc91-98547b3d6fa0"
      },
      "execution_count": null,
      "outputs": [
        {
          "output_type": "stream",
          "name": "stdout",
          "text": [
            "[1, 2, 3, 4, 5]\n"
          ]
        }
      ]
    },
    {
      "cell_type": "code",
      "source": [
        "beta=[2,3,485,586,789]\n",
        "print(beta)"
      ],
      "metadata": {
        "colab": {
          "base_uri": "https://localhost:8080/"
        },
        "id": "jmxgN3cAFCSN",
        "outputId": "0bbb208a-5ff6-49e5-a97c-bab6b33ff77e"
      },
      "execution_count": null,
      "outputs": [
        {
          "output_type": "stream",
          "name": "stdout",
          "text": [
            "[2, 3, 485, 586, 789]\n"
          ]
        }
      ]
    },
    {
      "cell_type": "code",
      "source": [
        "gamma=[97,75,45,785,543,24]\n",
        "print(gamma)"
      ],
      "metadata": {
        "colab": {
          "base_uri": "https://localhost:8080/"
        },
        "id": "nPhXglIsFMX7",
        "outputId": "ca6c245b-4624-43a6-ca04-61bce7c1b8b4"
      },
      "execution_count": null,
      "outputs": [
        {
          "output_type": "stream",
          "name": "stdout",
          "text": [
            "[97, 75, 45, 785, 543, 24]\n"
          ]
        }
      ]
    },
    {
      "cell_type": "code",
      "source": [
        "op=[1.2,3.4,783.23,38.2]\n",
        "print(op)"
      ],
      "metadata": {
        "colab": {
          "base_uri": "https://localhost:8080/"
        },
        "id": "zbvrSe-hFU3A",
        "outputId": "d8c42bda-7e40-4748-bc8a-60c119c71a4b"
      },
      "execution_count": null,
      "outputs": [
        {
          "output_type": "stream",
          "name": "stdout",
          "text": [
            "[1.2, 3.4, 783.23, 38.2]\n"
          ]
        }
      ]
    },
    {
      "cell_type": "code",
      "source": [
        "sj=[3287.3982,8127.217,3790.6732]\n",
        "print(sj)"
      ],
      "metadata": {
        "colab": {
          "base_uri": "https://localhost:8080/"
        },
        "id": "YyWnFBQbFdGD",
        "outputId": "7f8f7a27-21f0-4c8e-e958-122f3444e7a1"
      },
      "execution_count": null,
      "outputs": [
        {
          "output_type": "stream",
          "name": "stdout",
          "text": [
            "[3287.3982, 8127.217, 3790.6732]\n"
          ]
        }
      ]
    },
    {
      "cell_type": "code",
      "source": [
        "dh=[1+4j,3+4j,5+7j,3+1j]\n",
        "print(dh)"
      ],
      "metadata": {
        "colab": {
          "base_uri": "https://localhost:8080/"
        },
        "id": "Q2Glc3vyFj0_",
        "outputId": "1c9933c5-a352-4ba5-8cd8-1255c5997567"
      },
      "execution_count": null,
      "outputs": [
        {
          "output_type": "stream",
          "name": "stdout",
          "text": [
            "[(1+4j), (3+4j), (5+7j), (3+1j)]\n"
          ]
        }
      ]
    },
    {
      "cell_type": "code",
      "source": [
        "kl=[8+6j,5+3j,2+4j]\n",
        "print(kl)"
      ],
      "metadata": {
        "colab": {
          "base_uri": "https://localhost:8080/"
        },
        "id": "Uyf0BYa1GD-r",
        "outputId": "c6451fff-b4c9-4abc-f462-7b529a65a4ca"
      },
      "execution_count": null,
      "outputs": [
        {
          "output_type": "stream",
          "name": "stdout",
          "text": [
            "[(8+6j), (5+3j), (2+4j)]\n"
          ]
        }
      ]
    },
    {
      "cell_type": "code",
      "source": [
        "iop=[\"car\",\"bike\",\"bus\",\"train\"]\n",
        "print(iop)"
      ],
      "metadata": {
        "colab": {
          "base_uri": "https://localhost:8080/"
        },
        "id": "-xTGzIUJGJi2",
        "outputId": "2ffe38a3-8fb3-41f5-e56c-f10bbd4cd88f"
      },
      "execution_count": null,
      "outputs": [
        {
          "output_type": "stream",
          "name": "stdout",
          "text": [
            "['car', 'bike', 'bus', 'train']\n"
          ]
        }
      ]
    },
    {
      "cell_type": "code",
      "source": [
        "ash=[True,False,True]\n",
        "print(ash)"
      ],
      "metadata": {
        "colab": {
          "base_uri": "https://localhost:8080/"
        },
        "id": "2RfV6BuJGP8i",
        "outputId": "97b29dc4-6e5a-4ad6-c4a9-ffea5f88ba9d"
      },
      "execution_count": null,
      "outputs": [
        {
          "output_type": "stream",
          "name": "stdout",
          "text": [
            "[True, False, True]\n"
          ]
        }
      ]
    },
    {
      "cell_type": "code",
      "source": [
        "sr=[298,438.4,\"Abdul\",True,3+4j]\n",
        "print(sr)"
      ],
      "metadata": {
        "colab": {
          "base_uri": "https://localhost:8080/"
        },
        "id": "BFIhrKQKGbqj",
        "outputId": "2d1917d2-4396-433e-fe56-4822046b5290"
      },
      "execution_count": null,
      "outputs": [
        {
          "output_type": "stream",
          "name": "stdout",
          "text": [
            "[298, 438.4, 'Abdul', True, (3+4j)]\n"
          ]
        }
      ]
    },
    {
      "cell_type": "markdown",
      "source": [
        "#Access List Items:\n",
        "Elements in a list can be accessed using indexing and slicing .Indexing is of two types that are positive indexing and neagtive indexing .Python indexes start at 0 to infinity, so a[0] will access the first element, while negative indexing allows us to access elements from the end of the list. Like index -1 represents the last elements of list.\n",
        "\n",
        "Python list slicing is fundamental concept that let us easily access specific elements in a list,we’ll learn the syntax and how to use\n",
        "slicing with examples.\n",
        "\n",
        "#1)Positve Indexing\n",
        "#2)Negative Indexing\n",
        "\n"
      ],
      "metadata": {
        "id": "g2pU4ruvGvPV"
      }
    },
    {
      "cell_type": "code",
      "source": [
        "#positive indexing\n",
        "op=[1,3,5,6,7,]\n",
        "print(op[0])"
      ],
      "metadata": {
        "colab": {
          "base_uri": "https://localhost:8080/"
        },
        "id": "QLV9BrsJIi21",
        "outputId": "8088aa4e-4b54-4df9-b5f9-bdadb0e2ca12"
      },
      "execution_count": null,
      "outputs": [
        {
          "output_type": "stream",
          "name": "stdout",
          "text": [
            "1\n"
          ]
        }
      ]
    },
    {
      "cell_type": "code",
      "source": [
        "wow=[2.3,42,27.54,256.123]\n",
        "print(wow[3])"
      ],
      "metadata": {
        "colab": {
          "base_uri": "https://localhost:8080/"
        },
        "id": "K9mFjzE4Iq9j",
        "outputId": "52a2d709-9843-4b45-8b8e-442661ee9f6f"
      },
      "execution_count": null,
      "outputs": [
        {
          "output_type": "stream",
          "name": "stdout",
          "text": [
            "256.123\n"
          ]
        }
      ]
    },
    {
      "cell_type": "code",
      "source": [
        "pop=[29.29,True,\"Abdul\",3+4j]\n",
        "print(pop[2])"
      ],
      "metadata": {
        "colab": {
          "base_uri": "https://localhost:8080/"
        },
        "id": "8HqmaitVI7Ji",
        "outputId": "58239888-f6a4-468f-e1e9-c0fb3b51e7fe"
      },
      "execution_count": null,
      "outputs": [
        {
          "output_type": "stream",
          "name": "stdout",
          "text": [
            "Abdul\n"
          ]
        }
      ]
    },
    {
      "cell_type": "code",
      "source": [
        "print(pop[1])"
      ],
      "metadata": {
        "colab": {
          "base_uri": "https://localhost:8080/"
        },
        "id": "m-EA41bGJRsl",
        "outputId": "88311d45-757d-441d-94ca-308c077daebf"
      },
      "execution_count": null,
      "outputs": [
        {
          "output_type": "stream",
          "name": "stdout",
          "text": [
            "True\n"
          ]
        }
      ]
    },
    {
      "cell_type": "code",
      "source": [
        "print(pop[3])"
      ],
      "metadata": {
        "colab": {
          "base_uri": "https://localhost:8080/"
        },
        "id": "RsRh9Z_wJZLL",
        "outputId": "5e199d1c-d87d-4878-e81c-ef084b4cc46f"
      },
      "execution_count": null,
      "outputs": [
        {
          "output_type": "stream",
          "name": "stdout",
          "text": [
            "(3+4j)\n"
          ]
        }
      ]
    },
    {
      "cell_type": "code",
      "source": [
        "#Negative Indexing\n",
        "indust=[1,5,6.32,4.89,\"Abdul\",\"Ahmed\",True,False,4+6j,8+3j]\n",
        "print(indust[-1])"
      ],
      "metadata": {
        "colab": {
          "base_uri": "https://localhost:8080/"
        },
        "id": "7mhev31iJciR",
        "outputId": "e714c879-3867-4025-824d-60644425d677"
      },
      "execution_count": null,
      "outputs": [
        {
          "output_type": "stream",
          "name": "stdout",
          "text": [
            "(8+3j)\n"
          ]
        }
      ]
    },
    {
      "cell_type": "code",
      "source": [
        "print(indust[-6])"
      ],
      "metadata": {
        "colab": {
          "base_uri": "https://localhost:8080/"
        },
        "id": "BntQK1BaJ896",
        "outputId": "0b92087d-ad47-489b-9f94-8577fd9948a6"
      },
      "execution_count": null,
      "outputs": [
        {
          "output_type": "stream",
          "name": "stdout",
          "text": [
            "Abdul\n"
          ]
        }
      ]
    },
    {
      "cell_type": "code",
      "source": [
        "print(indust[-4])"
      ],
      "metadata": {
        "colab": {
          "base_uri": "https://localhost:8080/"
        },
        "id": "bybHUKT9KCQc",
        "outputId": "d0a83e3e-6350-4f62-f7b0-bd74462d7d43"
      },
      "execution_count": null,
      "outputs": [
        {
          "output_type": "stream",
          "name": "stdout",
          "text": [
            "True\n"
          ]
        }
      ]
    },
    {
      "cell_type": "code",
      "source": [
        "print(indust[-8])"
      ],
      "metadata": {
        "colab": {
          "base_uri": "https://localhost:8080/"
        },
        "id": "4OmkXqvZKEqs",
        "outputId": "edad22e2-6afc-44cc-a571-0fbe89d38aac"
      },
      "execution_count": null,
      "outputs": [
        {
          "output_type": "stream",
          "name": "stdout",
          "text": [
            "6.32\n"
          ]
        }
      ]
    },
    {
      "cell_type": "code",
      "source": [
        "print(indust[-9])"
      ],
      "metadata": {
        "colab": {
          "base_uri": "https://localhost:8080/"
        },
        "id": "iMxubfrxKJAX",
        "outputId": "e279f01d-00e5-4d36-a0bd-0961ec45d1fa"
      },
      "execution_count": null,
      "outputs": [
        {
          "output_type": "stream",
          "name": "stdout",
          "text": [
            "5\n"
          ]
        }
      ]
    },
    {
      "cell_type": "code",
      "source": [
        "#Slicing\n",
        "irl=[12,36,1.23,3.45,\"AYKD\",\"DKYA\",True,False,6+1j,9+5j]\n",
        "print(irl[2:5])"
      ],
      "metadata": {
        "colab": {
          "base_uri": "https://localhost:8080/"
        },
        "id": "kKBzNsU9KNPh",
        "outputId": "90a5dcc0-b83a-4fd9-c06a-93318e5924d0"
      },
      "execution_count": null,
      "outputs": [
        {
          "output_type": "stream",
          "name": "stdout",
          "text": [
            "[1.23, 3.45, 'AYKD']\n"
          ]
        }
      ]
    },
    {
      "cell_type": "code",
      "source": [
        "print(irl[4:8])"
      ],
      "metadata": {
        "colab": {
          "base_uri": "https://localhost:8080/"
        },
        "id": "lXW2ZYogNH_R",
        "outputId": "695d0f4b-d27b-4b3c-ca53-b22f2a1ec7e5"
      },
      "execution_count": null,
      "outputs": [
        {
          "output_type": "stream",
          "name": "stdout",
          "text": [
            "['AYKD', 'DKYA', True, False]\n"
          ]
        }
      ]
    },
    {
      "cell_type": "code",
      "source": [
        "print(irl[1:6])"
      ],
      "metadata": {
        "colab": {
          "base_uri": "https://localhost:8080/"
        },
        "id": "A4TB5Ta1NMFn",
        "outputId": "3e5ba5bb-31cb-4a77-a012-44faa315d528"
      },
      "execution_count": null,
      "outputs": [
        {
          "output_type": "stream",
          "name": "stdout",
          "text": [
            "[36, 1.23, 3.45, 'AYKD', 'DKYA']\n"
          ]
        }
      ]
    },
    {
      "cell_type": "code",
      "source": [
        "print(irl[5:9])"
      ],
      "metadata": {
        "colab": {
          "base_uri": "https://localhost:8080/"
        },
        "id": "sSjj2gtLNStt",
        "outputId": "7491306a-6db7-412d-83d6-f189b536c6e6"
      },
      "execution_count": null,
      "outputs": [
        {
          "output_type": "stream",
          "name": "stdout",
          "text": [
            "['DKYA', True, False, (6+1j)]\n"
          ]
        }
      ]
    },
    {
      "cell_type": "code",
      "source": [
        "#concatination\n",
        "op=[12,32,54,68,87,32]\n",
        "er=[45,88,35,65,45,23]\n",
        "print(op+er)"
      ],
      "metadata": {
        "colab": {
          "base_uri": "https://localhost:8080/"
        },
        "id": "-RFSj4ZBNjQ2",
        "outputId": "3d21140b-c911-4681-b474-79472a2b3706"
      },
      "execution_count": null,
      "outputs": [
        {
          "output_type": "stream",
          "name": "stdout",
          "text": [
            "[12, 32, 54, 68, 87, 32, 45, 88, 35, 65, 45, 23]\n"
          ]
        }
      ]
    },
    {
      "cell_type": "code",
      "source": [
        "#repetation\n",
        "kl=[1,2,3,]\n",
        "print(kl*3)"
      ],
      "metadata": {
        "colab": {
          "base_uri": "https://localhost:8080/"
        },
        "id": "7kGUAtn-N42e",
        "outputId": "b7614390-8e1c-4d99-e9ad-e638097f021c"
      },
      "execution_count": null,
      "outputs": [
        {
          "output_type": "stream",
          "name": "stdout",
          "text": [
            "[1, 2, 3, 1, 2, 3, 1, 2, 3]\n"
          ]
        }
      ]
    },
    {
      "cell_type": "code",
      "source": [
        "#Mutable\n",
        "D=[\"Abdul\",1,\"AYD\"]\n",
        "D[1]=\"Ring\"\n",
        "print(D)"
      ],
      "metadata": {
        "colab": {
          "base_uri": "https://localhost:8080/"
        },
        "id": "k0CJVvU-OInE",
        "outputId": "9e7f951d-73f2-47aa-919c-e62ffac383c4"
      },
      "execution_count": null,
      "outputs": [
        {
          "output_type": "stream",
          "name": "stdout",
          "text": [
            "['Abdul', 'Ring', 'AYD']\n"
          ]
        }
      ]
    },
    {
      "cell_type": "code",
      "source": [
        "#Mutable through Slicing\n",
        "Y=[1,2,3]\n",
        "Y[0:3]=[\"Abdul\",\"Ring\",\"DYA\"]\n",
        "print(Y)"
      ],
      "metadata": {
        "colab": {
          "base_uri": "https://localhost:8080/"
        },
        "id": "oVXdsxs1OhQs",
        "outputId": "a75e98ab-b24c-4173-baeb-cd16232a2791"
      },
      "execution_count": null,
      "outputs": [
        {
          "output_type": "stream",
          "name": "stdout",
          "text": [
            "['Abdul', 'Ring', 'DYA']\n"
          ]
        }
      ]
    },
    {
      "cell_type": "markdown",
      "source": [
        "#Functions and Methods of List\n",
        "Let’s look at different list methods in Python:\n",
        "\n",
        "append(): Adds an element to the end of the list.\n",
        "\n",
        "copy(): Returns a shallow copy of the list.\n",
        "\n",
        "clear(): Removes all elements from the list.\n",
        "\n",
        "count(): Returns the number of times a specified element appears in the list.\n",
        "\n",
        "extend(): Adds elements from another list to the end of the current list.\n",
        "\n",
        "index(): Returns the index of the first occurrence of a specified element.\n",
        "\n",
        "insert(): Inserts an element at a specified position.\n",
        "\n",
        "pop(): Removes and returns the element at the specified position (or the last element if no index is specified).\n",
        "\n",
        "remove(): Removes the first occurrence of a specified element.\n",
        "\n",
        "reverse(): Reverses the order of the elements in the list.\n",
        "\n",
        "sort(): Sorts the list in ascending order (by default)."
      ],
      "metadata": {
        "id": "_aM2mWaYPNbk"
      }
    },
    {
      "cell_type": "code",
      "source": [
        "#append\n",
        "wq=[1,3,5,7,9]\n",
        "wq.append(11)\n",
        "print(wq)"
      ],
      "metadata": {
        "colab": {
          "base_uri": "https://localhost:8080/"
        },
        "id": "Dh9iZIQbPxYk",
        "outputId": "dc640703-38ce-48d9-9a06-c04d3c13cba5"
      },
      "execution_count": null,
      "outputs": [
        {
          "output_type": "stream",
          "name": "stdout",
          "text": [
            "[1, 3, 5, 7, 9, 11]\n"
          ]
        }
      ]
    },
    {
      "cell_type": "code",
      "source": [
        "pl=[2,4,6,8]\n",
        "pl.append(10)\n",
        "print(pl)"
      ],
      "metadata": {
        "colab": {
          "base_uri": "https://localhost:8080/"
        },
        "id": "1wVBgFhdQAHS",
        "outputId": "daf98ae6-f8ca-42de-8758-06898b8e5161"
      },
      "execution_count": null,
      "outputs": [
        {
          "output_type": "stream",
          "name": "stdout",
          "text": [
            "[2, 4, 6, 8, 10]\n"
          ]
        }
      ]
    },
    {
      "cell_type": "code",
      "source": [
        "mk=[1,2,33,43]\n",
        "mk.append(21)\n",
        "print(mk)"
      ],
      "metadata": {
        "colab": {
          "base_uri": "https://localhost:8080/"
        },
        "id": "RqhX7TvYQVxY",
        "outputId": "3fa0aaeb-7d14-4386-8004-436dee52713a"
      },
      "execution_count": null,
      "outputs": [
        {
          "output_type": "stream",
          "name": "stdout",
          "text": [
            "[1, 2, 33, 43, 21]\n"
          ]
        }
      ]
    },
    {
      "cell_type": "code",
      "source": [
        "#insert\n",
        "ds=[1,2,3,4]\n",
        "ds.insert(2,45)\n",
        "print(ds)"
      ],
      "metadata": {
        "colab": {
          "base_uri": "https://localhost:8080/"
        },
        "id": "biaPgryzQf4E",
        "outputId": "f6ca7075-e8fd-4e69-c4b3-3c98059e36a0"
      },
      "execution_count": null,
      "outputs": [
        {
          "output_type": "stream",
          "name": "stdout",
          "text": [
            "[1, 2, 45, 3, 4]\n"
          ]
        }
      ]
    },
    {
      "cell_type": "code",
      "source": [
        "Eng=[\"Abdul\",\"AYD\",\"KYD\"]\n",
        "Eng.insert(1,\"Ring\")\n",
        "print(Eng)"
      ],
      "metadata": {
        "colab": {
          "base_uri": "https://localhost:8080/"
        },
        "id": "_5lZe3-GRBKF",
        "outputId": "2532773c-0d5b-42db-948b-72c0c35e1005"
      },
      "execution_count": null,
      "outputs": [
        {
          "output_type": "stream",
          "name": "stdout",
          "text": [
            "['Abdul', 'Ring', 'AYD', 'KYD']\n"
          ]
        }
      ]
    },
    {
      "cell_type": "code",
      "source": [
        "jf=[12,98,354,]\n",
        "jf.insert(0,5)\n",
        "print(jf)"
      ],
      "metadata": {
        "colab": {
          "base_uri": "https://localhost:8080/"
        },
        "id": "NyObM26eRWkp",
        "outputId": "785308d5-40f9-40bd-f05a-a67c15ea59d2"
      },
      "execution_count": null,
      "outputs": [
        {
          "output_type": "stream",
          "name": "stdout",
          "text": [
            "[5, 12, 98, 354]\n"
          ]
        }
      ]
    },
    {
      "cell_type": "code",
      "source": [
        "#remove\n",
        "ax=[1,2,3,4,5,6]\n",
        "ax.remove(3)\n",
        "print(ax)"
      ],
      "metadata": {
        "colab": {
          "base_uri": "https://localhost:8080/"
        },
        "id": "uAM1ccKXRicq",
        "outputId": "b8bd1a26-b44c-4c41-d324-96c962c34b8f"
      },
      "execution_count": null,
      "outputs": [
        {
          "output_type": "stream",
          "name": "stdout",
          "text": [
            "[1, 2, 4, 5, 6]\n"
          ]
        }
      ]
    },
    {
      "cell_type": "code",
      "source": [
        "fkm=[1.5,2.54,541.54,45.1]\n",
        "fkm.remove(2.54)\n",
        "print(fkm)"
      ],
      "metadata": {
        "colab": {
          "base_uri": "https://localhost:8080/"
        },
        "id": "SaRnTOa4Rm4u",
        "outputId": "2087f9eb-0035-444c-e916-f6481fa0b824"
      },
      "execution_count": null,
      "outputs": [
        {
          "output_type": "stream",
          "name": "stdout",
          "text": [
            "[1.5, 541.54, 45.1]\n"
          ]
        }
      ]
    },
    {
      "cell_type": "code",
      "source": [
        "gh=[True,False,True,False]\n",
        "gh.remove(True)\n",
        "print(gh)"
      ],
      "metadata": {
        "colab": {
          "base_uri": "https://localhost:8080/"
        },
        "id": "3eYKjw-bR9H7",
        "outputId": "5e0be5cc-523d-40f6-e5d6-a62c08cd0f62"
      },
      "execution_count": null,
      "outputs": [
        {
          "output_type": "stream",
          "name": "stdout",
          "text": [
            "[False, True, False]\n"
          ]
        }
      ]
    },
    {
      "cell_type": "code",
      "source": [
        "#copy()\n",
        "sa=[1,2.34,45.43,4.22,43,31,23]\n",
        "sa.copy()\n",
        "print(sa)"
      ],
      "metadata": {
        "id": "AALqwpXwST8B",
        "colab": {
          "base_uri": "https://localhost:8080/"
        },
        "outputId": "8ca7b12a-d907-4876-a025-bd10dc1f598e"
      },
      "execution_count": 1,
      "outputs": [
        {
          "output_type": "stream",
          "name": "stdout",
          "text": [
            "[1, 2.34, 45.43, 4.22, 43, 31, 23]\n"
          ]
        }
      ]
    },
    {
      "cell_type": "code",
      "source": [
        "#clear\n",
        "io=[1,2,3,4,5,6,7]\n",
        "io.clear()\n",
        "print(io)"
      ],
      "metadata": {
        "colab": {
          "base_uri": "https://localhost:8080/"
        },
        "id": "7iuNBRcPWP9M",
        "outputId": "cc509855-fb0f-43eb-e2c0-735d775a13bb"
      },
      "execution_count": 2,
      "outputs": [
        {
          "output_type": "stream",
          "name": "stdout",
          "text": [
            "[]\n"
          ]
        }
      ]
    },
    {
      "cell_type": "code",
      "source": [
        "#count\n",
        "la=[54,23.24,54,6584.44,23.24,54,64,654,23.24]\n",
        "la.count(23.24)\n"
      ],
      "metadata": {
        "colab": {
          "base_uri": "https://localhost:8080/"
        },
        "id": "X6EReV2iYR24",
        "outputId": "8c46984e-41cf-4ec3-dc88-42ba39f2375b"
      },
      "execution_count": 4,
      "outputs": [
        {
          "output_type": "execute_result",
          "data": {
            "text/plain": [
              "3"
            ]
          },
          "metadata": {},
          "execution_count": 4
        }
      ]
    },
    {
      "cell_type": "code",
      "source": [
        "#extend\n",
        "jk=[1,54.4,54,752,64,54,634]\n",
        "mk=[213,54,57,32,68,76,521]\n",
        "jk.extend(mk)\n",
        "print(jk)"
      ],
      "metadata": {
        "colab": {
          "base_uri": "https://localhost:8080/"
        },
        "id": "Sq7d6QLxY29g",
        "outputId": "01217c93-ea98-44df-e312-5593651acfce"
      },
      "execution_count": 6,
      "outputs": [
        {
          "output_type": "stream",
          "name": "stdout",
          "text": [
            "[1, 54.4, 54, 752, 64, 54, 634, 213, 54, 57, 32, 68, 76, 521]\n"
          ]
        }
      ]
    },
    {
      "cell_type": "code",
      "source": [
        "#index\n",
        "pl=[1,2,3,34,45,56]\n",
        "pl[3]"
      ],
      "metadata": {
        "colab": {
          "base_uri": "https://localhost:8080/"
        },
        "id": "GjGHN4t4ZXAo",
        "outputId": "45734d78-46b3-4511-9afd-9bc5657b6aca"
      },
      "execution_count": 18,
      "outputs": [
        {
          "output_type": "execute_result",
          "data": {
            "text/plain": [
              "34"
            ]
          },
          "metadata": {},
          "execution_count": 18
        }
      ]
    },
    {
      "cell_type": "code",
      "source": [
        "pl=[1,2,3,34,45,56]\n",
        "pl.index(34)"
      ],
      "metadata": {
        "colab": {
          "base_uri": "https://localhost:8080/"
        },
        "id": "C9yja5JIaNKP",
        "outputId": "64c42529-f38b-436d-e40c-44bceaf62f57"
      },
      "execution_count": 19,
      "outputs": [
        {
          "output_type": "execute_result",
          "data": {
            "text/plain": [
              "3"
            ]
          },
          "metadata": {},
          "execution_count": 19
        }
      ]
    },
    {
      "cell_type": "code",
      "source": [
        "#pop\n",
        "djs=[12,32,5,6,4,6,1]\n",
        "djs.pop(2)\n",
        "print(djs)"
      ],
      "metadata": {
        "colab": {
          "base_uri": "https://localhost:8080/"
        },
        "id": "Jr-VAfn4cW28",
        "outputId": "c8004529-9957-4395-d803-048d928f36e9"
      },
      "execution_count": 22,
      "outputs": [
        {
          "output_type": "stream",
          "name": "stdout",
          "text": [
            "[12, 32, 6, 4, 6, 1]\n"
          ]
        }
      ]
    },
    {
      "cell_type": "code",
      "source": [
        "#reverse\n",
        "djs=[12,32,5,6,4,6,1]\n",
        "djs.reverse()\n",
        "print(djs)"
      ],
      "metadata": {
        "colab": {
          "base_uri": "https://localhost:8080/"
        },
        "id": "MoIm_wf6cwew",
        "outputId": "9fbbf66c-5fc0-40fb-d980-e6ba6af692c3"
      },
      "execution_count": 25,
      "outputs": [
        {
          "output_type": "stream",
          "name": "stdout",
          "text": [
            "[1, 6, 4, 6, 5, 32, 12]\n"
          ]
        }
      ]
    },
    {
      "cell_type": "code",
      "source": [
        "#sort\n",
        "mn=[99,35,98,53,6,456,4,3,5]\n",
        "mn.sort()\n",
        "print(mn)"
      ],
      "metadata": {
        "colab": {
          "base_uri": "https://localhost:8080/"
        },
        "id": "Lq6UrSQwdMIC",
        "outputId": "907c0897-520a-4013-d787-158a57696a2a"
      },
      "execution_count": 24,
      "outputs": [
        {
          "output_type": "stream",
          "name": "stdout",
          "text": [
            "[3, 4, 5, 6, 35, 53, 98, 99, 456]\n"
          ]
        }
      ]
    },
    {
      "cell_type": "code",
      "source": [
        "md=[63,24,87,34,43,58,88]\n",
        "md.sort()\n",
        "print(md)"
      ],
      "metadata": {
        "colab": {
          "base_uri": "https://localhost:8080/"
        },
        "id": "3WmenF6pdfI5",
        "outputId": "afbbedb1-e8fb-49de-98ee-f07e3d0d619d"
      },
      "execution_count": 28,
      "outputs": [
        {
          "output_type": "stream",
          "name": "stdout",
          "text": [
            "[24, 34, 43, 58, 63, 87, 88]\n"
          ]
        }
      ]
    },
    {
      "cell_type": "code",
      "source": [],
      "metadata": {
        "id": "Ibpbah7pd__6"
      },
      "execution_count": null,
      "outputs": []
    }
  ]
}