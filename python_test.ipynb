{
  "nbformat": 4,
  "nbformat_minor": 0,
  "metadata": {
    "colab": {
      "provenance": []
    },
    "kernelspec": {
      "name": "python3",
      "display_name": "Python 3"
    },
    "language_info": {
      "name": "python"
    }
  },
  "cells": [
    {
      "cell_type": "markdown",
      "source": [
        "# Q)WHAT IS PYTHON ? WHAT ARE THE BENEFITS OF PYTHON ?"
      ],
      "metadata": {
        "id": "gaznm3Oj_QhM"
      }
    },
    {
      "cell_type": "markdown",
      "source": [
        "A) -python is a programming language\n",
        "\n",
        "  -it is a high level language which can easily understand by humans\n",
        "\n",
        "  - its ws officially discovered in the year 1991\n",
        "\n",
        "  -it was discovered bt Guio Van Rosam\n",
        "\n",
        "#BENEFITS\n",
        "\n",
        " -easy to understand\n",
        "\n",
        " -provide high level security\n",
        "\n",
        " -it is an object oriented programming language\n",
        "\n",
        " -it i platform independent  "
      ],
      "metadata": {
        "id": "bJkyxBLb_ySq"
      }
    },
    {
      "cell_type": "markdown",
      "source": [
        "#Q) what is an interpreted language"
      ],
      "metadata": {
        "id": "oDBYoejfB7os"
      }
    },
    {
      "cell_type": "markdown",
      "source": [
        "A) interpreted language means it does not required any type of compiler\n",
        "\n",
        "it runs on its own and execute the program"
      ],
      "metadata": {
        "id": "aEebpBSUCK8L"
      }
    },
    {
      "cell_type": "markdown",
      "source": [
        "#Q) what are list and tuples? what is the key difference between the two?"
      ],
      "metadata": {
        "id": "ttim7C8rC6B7"
      }
    },
    {
      "cell_type": "markdown",
      "source": [
        "#list\n",
        "lists are the collection of elements of different data types\n",
        "\n",
        "it is seperated by ' , '\n",
        "\n",
        "it is representedin'[ ]'\n",
        "#example\n",
        "data=[1,2.3,\"science\",3+4j,o]\n",
        "\n",
        "\n",
        "#tuples\n",
        "\n",
        "tuples are th collection of the different data type\n",
        "\n",
        "it i seperated by ' , '\n",
        "\n",
        "it is represented in ' (  ) ', or' {  } '\n",
        "\n",
        "#example\n",
        "data=(1,2.3,3+4j,code)\n",
        "\n",
        "\n",
        "#key difference betweenthe two\n",
        "\n",
        "list are mutables. means we can do changes\n",
        "\n",
        "tuples are immutables . means we cannot do any changes"
      ],
      "metadata": {
        "id": "s4NHahsbDMgb"
      }
    },
    {
      "cell_type": "markdown",
      "source": [
        "#Q) what are the common build-in data type in python"
      ],
      "metadata": {
        "id": "ENZV4e6DF2l1"
      }
    },
    {
      "cell_type": "markdown",
      "source": [
        "A) the common build-in data type are as follows\n",
        "\n",
        "#int\n",
        "it has integers value\n",
        "#float\n",
        "it has decimal values\n",
        "#complex\n",
        "it has real and imaginary values\n",
        "#boolean\n",
        "it has \"0's\" and \"1's\"\n"
      ],
      "metadata": {
        "id": "jCsnRLGVGEGr"
      }
    },
    {
      "cell_type": "markdown",
      "source": [
        "# Q)benefits of using python language as a tool in the present scenario"
      ],
      "metadata": {
        "id": "EMD6i0s6IIAV"
      }
    },
    {
      "cell_type": "markdown",
      "source": [
        "A) it is easy to undertand\n",
        "\n",
        "it povide high level security\n",
        "\n",
        "it is platform independent\n",
        "\n",
        "it is a high level language which is understandable by humans"
      ],
      "metadata": {
        "id": "vildxR2qIjLt"
      }
    },
    {
      "cell_type": "markdown",
      "source": [
        "#Q)what does the '#' symbol do in python"
      ],
      "metadata": {
        "id": "1cq_paExJmFl"
      }
    },
    {
      "cell_type": "markdown",
      "source": [
        "the '#' symbol is used for comments in python\n",
        "#example\n",
        "\n"
      ],
      "metadata": {
        "id": "mbUrtdAJJ_mF"
      }
    },
    {
      "cell_type": "code",
      "source": [
        "# learning python programming"
      ],
      "metadata": {
        "id": "fTlyAVFIKUWt"
      },
      "execution_count": null,
      "outputs": []
    },
    {
      "cell_type": "markdown",
      "source": [
        "#Q) what is the difference between a mutable datatype and an immutable datatype"
      ],
      "metadata": {
        "id": "zC10nyP4Kwb_"
      }
    },
    {
      "cell_type": "markdown",
      "source": [
        "A) MUTABLE DATATYPE\n",
        "\n",
        "data which can be easily change the values by using some functions or methods are called as mutable datatype\n",
        "\n",
        "example:lists\n",
        "\n",
        "IMMUTABLE DATATYPE\n",
        "\n",
        "data which cannot change the values by any function or methods\n",
        "\n",
        "example: tuples"
      ],
      "metadata": {
        "id": "sto32SXHLA_t"
      }
    },
    {
      "cell_type": "markdown",
      "source": [
        "#Q)how do you comment on a single line and multiple line in python"
      ],
      "metadata": {
        "id": "Unt0WuT0Mvn3"
      }
    },
    {
      "cell_type": "markdown",
      "source": [
        "A)SINGLE LINE COMMENTS\n",
        "\n",
        " To comment in a single line we use '#' symbol in the starting\n",
        "\n",
        " example: #python programming\n",
        "\n",
        " MULTIIPLE LINE COMMENTS\n",
        "\n",
        " To comments in a multiple line we use multiple'#' symbol in starting of every line\n",
        "\n",
        " example: # learning of\n",
        "          #python\n",
        "          #programming"
      ],
      "metadata": {
        "id": "2X_PJTMYNHSW"
      }
    },
    {
      "cell_type": "markdown",
      "source": [
        "#Q) what is a docstring in python\n"
      ],
      "metadata": {
        "id": "VB9OVkktPx_o"
      }
    },
    {
      "cell_type": "markdown",
      "source": [
        "A)\"\"\" docstring\"\"\""
      ],
      "metadata": {
        "id": "-xnr5RURQzKf"
      }
    },
    {
      "cell_type": "markdown",
      "source": [
        "#Q)How do i modify a string in python?"
      ],
      "metadata": {
        "id": "DEueMey7RME3"
      }
    },
    {
      "cell_type": "markdown",
      "source": [
        "A)we can modify string in python by using some functions or methods\n",
        "\n",
        "some of them are as follows\n",
        "\n",
        "replace()\n",
        "\n",
        "upper()\n",
        "\n",
        "lower()\n",
        "\n",
        ".format()\n",
        "\n",
        "fstring()\n",
        "\n",
        "title()"
      ],
      "metadata": {
        "id": "ZyGmFp_SRZyv"
      }
    },
    {
      "cell_type": "markdown",
      "source": [
        "#Q)what is index in python and its type"
      ],
      "metadata": {
        "id": "hClV4mGyS2mw"
      }
    },
    {
      "cell_type": "markdown",
      "source": [],
      "metadata": {
        "id": "PfTBfiehDLh9"
      }
    }
  ]
}