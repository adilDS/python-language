{
  "nbformat": 4,
  "nbformat_minor": 0,
  "metadata": {
    "colab": {
      "provenance": [],
      "gpuType": "T4"
    },
    "kernelspec": {
      "name": "python3",
      "display_name": "Python 3"
    },
    "language_info": {
      "name": "python"
    },
    "accelerator": "GPU"
  },
  "cells": [
    {
      "cell_type": "code",
      "execution_count": null,
      "metadata": {
        "id": "4plU97u8qNcp"
      },
      "outputs": [],
      "source": [
        "#program to check if a given string is palindrome or not\n",
        "#program that converts a given number of a minutes into hours\n",
        "#program to count the number of vowels given in a strings\n",
        "#program to check if a given number is prime or not\n",
        "#create a loop that print the first ten whole numbers\n",
        "#generate fibanocis series upto the given number\n",
        "#program to print multiplication table of a given number\n",
        "#given a list of word write a python program to cunt the number of words with more than 5 characters\n",
        "#program to find the sum of first ten natural numbers\n",
        "#program to calculate area of all types of triangle"
      ]
    },
    {
      "cell_type": "code",
      "source": [
        "#program to check if a given string is palindrome or not\n",
        "def is_palindrome(s):\n",
        "    s = s.replace(\" \", \"\").lower()\n",
        "    return s == s[::-1]\n",
        "string = input(\"Enter a string: \")\n",
        "if is_palindrome(string):\n",
        "    print(\"The string is a palindrome.\")\n",
        "else:\n",
        "    print(\"The string is not a palindrome.\")"
      ],
      "metadata": {
        "colab": {
          "base_uri": "https://localhost:8080/"
        },
        "id": "wYEJBZj1rrhD",
        "outputId": "5f0f5b08-1053-40c5-ee7f-657aaa5c0d0e"
      },
      "execution_count": null,
      "outputs": [
        {
          "output_type": "stream",
          "name": "stdout",
          "text": [
            "Enter a string: madam\n",
            "The string is a palindrome.\n"
          ]
        }
      ]
    },
    {
      "cell_type": "code",
      "source": [
        "#program that converts a given number of a minutes into hours using function\n",
        "def convert_minutes_to_hours(minutes):\n",
        "    hours = minutes // 60\n",
        "    remaining_minutes = minutes % 60\n",
        "    return hours, remaining_minutes\n",
        "minutes =546\n",
        "hours, remaining_minutes = convert_minutes_to_hours(minutes)\n",
        "print(f\"{minutes} minutes is equal to {hours} hours and {remaining_minutes} minutes.\")\n"
      ],
      "metadata": {
        "colab": {
          "base_uri": "https://localhost:8080/"
        },
        "id": "go0PdTy_sJHL",
        "outputId": "7b87fc5e-14bb-4f44-f26a-18c2296c7254"
      },
      "execution_count": null,
      "outputs": [
        {
          "output_type": "stream",
          "name": "stdout",
          "text": [
            "546 minutes is equal to 9 hours and 6 minutes.\n"
          ]
        }
      ]
    },
    {
      "cell_type": "code",
      "source": [
        "#create a loop that print the first ten whole numbers\n",
        "def ten_whole_numbers():\n",
        "    for i in range(10):\n",
        "        print(i)\n",
        "ten_whole_numbers()\n"
      ],
      "metadata": {
        "colab": {
          "base_uri": "https://localhost:8080/"
        },
        "id": "2uisdhSosg6l",
        "outputId": "4d6ec5b0-6f0a-4668-dc4f-5f0a58773417"
      },
      "execution_count": null,
      "outputs": [
        {
          "output_type": "stream",
          "name": "stdout",
          "text": [
            "0\n",
            "1\n",
            "2\n",
            "3\n",
            "4\n",
            "5\n",
            "6\n",
            "7\n",
            "8\n",
            "9\n"
          ]
        }
      ]
    },
    {
      "cell_type": "code",
      "source": [
        "#program to find the sum of first ten natural numbers\n",
        "def sum_natural_numbers():\n",
        "    total = 0\n",
        "    for i in range(1, 11):\n",
        "        total += i\n",
        "    return total\n",
        "result = sum_natural_numbers()\n",
        "print(f\"The sum of the first ten natural numbers is: {result}\")\n"
      ],
      "metadata": {
        "colab": {
          "base_uri": "https://localhost:8080/"
        },
        "id": "CYXdbEfnt6ya",
        "outputId": "0e6d8641-8a91-4225-c301-338998ecb4b1"
      },
      "execution_count": null,
      "outputs": [
        {
          "output_type": "stream",
          "name": "stdout",
          "text": [
            "The sum of the first ten natural numbers is: 55\n"
          ]
        }
      ]
    },
    {
      "cell_type": "code",
      "source": [
        "#program to print multiplication table of a given number\n",
        "def print_multiplication_table(number):\n",
        "    for i in range(1, 11):\n",
        "        print(f\"{number} x {i} = {number * i}\")\n",
        "num = 5\n",
        "print_multiplication_table(num)"
      ],
      "metadata": {
        "colab": {
          "base_uri": "https://localhost:8080/"
        },
        "id": "bxa-rLc0uhoD",
        "outputId": "91714c3a-b7ec-4148-c239-99946921fa24"
      },
      "execution_count": null,
      "outputs": [
        {
          "output_type": "stream",
          "name": "stdout",
          "text": [
            "5 x 1 = 5\n",
            "5 x 2 = 10\n",
            "5 x 3 = 15\n",
            "5 x 4 = 20\n",
            "5 x 5 = 25\n",
            "5 x 6 = 30\n",
            "5 x 7 = 35\n",
            "5 x 8 = 40\n",
            "5 x 9 = 45\n",
            "5 x 10 = 50\n"
          ]
        }
      ]
    },
    {
      "cell_type": "code",
      "source": [
        "#program to count the number of vowels given in a strings\n",
        "def count_vowels(input_string):\n",
        "    vowels = \"aeiouAEIOU\"\n",
        "    vowel_count = 0\n",
        "    for char in input_string:\n",
        "        if char in vowels:\n",
        "            vowel_count += 1\n",
        "    return vowel_count\n",
        "input_string ='youcant'\n",
        "vowel_count = count_vowels(input_string)\n",
        "print(f\"The number of vowels in the string is: {vowel_count}\")\n",
        "\n"
      ],
      "metadata": {
        "id": "W3TSkFrqv9vj",
        "colab": {
          "base_uri": "https://localhost:8080/"
        },
        "outputId": "8b9e81ba-cd6e-4880-8407-ace3e2e5d8dc"
      },
      "execution_count": 8,
      "outputs": [
        {
          "output_type": "stream",
          "name": "stdout",
          "text": [
            "The number of vowels in the string is: 3\n"
          ]
        }
      ]
    },
    {
      "cell_type": "code",
      "source": [
        "#program to check if a given number is prime or not\n",
        "def is_prime(n):\n",
        "    if n <= 1:\n",
        "        return False\n",
        "    for i in range(2, int(n**0.5) + 1):\n",
        "        if n % i == 0:\n",
        "            return False\n",
        "    return True\n",
        "number = 5\n",
        "if is_prime(number):\n",
        "    print( \"prime number\")\n",
        "else:\n",
        "    print(\"{number} is not a prime number\")\n"
      ],
      "metadata": {
        "colab": {
          "base_uri": "https://localhost:8080/"
        },
        "id": "ajvAgJ8P1l2e",
        "outputId": "5c2a2d9c-a553-49ab-9676-f067d66d8eae"
      },
      "execution_count": 9,
      "outputs": [
        {
          "output_type": "stream",
          "name": "stdout",
          "text": [
            "prime number\n"
          ]
        }
      ]
    },
    {
      "cell_type": "code",
      "source": [
        "#generate fibanocis series upto the given number\n",
        "def fibonacci_series(limit):\n",
        "    fib_sequence = []\n",
        "    a, b = 0, 1\n",
        "    while a <= limit:\n",
        "        fib_sequence.append(a)\n",
        "        a, b = b, a + b\n",
        "\n",
        "    return fib_sequence\n",
        "limit = 20\n",
        "fib_sequence = fibonacci_series(limit)\n",
        "print(f\"The Fibonacci series up to {limit} is: {fib_sequence}\")\n"
      ],
      "metadata": {
        "colab": {
          "base_uri": "https://localhost:8080/"
        },
        "id": "uJRqzzni3Bfl",
        "outputId": "2831e279-4066-422f-8424-0bf79a48dff9"
      },
      "execution_count": 10,
      "outputs": [
        {
          "output_type": "stream",
          "name": "stdout",
          "text": [
            "The Fibonacci series up to 20 is: [0, 1, 1, 2, 3, 5, 8, 13]\n"
          ]
        }
      ]
    },
    {
      "cell_type": "code",
      "source": [
        "#program to print multiplication table of a given number\n",
        "def multiplication_table(number):\n",
        "    for i in range(1, 11):\n",
        "        print(f\"{number} x {i} = {number * i}\")\n",
        "num = 6\n",
        "multiplication_table(num)\n"
      ],
      "metadata": {
        "colab": {
          "base_uri": "https://localhost:8080/"
        },
        "id": "RwgoSUne3fpc",
        "outputId": "6417975a-0906-4cf1-fbc2-95d6ce264cf5"
      },
      "execution_count": 11,
      "outputs": [
        {
          "output_type": "stream",
          "name": "stdout",
          "text": [
            "6 x 1 = 6\n",
            "6 x 2 = 12\n",
            "6 x 3 = 18\n",
            "6 x 4 = 24\n",
            "6 x 5 = 30\n",
            "6 x 6 = 36\n",
            "6 x 7 = 42\n",
            "6 x 8 = 48\n",
            "6 x 9 = 54\n",
            "6 x 10 = 60\n"
          ]
        }
      ]
    },
    {
      "cell_type": "code",
      "source": [
        "#given a list of word write a python program to cunt the number of words with more than 5 characters\n",
        "def count_long_words(word_list):\n",
        "    count = 0\n",
        "    for word in word_list:\n",
        "        if len(word) > 5:\n",
        "            count += 1\n",
        "    return count\n",
        "words = [\"apple\", \"banana\", \"cherry\", \"date\", \"grapefruit\", \"kiwi\", \"orange\"]\n",
        "result = count_long_words(words)\n",
        "print(f\"Number of words with more than 5 characters: {result}\")\n"
      ],
      "metadata": {
        "colab": {
          "base_uri": "https://localhost:8080/"
        },
        "id": "IksFxrHk31C6",
        "outputId": "c0452b58-1981-4202-e593-a1f0dbe4f4ce"
      },
      "execution_count": 12,
      "outputs": [
        {
          "output_type": "stream",
          "name": "stdout",
          "text": [
            "Number of words with more than 5 characters: 4\n"
          ]
        }
      ]
    },
    {
      "cell_type": "code",
      "source": [],
      "metadata": {
        "id": "kkEypr2M4LMb"
      },
      "execution_count": null,
      "outputs": []
    }
  ]
}