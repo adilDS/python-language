{
  "nbformat": 4,
  "nbformat_minor": 0,
  "metadata": {
    "colab": {
      "provenance": []
    },
    "kernelspec": {
      "name": "python3",
      "display_name": "Python 3"
    },
    "language_info": {
      "name": "python"
    }
  },
  "cells": [
    {
      "cell_type": "code",
      "execution_count": null,
      "metadata": {
        "id": "LVPFBLEUy4Dp"
      },
      "outputs": [],
      "source": []
    },
    {
      "cell_type": "markdown",
      "source": [
        "#program to remove the duplicates from the list"
      ],
      "metadata": {
        "id": "WoSTvT-Wzb14"
      }
    },
    {
      "cell_type": "code",
      "source": [
        "a=[1,2,3,4,3,4]\n",
        "print (a)"
      ],
      "metadata": {
        "colab": {
          "base_uri": "https://localhost:8080/"
        },
        "id": "N979FBPb0LSd",
        "outputId": "25df6141-2fd9-42d4-97c3-5ecbc98a9d2a"
      },
      "execution_count": null,
      "outputs": [
        {
          "output_type": "stream",
          "name": "stdout",
          "text": [
            "[1, 2, 3, 4, 3, 4]\n"
          ]
        }
      ]
    },
    {
      "cell_type": "code",
      "source": [
        "print(type(a))"
      ],
      "metadata": {
        "colab": {
          "base_uri": "https://localhost:8080/"
        },
        "id": "Wv0GQWig0aE6",
        "outputId": "6183cda2-db08-448b-ddf9-16b7f66f85c9"
      },
      "execution_count": null,
      "outputs": [
        {
          "output_type": "stream",
          "name": "stdout",
          "text": [
            "<class 'list'>\n"
          ]
        }
      ]
    },
    {
      "cell_type": "code",
      "source": [
        "print(set(a))"
      ],
      "metadata": {
        "colab": {
          "base_uri": "https://localhost:8080/"
        },
        "id": "ALVnrHJI11T3",
        "outputId": "ee1c9f77-2a7c-4c74-a7c3-ec80dfcf3ec1"
      },
      "execution_count": null,
      "outputs": [
        {
          "output_type": "stream",
          "name": "stdout",
          "text": [
            "{1, 2, 3, 4}\n"
          ]
        }
      ]
    },
    {
      "cell_type": "markdown",
      "source": [
        "#program to check given charecter is vowel or not"
      ],
      "metadata": {
        "id": "-_zKYf6S2a74"
      }
    },
    {
      "cell_type": "code",
      "source": [
        "vowel={'a','e','i','o','u','A','E','I','O','U'}\n",
        "char='A'\n",
        "if char in vowel:\n",
        "  print('given charecter is vowel')\n",
        "else:\n",
        "  print('not vowel')"
      ],
      "metadata": {
        "colab": {
          "base_uri": "https://localhost:8080/"
        },
        "id": "LzTecdkJ2Dd1",
        "outputId": "accc883b-96c2-437c-ac5c-f357b9a6d9e3"
      },
      "execution_count": null,
      "outputs": [
        {
          "output_type": "stream",
          "name": "stdout",
          "text": [
            "given charecter is vowel\n"
          ]
        }
      ]
    },
    {
      "cell_type": "markdown",
      "source": [
        "#5 VEG AND 5 NON VEG\n",
        "print veg and non veg"
      ],
      "metadata": {
        "id": "Bx35mrj96M85"
      }
    },
    {
      "cell_type": "code",
      "source": [
        "order='potato curry'\n",
        "veg=['tomato soup','potato curry','cabbage curry','paneer biryani','brocolli curry']\n",
        "nonveg=['chiken biryani','motton biryani','kabab','chiken 65','chiken mandi']\n",
        "\n",
        "if order in veg:\n",
        "  print('your order is veg and it is',order)\n",
        "elif order in nonveg:\n",
        "  print( 'your order is nonveg and it is',order)\n",
        "else:\n",
        "  print ('we dont have that item')\n",
        "\n"
      ],
      "metadata": {
        "colab": {
          "base_uri": "https://localhost:8080/"
        },
        "id": "vZQ-Qy_O3rSV",
        "outputId": "60cd24e6-2f33-4714-e41a-f9c33e8e09f3"
      },
      "execution_count": null,
      "outputs": [
        {
          "output_type": "stream",
          "name": "stdout",
          "text": [
            "your order is veg and it is potato curry\n"
          ]
        }
      ]
    },
    {
      "cell_type": "markdown",
      "source": [
        "program to find common elements b\\w 2 lists\n",
        "\n",
        "to captalize the first letter in a word\n",
        "\n",
        "to find the length of a longest word in a sentence\n",
        "\n",
        "to check if list is empty or not\n",
        "\n",
        "to calculate the square root of a given number\n",
        "\n",
        "to find yhe max number in a list\n",
        "\n",
        "replace the all occurance of a charerecter in a string0"
      ],
      "metadata": {
        "id": "6kz4YdbM_PLf"
      }
    },
    {
      "cell_type": "markdown",
      "source": [
        "#program to find common elements b\\w 2 lists"
      ],
      "metadata": {
        "id": "KNqOWuSfjHj4"
      }
    },
    {
      "cell_type": "code",
      "source": [
        "kj=[1,20,32,15,45,47,31,46,73,19,16,72,89,35]\n",
        "lm=[14,48,81,99,13,43,78,26,41,79,15,40,89,1,73,47]\n",
        "sd=set(kj)\n",
        "ae=set(lm)\n",
        "print(sd.intersection(ae))"
      ],
      "metadata": {
        "colab": {
          "base_uri": "https://localhost:8080/"
        },
        "id": "ieHTPQKpjQ56",
        "outputId": "738be2bb-cbc1-4ecd-a41e-9505ad460177"
      },
      "execution_count": 1,
      "outputs": [
        {
          "output_type": "stream",
          "name": "stdout",
          "text": [
            "{1, 73, 47, 15, 89}\n"
          ]
        }
      ]
    },
    {
      "cell_type": "markdown",
      "source": [
        "#to captalize the first letter in a word"
      ],
      "metadata": {
        "id": "u4eqwo5qjVJ5"
      }
    },
    {
      "cell_type": "code",
      "source": [
        "sb='fixed'\n",
        "sb.capitalize()"
      ],
      "metadata": {
        "colab": {
          "base_uri": "https://localhost:8080/",
          "height": 36
        },
        "id": "EMyEFaCljayo",
        "outputId": "4cfca697-d2da-4f51-ffee-2b8352fa0c27"
      },
      "execution_count": 2,
      "outputs": [
        {
          "output_type": "execute_result",
          "data": {
            "text/plain": [
              "'Fixed'"
            ],
            "application/vnd.google.colaboratory.intrinsic+json": {
              "type": "string"
            }
          },
          "metadata": {},
          "execution_count": 2
        }
      ]
    },
    {
      "cell_type": "markdown",
      "source": [
        "#To find the length of a longest word in a sentence"
      ],
      "metadata": {
        "id": "Dm8oShmzjewh"
      }
    },
    {
      "cell_type": "code",
      "source": [
        "mac='this thing is getting out of our hands'\n",
        "longest = max(mac.split(), key=len)\n",
        "len(longest)\n",
        ""
      ],
      "metadata": {
        "id": "GHAgk_CWjfq-"
      },
      "execution_count": null,
      "outputs": []
    },
    {
      "cell_type": "markdown",
      "source": [
        "#to check if list is empty or not"
      ],
      "metadata": {
        "id": "atYRZMkfjpFC"
      }
    },
    {
      "cell_type": "code",
      "source": [
        "ow=[1,2,3,4,5,6,7,8,9]\n",
        "if len(ow)==0:\n",
        "    print('list is empty')\n",
        "else:\n",
        "    print('list is not empty')"
      ],
      "metadata": {
        "colab": {
          "base_uri": "https://localhost:8080/"
        },
        "id": "miLCTUFpjw_C",
        "outputId": "519d90d7-f289-4b67-ccb2-16eccfb11e00"
      },
      "execution_count": 3,
      "outputs": [
        {
          "output_type": "stream",
          "name": "stdout",
          "text": [
            "list is not empty\n"
          ]
        }
      ]
    },
    {
      "cell_type": "markdown",
      "source": [
        "#to calculate the square root of a given number\n",
        "\n"
      ],
      "metadata": {
        "id": "tqvdlbhrjXqV"
      }
    },
    {
      "cell_type": "code",
      "source": [
        "res= 2**0.5\n",
        "print(res)"
      ],
      "metadata": {
        "colab": {
          "base_uri": "https://localhost:8080/"
        },
        "id": "7dDIpTZFkB9T",
        "outputId": "c8428418-44ae-4d4e-ff89-4b92c2be1c8d"
      },
      "execution_count": 4,
      "outputs": [
        {
          "output_type": "stream",
          "name": "stdout",
          "text": [
            "1.4142135623730951\n"
          ]
        }
      ]
    },
    {
      "cell_type": "markdown",
      "source": [
        "#to find yhe max number in a list"
      ],
      "metadata": {
        "id": "6xxP3e426K4K"
      }
    },
    {
      "cell_type": "code",
      "source": [
        "kj=[1,20,32,15,45,47,89,46,73,19,16,72,7,35]\n",
        "max(kj)"
      ],
      "metadata": {
        "colab": {
          "base_uri": "https://localhost:8080/"
        },
        "id": "aM9LtxnEkK_U",
        "outputId": "f5f2f01b-482e-4093-8531-721afc379d56"
      },
      "execution_count": 5,
      "outputs": [
        {
          "output_type": "execute_result",
          "data": {
            "text/plain": [
              "89"
            ]
          },
          "metadata": {},
          "execution_count": 5
        }
      ]
    },
    {
      "cell_type": "markdown",
      "source": [
        "#replace the all occurance of a charerecter in a string"
      ],
      "metadata": {
        "id": "bT7cLFrAkQSx"
      }
    },
    {
      "cell_type": "code",
      "source": [
        "th='I will be in the room in 10 minute.so better be in time and come in quicky'\n",
        "th.replace('in','at')"
      ],
      "metadata": {
        "colab": {
          "base_uri": "https://localhost:8080/",
          "height": 36
        },
        "id": "wVKTRbbDkQBR",
        "outputId": "2db94d16-5333-4869-8c5e-14f2d4b8e965"
      },
      "execution_count": 6,
      "outputs": [
        {
          "output_type": "execute_result",
          "data": {
            "text/plain": [
              "'I will be at the room at 10 matute.so better be at time and come at quicky'"
            ],
            "application/vnd.google.colaboratory.intrinsic+json": {
              "type": "string"
            }
          },
          "metadata": {},
          "execution_count": 6
        }
      ]
    }
  ]
}