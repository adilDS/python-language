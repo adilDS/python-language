{
  "nbformat": 4,
  "nbformat_minor": 0,
  "metadata": {
    "colab": {
      "provenance": [],
      "gpuType": "T4"
    },
    "kernelspec": {
      "name": "python3",
      "display_name": "Python 3"
    },
    "language_info": {
      "name": "python"
    },
    "accelerator": "GPU"
  },
  "cells": [
    {
      "cell_type": "code",
      "execution_count": 1,
      "metadata": {
        "id": "tJLJ7_DEZ8jC"
      },
      "outputs": [],
      "source": [
        "#program to check if a given string is palindrome or not\n",
        "#program that converts a given number of a minutes into hours\n",
        "#program to count the number of vowels given in a strings\n",
        "#program to check if a given number is prime or not\n",
        "#create a loop that print the first ten whole numbers\n",
        "#generate fibanocis series upto the given number\n",
        "#program to print multiplication table of a given number\n",
        "#given a list of word write a python program to cunt the number of words with more than 5 characters\n",
        "#program to find the sum of first ten natural numbers\n",
        "#program to calculate area of all types of triangle"
      ]
    },
    {
      "cell_type": "code",
      "source": [
        "#program to check if a given string is palindrome or not\n",
        "pl='A man a plan a canal Panama'\n",
        "pl=pl.replace(\" \",\"\").lower()\n",
        "if pl==pl[::-1]:\n",
        "    print(pl,'is palindrome')\n",
        "else:\n",
        "    print(pl,'is not palindrome')"
      ],
      "metadata": {
        "colab": {
          "base_uri": "https://localhost:8080/"
        },
        "id": "HH975Tv_aV_h",
        "outputId": "1d441b87-d697-4d0b-c55d-1ef8645c297d"
      },
      "execution_count": 2,
      "outputs": [
        {
          "output_type": "stream",
          "name": "stdout",
          "text": [
            "amanaplanacanalpanama is palindrome\n"
          ]
        }
      ]
    },
    {
      "cell_type": "code",
      "source": [
        "#program that converts a given number of a minutes into hours\n",
        "minutes =620\n",
        "hours = minutes // 60\n",
        "remaining_minutes = minutes % 60\n",
        "print(hours,'hours',remaining_minutes,'minutes')\n"
      ],
      "metadata": {
        "colab": {
          "base_uri": "https://localhost:8080/"
        },
        "id": "_RNw0GfZadrC",
        "outputId": "5e15d7a7-359f-40ea-a7fb-73e79469ea2b"
      },
      "execution_count": 1,
      "outputs": [
        {
          "output_type": "stream",
          "name": "stdout",
          "text": [
            "10 hours 20 minutes\n"
          ]
        }
      ]
    },
    {
      "cell_type": "code",
      "source": [
        "#program to count the number of vowels given in a strings\n",
        "ks='this is a string'\n",
        "vowels = \"aeiouAEIOU\"\n",
        "vowel_count = 0\n",
        "for char in ks:\n",
        "    if char in vowels:\n",
        "        vowel_count += 1\n",
        "print(\"Number of vowels:\", vowel_count)"
      ],
      "metadata": {
        "id": "ftuQ-mjpd__S",
        "outputId": "1f2b59fa-b0c8-44fe-9c43-2c1ef5e6a60b",
        "colab": {
          "base_uri": "https://localhost:8080/"
        }
      },
      "execution_count": 3,
      "outputs": [
        {
          "output_type": "stream",
          "name": "stdout",
          "text": [
            "Number of vowels: 4\n"
          ]
        }
      ]
    },
    {
      "cell_type": "code",
      "source": [
        "#program to check if a given number is prime or not\n",
        "num =7\n",
        "if num <= 1:\n",
        "    print(f\"{num} is not a prime number.\")\n",
        "else:\n",
        "    is_prime = True\n",
        "    for i in range(2, int(num ** 0.5) + 1):\n",
        "        if num % i == 0:\n",
        "            is_prime = False\n",
        "            break\n",
        "\n",
        "    if is_prime:\n",
        "        print(f\"{num} is a prime number.\")\n",
        "    else:\n",
        "        print(f\"{num} is not a prime number.\")"
      ],
      "metadata": {
        "id": "7ARGByHCe81o",
        "outputId": "ef2e1b3a-0b50-4398-8ccb-fe65427712aa",
        "colab": {
          "base_uri": "https://localhost:8080/"
        }
      },
      "execution_count": 6,
      "outputs": [
        {
          "output_type": "stream",
          "name": "stdout",
          "text": [
            "7 is a prime number.\n"
          ]
        }
      ]
    },
    {
      "cell_type": "code",
      "source": [
        "#create a loop that print the first ten whole numbers\n",
        "for i in range(10):\n",
        "    print(i)"
      ],
      "metadata": {
        "id": "3qBgiYEagZEc",
        "outputId": "6c65057c-6892-439f-a8e2-57bf3ab9c830",
        "colab": {
          "base_uri": "https://localhost:8080/"
        }
      },
      "execution_count": 7,
      "outputs": [
        {
          "output_type": "stream",
          "name": "stdout",
          "text": [
            "0\n",
            "1\n",
            "2\n",
            "3\n",
            "4\n",
            "5\n",
            "6\n",
            "7\n",
            "8\n",
            "9\n"
          ]
        }
      ]
    },
    {
      "cell_type": "code",
      "source": [
        "#generate fibanocis series upto the given number\n",
        "n=20\n",
        "a, b = 0, 1\n",
        "print(\"Fibonacci series up to\", n, \"is:\")\n",
        "while a <= n:\n",
        "    print(a, end=\" \")\n",
        "    a, b = b, a + b"
      ],
      "metadata": {
        "id": "a9jHJmdOg4zE",
        "outputId": "40296775-f5b1-429f-aa97-29b646164b2f",
        "colab": {
          "base_uri": "https://localhost:8080/"
        }
      },
      "execution_count": 8,
      "outputs": [
        {
          "output_type": "stream",
          "name": "stdout",
          "text": [
            "Fibonacci series up to 20 is:\n",
            "0 1 1 2 3 5 8 13 "
          ]
        }
      ]
    },
    {
      "cell_type": "code",
      "source": [
        "#program to print multiplication table of a given number\n",
        "num =3\n",
        "print(f\"Multiplication table of {num}:\")\n",
        "for i in range(1, 11):  # Loop from 1 to 10\n",
        "    print(f\"{num} x {i} = {num * i}\")"
      ],
      "metadata": {
        "id": "Aq-xZQcuiYoy",
        "outputId": "2fbbb350-f38f-4502-ffe5-3a30ae92b148",
        "colab": {
          "base_uri": "https://localhost:8080/"
        }
      },
      "execution_count": 11,
      "outputs": [
        {
          "output_type": "stream",
          "name": "stdout",
          "text": [
            "Multiplication table of 3:\n",
            "3 x 1 = 3\n",
            "3 x 2 = 6\n",
            "3 x 3 = 9\n",
            "3 x 4 = 12\n",
            "3 x 5 = 15\n",
            "3 x 6 = 18\n",
            "3 x 7 = 21\n",
            "3 x 8 = 24\n",
            "3 x 9 = 27\n",
            "3 x 10 = 30\n"
          ]
        }
      ]
    },
    {
      "cell_type": "code",
      "source": [
        "#given a list of word write a python program to cunt the number of words with more than 5 characters\n",
        "words = [\"apple\", \"banana\", \"grape\", \"strawberry\", \"kiwi\", \"orange\", \"pineapple\"]\n",
        "count = 0\n",
        "for word in words:\n",
        "    if len(word) > 5:  # Check if the word has more than 5 characters\n",
        "        count += 1\n",
        "        print(word)\n",
        "print(\"Number of words with more than 5 characters:\", count)"
      ],
      "metadata": {
        "id": "Rp_XNKOei0Dd",
        "outputId": "888be1c6-b427-4556-aeee-045b6a4dbbff",
        "colab": {
          "base_uri": "https://localhost:8080/"
        }
      },
      "execution_count": 13,
      "outputs": [
        {
          "output_type": "stream",
          "name": "stdout",
          "text": [
            "banana\n",
            "strawberry\n",
            "orange\n",
            "pineapple\n",
            "Number of words with more than 5 characters: 4\n"
          ]
        }
      ]
    },
    {
      "cell_type": "code",
      "source": [
        "#program to find the sum of first ten natural numbers\n",
        "n=10\n",
        "sum_of_numbers = n * (n + 1) // 2\n",
        "print(sum_of_numbers)"
      ],
      "metadata": {
        "id": "gFu4FSY7jtFl",
        "outputId": "1a834766-9f9c-42a8-aafa-f40e832bcdcd",
        "colab": {
          "base_uri": "https://localhost:8080/"
        }
      },
      "execution_count": 22,
      "outputs": [
        {
          "output_type": "stream",
          "name": "stdout",
          "text": [
            "55\n"
          ]
        }
      ]
    },
    {
      "cell_type": "code",
      "source": [
        "#program to calculate area of all types of triangle\n",
        "base=12\n",
        "height=12\n",
        "area=0.5*base*height\n",
        "print(area)"
      ],
      "metadata": {
        "id": "w6CYhFs3kNPd",
        "outputId": "7178ebde-4b6b-4c7c-a603-4d257648fdb0",
        "colab": {
          "base_uri": "https://localhost:8080/"
        }
      },
      "execution_count": 15,
      "outputs": [
        {
          "output_type": "stream",
          "name": "stdout",
          "text": [
            "72.0\n"
          ]
        }
      ]
    },
    {
      "cell_type": "code",
      "source": [],
      "metadata": {
        "id": "OytEHP3hlVue"
      },
      "execution_count": null,
      "outputs": []
    }
  ]
}