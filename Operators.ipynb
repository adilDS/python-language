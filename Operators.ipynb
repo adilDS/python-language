{
  "nbformat": 4,
  "nbformat_minor": 0,
  "metadata": {
    "colab": {
      "provenance": [],
      "gpuType": "T4"
    },
    "kernelspec": {
      "name": "python3",
      "display_name": "Python 3"
    },
    "language_info": {
      "name": "python"
    },
    "accelerator": "GPU"
  },
  "cells": [
    {
      "cell_type": "markdown",
      "source": [
        "# (Q)  ***Operators***:\n",
        "(A)  *In Python, operators are special symbols that perform operations on variables and values.\n",
        "\n",
        "   -Below are the different types of Operators:\n",
        "\n",
        "     -Arithmetic Operators\n",
        "     -Assignment Operators\n",
        "     -Comparison Operators\n",
        "     -Logical Operators"
      ],
      "metadata": {
        "id": "_p8VXSZbUvXF"
      }
    },
    {
      "cell_type": "code",
      "source": [
        "#Arithmetic Operator:\n",
        "#Addition:\n",
        "a=55\n",
        "b=22\n",
        "c=a+b\n",
        "print(c)"
      ],
      "metadata": {
        "colab": {
          "base_uri": "https://localhost:8080/"
        },
        "id": "kYgXQvF1VV2m",
        "outputId": "14f7d4b1-9b23-459d-afeb-c23aef3908a3"
      },
      "execution_count": 3,
      "outputs": [
        {
          "output_type": "stream",
          "name": "stdout",
          "text": [
            "77\n"
          ]
        }
      ]
    },
    {
      "cell_type": "code",
      "source": [
        "#Subtraction\n",
        "d=8\n",
        "c=5\n",
        "p=d-c\n",
        "print(p)"
      ],
      "metadata": {
        "colab": {
          "base_uri": "https://localhost:8080/"
        },
        "id": "dgOJe18xV2h0",
        "outputId": "6ec030ef-67b2-4217-f7f2-e07235d07f61"
      },
      "execution_count": 5,
      "outputs": [
        {
          "output_type": "stream",
          "name": "stdout",
          "text": [
            "3\n"
          ]
        }
      ]
    },
    {
      "cell_type": "code",
      "source": [
        "#Multiplication:\n",
        "w=65\n",
        "o=6\n",
        "e=w*o\n",
        "print(e)"
      ],
      "metadata": {
        "colab": {
          "base_uri": "https://localhost:8080/"
        },
        "id": "zatX-3WEWN6D",
        "outputId": "e85ba763-c06a-45b8-db6f-d5aaef133813"
      },
      "execution_count": 6,
      "outputs": [
        {
          "output_type": "stream",
          "name": "stdout",
          "text": [
            "390\n"
          ]
        }
      ]
    },
    {
      "cell_type": "code",
      "source": [
        "#Division:\n",
        "q=87\n",
        "f=9\n",
        "g=q/f\n",
        "print(g)"
      ],
      "metadata": {
        "colab": {
          "base_uri": "https://localhost:8080/"
        },
        "id": "-5mLKXhZWiGz",
        "outputId": "10a3e616-23ba-418d-d0a2-40317ef2fb63"
      },
      "execution_count": 7,
      "outputs": [
        {
          "output_type": "stream",
          "name": "stdout",
          "text": [
            "9.666666666666666\n"
          ]
        }
      ]
    },
    {
      "cell_type": "code",
      "source": [
        "#Remainder:\n",
        "j=23\n",
        "k=7\n",
        "l=j%k\n",
        "print(l)"
      ],
      "metadata": {
        "colab": {
          "base_uri": "https://localhost:8080/"
        },
        "id": "UWveqRwQWo9x",
        "outputId": "3f97f88d-7599-480b-d10f-dfc9a778a493"
      },
      "execution_count": 8,
      "outputs": [
        {
          "output_type": "stream",
          "name": "stdout",
          "text": [
            "2\n"
          ]
        }
      ]
    },
    {
      "cell_type": "code",
      "source": [
        "#Exponential:\n",
        "i=9\n",
        "u=3\n",
        "o=i**u\n",
        "print(o)"
      ],
      "metadata": {
        "colab": {
          "base_uri": "https://localhost:8080/"
        },
        "id": "JDwLzsw3WzvA",
        "outputId": "21abda7b-4ed2-4532-fddb-802d8099c91d"
      },
      "execution_count": 10,
      "outputs": [
        {
          "output_type": "stream",
          "name": "stdout",
          "text": [
            "729\n"
          ]
        }
      ]
    },
    {
      "cell_type": "code",
      "source": [
        "#Assignment Operators:\n",
        "#Assigning Operator:\n",
        "a=27\n",
        "print(a)"
      ],
      "metadata": {
        "colab": {
          "base_uri": "https://localhost:8080/"
        },
        "id": "Occ93GmAXBWe",
        "outputId": "2a6f0257-f703-4a44-9ee5-f7df162ce5e7"
      },
      "execution_count": 11,
      "outputs": [
        {
          "output_type": "stream",
          "name": "stdout",
          "text": [
            "27\n"
          ]
        }
      ]
    },
    {
      "cell_type": "code",
      "source": [
        "#Addition assignment:\n",
        "a=98\n",
        "m=26\n",
        "a+=m\n",
        "print(a)"
      ],
      "metadata": {
        "colab": {
          "base_uri": "https://localhost:8080/"
        },
        "id": "DVq-YhDDXa3Z",
        "outputId": "ce41c82e-09b0-4a38-e878-a95d47aae8a6"
      },
      "execution_count": 12,
      "outputs": [
        {
          "output_type": "stream",
          "name": "stdout",
          "text": [
            "124\n"
          ]
        }
      ]
    },
    {
      "cell_type": "code",
      "source": [
        "#Subtraction assignment:\n",
        "a=27\n",
        "o=9\n",
        "a-=o\n",
        "print(a)"
      ],
      "metadata": {
        "colab": {
          "base_uri": "https://localhost:8080/"
        },
        "id": "Lli3bV5MXkI8",
        "outputId": "d83a055f-6974-483e-8c5f-dfdb8b9af5df"
      },
      "execution_count": 13,
      "outputs": [
        {
          "output_type": "stream",
          "name": "stdout",
          "text": [
            "18\n"
          ]
        }
      ]
    },
    {
      "cell_type": "code",
      "source": [
        "#Multiplication assignment:\n",
        "a=98\n",
        "m=26\n",
        "a*=m\n",
        "print(a)"
      ],
      "metadata": {
        "colab": {
          "base_uri": "https://localhost:8080/"
        },
        "id": "VGsEdN6ZXvJV",
        "outputId": "6a6a3724-f917-44d7-f266-4fc8caf0037d"
      },
      "execution_count": 14,
      "outputs": [
        {
          "output_type": "stream",
          "name": "stdout",
          "text": [
            "2548\n"
          ]
        }
      ]
    },
    {
      "cell_type": "code",
      "source": [
        "#Division assignment:\n",
        "a=56\n",
        "m=38\n",
        "a/=m\n",
        "print(a)"
      ],
      "metadata": {
        "colab": {
          "base_uri": "https://localhost:8080/"
        },
        "id": "apMPqj39X0fj",
        "outputId": "ed48433c-2cb0-4be8-a688-14976009c4d0"
      },
      "execution_count": 17,
      "outputs": [
        {
          "output_type": "stream",
          "name": "stdout",
          "text": [
            "1.4736842105263157\n"
          ]
        }
      ]
    },
    {
      "cell_type": "code",
      "source": [
        "#Remainder assignment\n",
        "a=35\n",
        "m=2\n",
        "a%=m\n",
        "print(a)"
      ],
      "metadata": {
        "colab": {
          "base_uri": "https://localhost:8080/"
        },
        "id": "jRIuaiBiX5Es",
        "outputId": "05e54634-3e7c-4217-ecb6-f18d3927c27e"
      },
      "execution_count": 18,
      "outputs": [
        {
          "output_type": "stream",
          "name": "stdout",
          "text": [
            "1\n"
          ]
        }
      ]
    },
    {
      "cell_type": "code",
      "source": [
        "#Exponential assignment:\n",
        "e=8\n",
        "d=4\n",
        "e**=d\n",
        "print(e)\n"
      ],
      "metadata": {
        "colab": {
          "base_uri": "https://localhost:8080/"
        },
        "id": "VHmkZFtPX-My",
        "outputId": "fabe9c8d-26ae-4d8e-f8b4-0decae5c71a8"
      },
      "execution_count": 20,
      "outputs": [
        {
          "output_type": "stream",
          "name": "stdout",
          "text": [
            "4096\n"
          ]
        }
      ]
    },
    {
      "cell_type": "code",
      "source": [
        "#Comparision Operator:\n",
        "#is equal to\n",
        "w=6\n",
        "d=9\n",
        "print(\"w==d\",w==d)"
      ],
      "metadata": {
        "colab": {
          "base_uri": "https://localhost:8080/"
        },
        "id": "YMwc52RdYS4V",
        "outputId": "e12a6c56-1c49-4666-f1e1-d7ca3b5e0a97"
      },
      "execution_count": 21,
      "outputs": [
        {
          "output_type": "stream",
          "name": "stdout",
          "text": [
            "w==d False\n"
          ]
        }
      ]
    },
    {
      "cell_type": "code",
      "source": [
        "#not equal to\n",
        "a=98\n",
        "d=86\n",
        "print(\"a!=d\",a!=d)"
      ],
      "metadata": {
        "colab": {
          "base_uri": "https://localhost:8080/"
        },
        "id": "HyR02p95Yq0F",
        "outputId": "b136f97c-00ca-48e1-dcff-91e4012df983"
      },
      "execution_count": 22,
      "outputs": [
        {
          "output_type": "stream",
          "name": "stdout",
          "text": [
            "a!=d True\n"
          ]
        }
      ]
    },
    {
      "cell_type": "code",
      "source": [
        "#greater than\n",
        "g=84\n",
        "k=36\n",
        "print(\"g>k\",g>k)"
      ],
      "metadata": {
        "colab": {
          "base_uri": "https://localhost:8080/"
        },
        "id": "fzEmOu8UZ8oa",
        "outputId": "f6b88db7-ca6e-4131-c11d-3d2d790db585"
      },
      "execution_count": 23,
      "outputs": [
        {
          "output_type": "stream",
          "name": "stdout",
          "text": [
            "g>k True\n"
          ]
        }
      ]
    },
    {
      "cell_type": "code",
      "source": [
        "#less than\n",
        "s=74\n",
        "h=7\n",
        "print(\"s<h\",s<h)\n"
      ],
      "metadata": {
        "colab": {
          "base_uri": "https://localhost:8080/"
        },
        "id": "hL8ECV-iaOfs",
        "outputId": "dc6c14a9-ecf7-4904-fd8d-bcc9190a3261"
      },
      "execution_count": 24,
      "outputs": [
        {
          "output_type": "stream",
          "name": "stdout",
          "text": [
            "s<h False\n"
          ]
        }
      ]
    },
    {
      "cell_type": "code",
      "source": [
        "#greater tha or equal to\n",
        "d=33\n",
        "j=7\n",
        "print(\"d>=j\",d>=j)"
      ],
      "metadata": {
        "colab": {
          "base_uri": "https://localhost:8080/"
        },
        "id": "qZ77h2MgaUx7",
        "outputId": "a3ce7133-8811-461d-df55-f72ae8f285ac"
      },
      "execution_count": 25,
      "outputs": [
        {
          "output_type": "stream",
          "name": "stdout",
          "text": [
            "d>=j True\n"
          ]
        }
      ]
    },
    {
      "cell_type": "code",
      "source": [
        "#less than or equal to\n",
        "h=37\n",
        "p=72\n",
        "print(\"h<=p\",h<=p)"
      ],
      "metadata": {
        "colab": {
          "base_uri": "https://localhost:8080/"
        },
        "id": "dL-OlktKac8s",
        "outputId": "03548769-c068-4bf8-b6be-1d6650d616d2"
      },
      "execution_count": 26,
      "outputs": [
        {
          "output_type": "stream",
          "name": "stdout",
          "text": [
            "h<=p True\n"
          ]
        }
      ]
    },
    {
      "cell_type": "code",
      "source": [
        "#Logical Operators\n",
        "#and\n",
        "print(87>76 and 98>87)"
      ],
      "metadata": {
        "colab": {
          "base_uri": "https://localhost:8080/"
        },
        "id": "vqEp_zFGaj6J",
        "outputId": "500b46e8-e0b9-4e7d-a565-3943ebf2a171"
      },
      "execution_count": 27,
      "outputs": [
        {
          "output_type": "stream",
          "name": "stdout",
          "text": [
            "True\n"
          ]
        }
      ]
    },
    {
      "cell_type": "code",
      "source": [
        "#or\n",
        "print(54<27 or 9>75)"
      ],
      "metadata": {
        "colab": {
          "base_uri": "https://localhost:8080/"
        },
        "id": "IbQYmv8yazER",
        "outputId": "b8c207ac-ed91-46e9-e03c-7c4d9e63a793"
      },
      "execution_count": 29,
      "outputs": [
        {
          "output_type": "stream",
          "name": "stdout",
          "text": [
            "False\n"
          ]
        }
      ]
    },
    {
      "cell_type": "code",
      "source": [
        "#not\n",
        "print(2>7 and 82<84)"
      ],
      "metadata": {
        "colab": {
          "base_uri": "https://localhost:8080/"
        },
        "id": "J2_cvRl2a-jq",
        "outputId": "00a3373a-f45b-4f37-fc8c-62b11756c1ce"
      },
      "execution_count": 30,
      "outputs": [
        {
          "output_type": "stream",
          "name": "stdout",
          "text": [
            "False\n"
          ]
        }
      ]
    },
    {
      "cell_type": "code",
      "source": [],
      "metadata": {
        "id": "TC6tKCI8bH2Z"
      },
      "execution_count": null,
      "outputs": []
    }
  ]
}