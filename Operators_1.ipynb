{
  "nbformat": 4,
  "nbformat_minor": 0,
  "metadata": {
    "colab": {
      "provenance": [],
      "gpuType": "T4"
    },
    "kernelspec": {
      "name": "python3",
      "display_name": "Python 3"
    },
    "language_info": {
      "name": "python"
    },
    "accelerator": "GPU"
  },
  "cells": [
    {
      "cell_type": "markdown",
      "source": [
        "#Identity Operator :\n",
        "  \n",
        "  The identity operator is used to compare the memory addresses of two objects to determine if they are the same object.\n",
        "\n",
        "1) is: This operator returns True if both operands refer to the same object in memory.\n",
        "\n",
        "2) is not: This operator returns True if the operands do not refer to the same object.\n"
      ],
      "metadata": {
        "id": "ZNS6S3NcvANx"
      }
    },
    {
      "cell_type": "code",
      "source": [
        "#is\n",
        "x=299\n",
        "y=289\n",
        "p=\"Abdul\"\n",
        "w=\"Abdul\"\n",
        "print(x is y)\n",
        "print(p is w)"
      ],
      "metadata": {
        "colab": {
          "base_uri": "https://localhost:8080/"
        },
        "id": "lmzksF6av3dZ",
        "outputId": "bc648891-f95a-411a-ed21-316103e81c21"
      },
      "execution_count": 3,
      "outputs": [
        {
          "output_type": "stream",
          "name": "stdout",
          "text": [
            "False\n",
            "True\n"
          ]
        }
      ]
    },
    {
      "cell_type": "code",
      "source": [
        "a=263\n",
        "k=37\n",
        "q=37\n",
        "print(a is q)\n",
        "print(q is k)"
      ],
      "metadata": {
        "colab": {
          "base_uri": "https://localhost:8080/"
        },
        "id": "o_sxe0ClwZlq",
        "outputId": "fba4ff90-8f05-42da-ceb8-1c869c5b97bc"
      },
      "execution_count": 6,
      "outputs": [
        {
          "output_type": "stream",
          "name": "stdout",
          "text": [
            "False\n",
            "True\n"
          ]
        }
      ]
    },
    {
      "cell_type": "code",
      "source": [
        "#is not\n",
        "q=23\n",
        "w=23\n",
        "print(q is not w)"
      ],
      "metadata": {
        "colab": {
          "base_uri": "https://localhost:8080/"
        },
        "id": "FACnxoSDxWAj",
        "outputId": "f5b86066-5463-48e2-f681-779954559602"
      },
      "execution_count": 13,
      "outputs": [
        {
          "output_type": "stream",
          "name": "stdout",
          "text": [
            "False\n"
          ]
        }
      ]
    },
    {
      "cell_type": "code",
      "source": [
        "m=255\n",
        "o=367\n",
        "print(m is not o)"
      ],
      "metadata": {
        "colab": {
          "base_uri": "https://localhost:8080/"
        },
        "id": "Ei6KKG5dxe4s",
        "outputId": "e647d715-3c25-4701-b6ed-901e99b7f6b3"
      },
      "execution_count": 12,
      "outputs": [
        {
          "output_type": "stream",
          "name": "stdout",
          "text": [
            "True\n"
          ]
        }
      ]
    },
    {
      "cell_type": "markdown",
      "source": [
        "#Membership Operator:\n",
        "  \n",
        "  Membership operators are used to test whether a value or variable is found in a sequence.\n",
        "  There are two membership operators:\n",
        "\n",
        "in: Returns True if the specified value is found in the sequence.\n",
        "\n",
        "\n",
        "not in: Returns True if the specified value is not found in the sequence.\n",
        "Examples"
      ],
      "metadata": {
        "id": "JAw-CMeCx_lz"
      }
    },
    {
      "cell_type": "code",
      "source": [
        "#in\n",
        "p=(1,32,24,4,65)\n",
        "o=(276,32)\n",
        "print(32 in o)"
      ],
      "metadata": {
        "colab": {
          "base_uri": "https://localhost:8080/"
        },
        "id": "D271XC22xwnA",
        "outputId": "ba19af7d-a2d1-4c3b-d77f-d72bef0c5d9d"
      },
      "execution_count": 20,
      "outputs": [
        {
          "output_type": "stream",
          "name": "stdout",
          "text": [
            "True\n"
          ]
        }
      ]
    },
    {
      "cell_type": "code",
      "source": [
        "e=(1,2,3,4)\n",
        "r=(1,2,3)\n",
        "print(35 in e)"
      ],
      "metadata": {
        "colab": {
          "base_uri": "https://localhost:8080/"
        },
        "id": "G2SZ3PBgy5xn",
        "outputId": "f9dc595a-e3f3-4e56-cf94-9504ba496927"
      },
      "execution_count": 21,
      "outputs": [
        {
          "output_type": "stream",
          "name": "stdout",
          "text": [
            "False\n"
          ]
        }
      ]
    },
    {
      "cell_type": "code",
      "source": [
        "f=(1,2,3,4)\n",
        "print(3in f)"
      ],
      "metadata": {
        "colab": {
          "base_uri": "https://localhost:8080/"
        },
        "id": "Aigy-I3XzVf3",
        "outputId": "ae21b2bf-6b1d-44ed-e922-2500288d51b6"
      },
      "execution_count": 22,
      "outputs": [
        {
          "output_type": "stream",
          "name": "stdout",
          "text": [
            "True\n"
          ]
        }
      ]
    },
    {
      "cell_type": "code",
      "source": [
        "#not in\n",
        "p=(1,32,24,4,65)\n",
        "o=(276,32)\n",
        "print(32 not in o)"
      ],
      "metadata": {
        "colab": {
          "base_uri": "https://localhost:8080/"
        },
        "id": "IWSCzntFzbKA",
        "outputId": "6e0a5a6e-3b29-4ebd-990f-0dc8e3231eb7"
      },
      "execution_count": 23,
      "outputs": [
        {
          "output_type": "stream",
          "name": "stdout",
          "text": [
            "False\n"
          ]
        }
      ]
    },
    {
      "cell_type": "markdown",
      "source": [
        "#Bitwise Operator:\n",
        " bitwise operators are used to perform operations on binary representations of integers.\n",
        "\n",
        "1) AND (&): Compares each bit of two numbers and returns a new number whose bits are set to 1 only if both corresponding bits are 1.\n",
        "\n",
        "2)OR (|): Compares each bit of two numbers and returns a new number whose bits are set to 1 if at least one of the corresponding bits is 1.\n",
        "\n",
        "3)XOR (^): Compares each bit of two numbers and returns a new number whose bits are set to 1 if the corresponding bits are different.\n",
        "\n",
        "4)NOT (~): Inverts all bits of the number. The result is the two's complement of the number.\n",
        "\n",
        "5)Left Shift (<<): Shifts the bits of the first operand to the left by the number of positions specified by the second operand. This effectively multiplies the number by\n",
        "2\n",
        "number of positions\n",
        "2\n",
        "number of positions.\n",
        "\n",
        "6)Right Shift (>>): Shifts the bits of the first operand to the right by the number of positions specified by the second operand. This effectively divides the number by\n",
        "2\n",
        "number of positions\n",
        "2\n",
        "number of positions.\n",
        "\n"
      ],
      "metadata": {
        "id": "u4UhTIuI0Llu"
      }
    },
    {
      "cell_type": "code",
      "source": [
        "#and &\n",
        "print(22&34)"
      ],
      "metadata": {
        "colab": {
          "base_uri": "https://localhost:8080/"
        },
        "id": "ewgoB1ok1Wa3",
        "outputId": "887abc49-599a-44e7-dd2c-8e7ae1e3f52b"
      },
      "execution_count": 24,
      "outputs": [
        {
          "output_type": "stream",
          "name": "stdout",
          "text": [
            "2\n"
          ]
        }
      ]
    },
    {
      "cell_type": "code",
      "source": [
        "#or /\n",
        "print(252/28)"
      ],
      "metadata": {
        "colab": {
          "base_uri": "https://localhost:8080/"
        },
        "id": "u7hbDkl41dYd",
        "outputId": "b926efe5-a1dd-4190-ddd6-f794daea2e92"
      },
      "execution_count": 26,
      "outputs": [
        {
          "output_type": "stream",
          "name": "stdout",
          "text": [
            "9.0\n"
          ]
        }
      ]
    },
    {
      "cell_type": "code",
      "source": [
        "#xor ^\n",
        "print(26^2)"
      ],
      "metadata": {
        "colab": {
          "base_uri": "https://localhost:8080/"
        },
        "id": "MTgoijql1j9O",
        "outputId": "6b20004b-ac94-4df1-f784-4cf05ed4af8e"
      },
      "execution_count": 27,
      "outputs": [
        {
          "output_type": "stream",
          "name": "stdout",
          "text": [
            "24\n"
          ]
        }
      ]
    },
    {
      "cell_type": "code",
      "source": [
        "#not -\n",
        "print(~26)"
      ],
      "metadata": {
        "colab": {
          "base_uri": "https://localhost:8080/"
        },
        "id": "eyTwF1ks1xb3",
        "outputId": "5b215b07-0bee-4e83-acd9-c258a8b64d35"
      },
      "execution_count": 30,
      "outputs": [
        {
          "output_type": "stream",
          "name": "stdout",
          "text": [
            "-27\n"
          ]
        }
      ]
    },
    {
      "cell_type": "code",
      "source": [
        "#left shift <<\n",
        "print(366<<2)"
      ],
      "metadata": {
        "colab": {
          "base_uri": "https://localhost:8080/"
        },
        "id": "lkC5KDxw14A5",
        "outputId": "37b9eb30-6572-4696-8f23-9282be9e1cd6"
      },
      "execution_count": 31,
      "outputs": [
        {
          "output_type": "stream",
          "name": "stdout",
          "text": [
            "1464\n"
          ]
        }
      ]
    },
    {
      "cell_type": "code",
      "source": [
        "#right shift  >>\n",
        "print(26>>2)"
      ],
      "metadata": {
        "colab": {
          "base_uri": "https://localhost:8080/"
        },
        "id": "RBMJZ9Va2T2_",
        "outputId": "90209a4f-a947-401c-8096-04cf5ead8015"
      },
      "execution_count": 32,
      "outputs": [
        {
          "output_type": "stream",
          "name": "stdout",
          "text": [
            "6\n"
          ]
        }
      ]
    },
    {
      "cell_type": "code",
      "source": [
        "print(777&555)"
      ],
      "metadata": {
        "colab": {
          "base_uri": "https://localhost:8080/"
        },
        "id": "kz90bEb22aqc",
        "outputId": "e468024f-56d6-4c2b-c27b-ad842ce0f110"
      },
      "execution_count": 33,
      "outputs": [
        {
          "output_type": "stream",
          "name": "stdout",
          "text": [
            "521\n"
          ]
        }
      ]
    },
    {
      "cell_type": "code",
      "source": [
        "print(256/128)"
      ],
      "metadata": {
        "colab": {
          "base_uri": "https://localhost:8080/"
        },
        "id": "U3gESOFA2hRJ",
        "outputId": "57a9fe8f-9b42-49e5-a5b7-9e2e133497b6"
      },
      "execution_count": 34,
      "outputs": [
        {
          "output_type": "stream",
          "name": "stdout",
          "text": [
            "2.0\n"
          ]
        }
      ]
    },
    {
      "cell_type": "code",
      "source": [
        "print(457^781)"
      ],
      "metadata": {
        "colab": {
          "base_uri": "https://localhost:8080/"
        },
        "id": "icXMNYrS2lwS",
        "outputId": "18588ac9-d4b0-474f-8763-5e6df338320b"
      },
      "execution_count": 35,
      "outputs": [
        {
          "output_type": "stream",
          "name": "stdout",
          "text": [
            "708\n"
          ]
        }
      ]
    },
    {
      "cell_type": "code",
      "source": [
        "print(~971)"
      ],
      "metadata": {
        "colab": {
          "base_uri": "https://localhost:8080/"
        },
        "id": "OXQOXg3o2o9w",
        "outputId": "bc1ff3c8-30db-4136-8c5b-2a6d357e7eba"
      },
      "execution_count": 36,
      "outputs": [
        {
          "output_type": "stream",
          "name": "stdout",
          "text": [
            "-972\n"
          ]
        }
      ]
    },
    {
      "cell_type": "code",
      "source": [
        "print(391<<3)"
      ],
      "metadata": {
        "colab": {
          "base_uri": "https://localhost:8080/"
        },
        "id": "UVhto0S02vnS",
        "outputId": "10477009-2f2d-4568-ea73-b715f34062d3"
      },
      "execution_count": 37,
      "outputs": [
        {
          "output_type": "stream",
          "name": "stdout",
          "text": [
            "3128\n"
          ]
        }
      ]
    },
    {
      "cell_type": "code",
      "source": [
        "print(999>>2)"
      ],
      "metadata": {
        "colab": {
          "base_uri": "https://localhost:8080/"
        },
        "id": "fESNLqCM21R8",
        "outputId": "4d9bffe3-5d6a-4164-c027-174427283f6b"
      },
      "execution_count": 38,
      "outputs": [
        {
          "output_type": "stream",
          "name": "stdout",
          "text": [
            "249\n"
          ]
        }
      ]
    },
    {
      "cell_type": "code",
      "source": [],
      "metadata": {
        "id": "WQC_24BP24eI"
      },
      "execution_count": null,
      "outputs": []
    }
  ]
}