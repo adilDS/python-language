{
  "nbformat": 4,
  "nbformat_minor": 0,
  "metadata": {
    "colab": {
      "provenance": [],
      "gpuType": "T4"
    },
    "kernelspec": {
      "name": "python3",
      "display_name": "Python 3"
    },
    "language_info": {
      "name": "python"
    },
    "accelerator": "GPU"
  },
  "cells": [
    {
      "cell_type": "markdown",
      "source": [
        "#Dictionary:\n",
        "* A Python dictionary is a data structure that stores the value in key: value pairs.\n",
        "\n",
        "* The data is stored in key: value pairs in dictionaries, which makes it easier to find values.\n",
        "\n",
        "* Dictionaries are written with curly brackets.\n",
        "\n",
        "* A dictionary is a collection which is ordered*, changeable and do not allow duplicates.\n",
        "\n",
        "* Here are some examples for dictionary given below."
      ],
      "metadata": {
        "id": "mbS67DcdB1R4"
      }
    },
    {
      "cell_type": "code",
      "source": [
        "#Examples for Dictionary\n",
        "jk=\t{\"brand\": \"Ford\",\"model\": \"Mustang\",\"year\": 1969,\"power\": 200}\n",
        "print(jk)"
      ],
      "metadata": {
        "colab": {
          "base_uri": "https://localhost:8080/"
        },
        "id": "49FZzy1rC2dd",
        "outputId": "93c59313-df28-4d98-c00f-f715b2574cb9"
      },
      "execution_count": 1,
      "outputs": [
        {
          "output_type": "stream",
          "name": "stdout",
          "text": [
            "{'brand': 'Ford', 'model': 'Mustang', 'year': 1969, 'power': 200}\n"
          ]
        }
      ]
    },
    {
      "cell_type": "code",
      "source": [
        "pl={\"name\": \"John\",\"age\": 36,\"country\": \"Norway\",\"profession\": \"Engineer\"}\n",
        "print(pl)"
      ],
      "metadata": {
        "colab": {
          "base_uri": "https://localhost:8080/"
        },
        "id": "U4PKA-E6DpHc",
        "outputId": "f101e53c-1877-45a3-8ca4-8bcfba3be14c"
      },
      "execution_count": 2,
      "outputs": [
        {
          "output_type": "stream",
          "name": "stdout",
          "text": [
            "{'name': 'John', 'age': 36, 'country': 'Norway', 'profession': 'Engineer'}\n"
          ]
        }
      ]
    },
    {
      "cell_type": "code",
      "source": [
        "kad={\"employes\":200,\"roles\":30,\"salary range\":10000-20000}\n",
        "print(kad)"
      ],
      "metadata": {
        "colab": {
          "base_uri": "https://localhost:8080/"
        },
        "id": "naRqcGWXDwdV",
        "outputId": "9523d76f-fede-4774-b2b6-1db7ffccc872"
      },
      "execution_count": 4,
      "outputs": [
        {
          "output_type": "stream",
          "name": "stdout",
          "text": [
            "{'employes': 200, 'roles': 30, 'salary range': -10000}\n"
          ]
        }
      ]
    },
    {
      "cell_type": "code",
      "source": [
        "des={\"locality\":\"mallepally\",\"doctors\":198,\"engineers\":384,\"teachers\":200}\n",
        "print(des)"
      ],
      "metadata": {
        "colab": {
          "base_uri": "https://localhost:8080/"
        },
        "id": "7rJKKAkbEdcU",
        "outputId": "14615be1-dff2-4cba-b474-ebe506fa4317"
      },
      "execution_count": 5,
      "outputs": [
        {
          "output_type": "stream",
          "name": "stdout",
          "text": [
            "{'locality': 'mallepally', 'doctors': 198, 'engineers': 384, 'teachers': 200}\n"
          ]
        }
      ]
    },
    {
      "cell_type": "code",
      "source": [
        "wes={\"school\":\"kidz\",\"staff\":40,\"students\":250,\"cabins\":20}\n",
        "print(wes)"
      ],
      "metadata": {
        "colab": {
          "base_uri": "https://localhost:8080/"
        },
        "id": "AYXoECFtE7GK",
        "outputId": "fc5ce2b3-0fdb-4805-de3d-fe54205d9dbb"
      },
      "execution_count": 6,
      "outputs": [
        {
          "output_type": "stream",
          "name": "stdout",
          "text": [
            "{'school': 'kidz', 'staff': 40, 'students': 250, 'cabins': 20}\n"
          ]
        }
      ]
    },
    {
      "cell_type": "code",
      "source": [
        "#accessing the dictionary values\n",
        "pl={\"name\": \"John\",\"age\": 36,\"country\": \"Norway\",\"profession\": \"Engineer\"}\n",
        "pl[\"age\"]"
      ],
      "metadata": {
        "colab": {
          "base_uri": "https://localhost:8080/"
        },
        "id": "8XBS7IWPFf5c",
        "outputId": "f6072099-77af-410d-ba7a-82b6a758a25e"
      },
      "execution_count": 7,
      "outputs": [
        {
          "output_type": "execute_result",
          "data": {
            "text/plain": [
              "36"
            ]
          },
          "metadata": {},
          "execution_count": 7
        }
      ]
    },
    {
      "cell_type": "code",
      "source": [
        "des={\"locality\":\"mallepally\",\"doctors\":198,\"engineers\":384,\"teachers\":200}\n",
        "des[\"locality\"]"
      ],
      "metadata": {
        "colab": {
          "base_uri": "https://localhost:8080/",
          "height": 36
        },
        "id": "tkHzsZ8jGF8-",
        "outputId": "c65dd21b-80da-40a2-fbe9-0e013097c36d"
      },
      "execution_count": 8,
      "outputs": [
        {
          "output_type": "execute_result",
          "data": {
            "text/plain": [
              "'mallepally'"
            ],
            "application/vnd.google.colaboratory.intrinsic+json": {
              "type": "string"
            }
          },
          "metadata": {},
          "execution_count": 8
        }
      ]
    },
    {
      "cell_type": "code",
      "source": [
        "#Updating the values in an item\n",
        "des={\"locality\":\"mallepally\",\"doctors\":198,\"engineers\":384,\"teachers\":200}\n",
        "des[\"locality\"]=\"alkapur\"\n",
        "print(des)"
      ],
      "metadata": {
        "colab": {
          "base_uri": "https://localhost:8080/"
        },
        "id": "NFrDWRsQGTQG",
        "outputId": "98d8e546-780f-443b-b707-1d32106806b5"
      },
      "execution_count": 9,
      "outputs": [
        {
          "output_type": "stream",
          "name": "stdout",
          "text": [
            "{'locality': 'alkapur', 'doctors': 198, 'engineers': 384, 'teachers': 200}\n"
          ]
        }
      ]
    },
    {
      "cell_type": "code",
      "source": [
        "wes={\"school\":\"kidz\",\"staff\":40,\"students\":250,\"cabins\":20}\n",
        "wes[\"school\"]=\"kidz school\"\n",
        "print(wes)"
      ],
      "metadata": {
        "colab": {
          "base_uri": "https://localhost:8080/"
        },
        "id": "USBW6efuGkUB",
        "outputId": "1b6d4bed-5174-489a-a9d5-8d14868c6828"
      },
      "execution_count": 10,
      "outputs": [
        {
          "output_type": "stream",
          "name": "stdout",
          "text": [
            "{'school': 'kidz school', 'staff': 40, 'students': 250, 'cabins': 20}\n"
          ]
        }
      ]
    },
    {
      "cell_type": "code",
      "source": [
        "des={\"locality\":\"mallepally\",\"doctors\":198,\"engineers\":384,\"teachers\":200}\n",
        "print(des)"
      ],
      "metadata": {
        "colab": {
          "base_uri": "https://localhost:8080/"
        },
        "id": "s7Ce_gSuHImw",
        "outputId": "070cc566-31f3-45da-9a80-6d7a8e6f602f"
      },
      "execution_count": 20,
      "outputs": [
        {
          "output_type": "stream",
          "name": "stdout",
          "text": [
            "{'locality': 'mallepally', 'doctors': 198, 'engineers': 384, 'teachers': 200}\n"
          ]
        }
      ]
    },
    {
      "cell_type": "code",
      "source": [
        "#deleting items from dict\n",
        "des={\"locality\":\"mallepally\",\"doctors\":198,\"engineers\":384,\"teachers\":200}\n",
        "del des[\"locality\"]\n",
        "print(des)"
      ],
      "metadata": {
        "colab": {
          "base_uri": "https://localhost:8080/"
        },
        "id": "i2U5wzHGIIv0",
        "outputId": "ba8d9627-de6b-4940-a773-3022b621e272"
      },
      "execution_count": 1,
      "outputs": [
        {
          "output_type": "stream",
          "name": "stdout",
          "text": [
            "{'doctors': 198, 'engineers': 384, 'teachers': 200}\n"
          ]
        }
      ]
    },
    {
      "cell_type": "code",
      "source": [
        "wes={\"school\":\"kidz\",\"staff\":40,\"students\":250,\"cabins\":20}\n",
        "del wes[\"school\"]\n",
        "print(wes)"
      ],
      "metadata": {
        "colab": {
          "base_uri": "https://localhost:8080/"
        },
        "id": "p69QoEOeIZf2",
        "outputId": "239a4349-bf55-4e97-abfc-73b62c59a2bc"
      },
      "execution_count": 2,
      "outputs": [
        {
          "output_type": "stream",
          "name": "stdout",
          "text": [
            "{'staff': 40, 'students': 250, 'cabins': 20}\n"
          ]
        }
      ]
    },
    {
      "cell_type": "code",
      "source": [],
      "metadata": {
        "id": "WMOOwficIfU-"
      },
      "execution_count": null,
      "outputs": []
    },
    {
      "cell_type": "markdown",
      "source": [
        "#Method and Functions of Dictionary in Python:\n",
        "\n",
        "* clear()\tRemoves all the elements from the dictionary\n",
        "* copy()\tReturns a copy of the dictionary\n",
        "* fromkeys()\tReturns a dictionary with the specified keys and value\n",
        "* get()\tReturns the value of the specified key\n",
        "* items()\tReturns a list containing a tuple for each key value pair\n",
        "* keys()\tReturns a list containing the dictionary's keys\n",
        "* pop()\tRemoves the element with the specified key\n",
        "* popitem()\tRemoves the last inserted key-value pair\n",
        "* setdefault()\tReturns the value of the specified key. If the key does not * * * exist: insert the key, with the specified value\n",
        "* update()\tUpdates the dictionary with the specified key-value pairs\n",
        "* values()\tReturns a list of all the values in the dictionary"
      ],
      "metadata": {
        "id": "ShT-8Ip2JORa"
      }
    },
    {
      "cell_type": "code",
      "source": [
        "#clear()\n",
        "des={\"locality\":\"mallepally\",\"doctors\":198,\"engineers\":384,\"teachers\":200}\n",
        "des.clear()"
      ],
      "metadata": {
        "id": "kGx_l9_FJmbw"
      },
      "execution_count": 3,
      "outputs": []
    },
    {
      "cell_type": "code",
      "source": [
        "des"
      ],
      "metadata": {
        "colab": {
          "base_uri": "https://localhost:8080/"
        },
        "id": "Y7NW3HNJJqyX",
        "outputId": "eb357f78-4758-44c5-b12b-b5c005dec91e"
      },
      "execution_count": 4,
      "outputs": [
        {
          "output_type": "execute_result",
          "data": {
            "text/plain": [
              "{}"
            ]
          },
          "metadata": {},
          "execution_count": 4
        }
      ]
    },
    {
      "cell_type": "code",
      "source": [
        "#copy()\n",
        "des={\"locality\":\"mallepally\",\"doctors\":198,\"engineers\":384,\"teachers\":200}\n",
        "des.copy()"
      ],
      "metadata": {
        "colab": {
          "base_uri": "https://localhost:8080/"
        },
        "id": "WfN2jqWcJsrL",
        "outputId": "5bd5f9c1-42bd-4503-825d-ed3a8936bcb8"
      },
      "execution_count": 5,
      "outputs": [
        {
          "output_type": "execute_result",
          "data": {
            "text/plain": [
              "{'locality': 'mallepally', 'doctors': 198, 'engineers': 384, 'teachers': 200}"
            ]
          },
          "metadata": {},
          "execution_count": 5
        }
      ]
    },
    {
      "cell_type": "code",
      "source": [
        "#fromkeys()\n",
        "x = ('Abdul', 'role', 'rings')\n",
        "y = ('YASL')\n",
        "ld=dict.fromkeys(x, y)\n",
        "print(ld)"
      ],
      "metadata": {
        "colab": {
          "base_uri": "https://localhost:8080/"
        },
        "id": "owMEBASYJxRh",
        "outputId": "b93c7ac1-337e-4e44-a7a2-eb385c1639b4"
      },
      "execution_count": 7,
      "outputs": [
        {
          "output_type": "stream",
          "name": "stdout",
          "text": [
            "{'Abdul': 'YASL', 'role': 'YASL', 'rings': 'YASL'}\n"
          ]
        }
      ]
    },
    {
      "cell_type": "code",
      "source": [
        "#get()\n",
        "des={\"locality\":\"mallepally\",\"doctors\":198,\"engineers\":384,\"teachers\":200}\n",
        "des.get(\"locality\")"
      ],
      "metadata": {
        "colab": {
          "base_uri": "https://localhost:8080/",
          "height": 36
        },
        "id": "Xua8myzRKfxz",
        "outputId": "0083a413-94ac-44e4-c089-cfe419b61798"
      },
      "execution_count": 8,
      "outputs": [
        {
          "output_type": "execute_result",
          "data": {
            "text/plain": [
              "'mallepally'"
            ],
            "application/vnd.google.colaboratory.intrinsic+json": {
              "type": "string"
            }
          },
          "metadata": {},
          "execution_count": 8
        }
      ]
    },
    {
      "cell_type": "code",
      "source": [
        "#items()\n",
        "des={\"locality\":\"mallepally\",\"doctors\":198,\"engineers\":384,\"teachers\":200}\n",
        "des.items()"
      ],
      "metadata": {
        "colab": {
          "base_uri": "https://localhost:8080/"
        },
        "id": "yNisrHt6KyVY",
        "outputId": "b553fc75-5ce1-4b5f-9082-2febf6fe23de"
      },
      "execution_count": 9,
      "outputs": [
        {
          "output_type": "execute_result",
          "data": {
            "text/plain": [
              "dict_items([('locality', 'mallepally'), ('doctors', 198), ('engineers', 384), ('teachers', 200)])"
            ]
          },
          "metadata": {},
          "execution_count": 9
        }
      ]
    },
    {
      "cell_type": "code",
      "source": [
        "#keys()\n",
        "des={\"locality\":\"mallepally\",\"doctors\":198,\"engineers\":384,\"teachers\":200}\n",
        "des.keys()"
      ],
      "metadata": {
        "colab": {
          "base_uri": "https://localhost:8080/"
        },
        "id": "3iJ9B1hkK23Z",
        "outputId": "b5ad9b8c-e51d-444e-a2a7-e06547283065"
      },
      "execution_count": 10,
      "outputs": [
        {
          "output_type": "execute_result",
          "data": {
            "text/plain": [
              "dict_keys(['locality', 'doctors', 'engineers', 'teachers'])"
            ]
          },
          "metadata": {},
          "execution_count": 10
        }
      ]
    },
    {
      "cell_type": "code",
      "source": [
        "#pop()\n",
        "des={\"locality\":\"mallepally\",\"doctors\":198,\"engineers\":384,\"teachers\":200}\n",
        "des.pop(\"locality\")\n",
        "print(des)"
      ],
      "metadata": {
        "colab": {
          "base_uri": "https://localhost:8080/"
        },
        "id": "HVVE_7mDK8E4",
        "outputId": "27b21805-5e7c-4833-c197-69ded0d6a48f"
      },
      "execution_count": 12,
      "outputs": [
        {
          "output_type": "stream",
          "name": "stdout",
          "text": [
            "{'doctors': 198, 'engineers': 384, 'teachers': 200}\n"
          ]
        }
      ]
    },
    {
      "cell_type": "code",
      "source": [
        "#pop items()\n",
        "des={\"locality\":\"mallepally\",\"doctors\":198,\"engineers\":384,\"teachers\":200}\n",
        "des.popitem()\n",
        "print(des)"
      ],
      "metadata": {
        "colab": {
          "base_uri": "https://localhost:8080/"
        },
        "id": "fnDRvJAmK-YO",
        "outputId": "c60ac3f4-c9cc-4a4c-bb40-8ceb1bfb0077"
      },
      "execution_count": 13,
      "outputs": [
        {
          "output_type": "stream",
          "name": "stdout",
          "text": [
            "{'locality': 'mallepally', 'doctors': 198, 'engineers': 384}\n"
          ]
        }
      ]
    },
    {
      "cell_type": "code",
      "source": [
        "#setdefault()\n",
        "des={\"locality\":\"mallepally\",\"doctors\":198,\"engineers\":384,\"teachers\":200}\n",
        "des.setdefault(\"locality\")"
      ],
      "metadata": {
        "colab": {
          "base_uri": "https://localhost:8080/",
          "height": 36
        },
        "id": "LZK8HVO1LKgq",
        "outputId": "2367bd33-265d-41fc-e2e5-63f0e988a765"
      },
      "execution_count": 16,
      "outputs": [
        {
          "output_type": "execute_result",
          "data": {
            "text/plain": [
              "'mallepally'"
            ],
            "application/vnd.google.colaboratory.intrinsic+json": {
              "type": "string"
            }
          },
          "metadata": {},
          "execution_count": 16
        }
      ]
    },
    {
      "cell_type": "code",
      "source": [
        "#update()\n",
        "des={\"locality\":\"mallepally\",\"doctors\":198,\"engineers\":384,\"teachers\":200}\n",
        "des.update({\"locality\":\"nampally\"})\n",
        "print(des)"
      ],
      "metadata": {
        "colab": {
          "base_uri": "https://localhost:8080/"
        },
        "id": "BH6MWx9-LSd3",
        "outputId": "41cfb976-87f3-49c0-8791-8bde7470e4c6"
      },
      "execution_count": 18,
      "outputs": [
        {
          "output_type": "stream",
          "name": "stdout",
          "text": [
            "{'locality': 'nampally', 'doctors': 198, 'engineers': 384, 'teachers': 200}\n"
          ]
        }
      ]
    },
    {
      "cell_type": "code",
      "source": [
        "#values()\n",
        "des={\"locality\":\"mallepally\",\"doctors\":198,\"engineers\":384,\"teachers\":200}\n",
        "des.values()"
      ],
      "metadata": {
        "colab": {
          "base_uri": "https://localhost:8080/"
        },
        "id": "SJBeg3d9LhM5",
        "outputId": "24a32e53-5e3d-4247-e709-c36041bacd34"
      },
      "execution_count": 19,
      "outputs": [
        {
          "output_type": "execute_result",
          "data": {
            "text/plain": [
              "dict_values(['mallepally', 198, 384, 200])"
            ]
          },
          "metadata": {},
          "execution_count": 19
        }
      ]
    },
    {
      "cell_type": "code",
      "source": [],
      "metadata": {
        "id": "M0x-DckCLorF"
      },
      "execution_count": null,
      "outputs": []
    }
  ]
}